{
 "cells": [
  {
   "cell_type": "markdown",
   "metadata": {},
   "source": [
    "# New LS 220916 FINAL"
   ]
  },
  {
   "cell_type": "code",
   "execution_count": 1,
   "metadata": {},
   "outputs": [],
   "source": [
    "import pandas as pd\n",
    "import numpy as np\n",
    "import statsmodels.formula.api as smf\n",
    "from stargazer.stargazer import Stargazer\n",
    "from scipy.stats import f\n",
    "\n",
    "pd.set_option('Display.max_columns', 100)\n",
    "pd.set_option('display.float_format', lambda x: '%.5f' % x)"
   ]
  },
  {
   "cell_type": "code",
   "execution_count": 2,
   "metadata": {},
   "outputs": [],
   "source": [
    "# dfReg = pd.read_excel(\"./교수님 전달 파일/0914 datafile excluded version.xlsx\", sheet_name=None, header = 4)\n",
    "dfReg = pd.read_excel(\"./교수님 전달 파일/0915 datafile excluded version dmaintain.xlsx\", sheet_name=None, header = 4)"
   ]
  },
  {
   "cell_type": "code",
   "execution_count": 3,
   "metadata": {},
   "outputs": [
    {
     "data": {
      "text/plain": [
       "dict_keys(['2011년', '2012년', '2013년', '2014년', '2015년', '2016년', '2017년', '2018년', '2019년', '2020년', '2021년'])"
      ]
     },
     "execution_count": 3,
     "metadata": {},
     "output_type": "execute_result"
    }
   ],
   "source": [
    "dfReg.keys()"
   ]
  },
  {
   "cell_type": "code",
   "execution_count": 4,
   "metadata": {},
   "outputs": [],
   "source": [
    "raw = pd.concat(dfReg, ignore_index=True)"
   ]
  },
  {
   "cell_type": "code",
   "execution_count": 5,
   "metadata": {},
   "outputs": [
    {
     "data": {
      "text/html": [
       "<div>\n",
       "<style scoped>\n",
       "    .dataframe tbody tr th:only-of-type {\n",
       "        vertical-align: middle;\n",
       "    }\n",
       "\n",
       "    .dataframe tbody tr th {\n",
       "        vertical-align: top;\n",
       "    }\n",
       "\n",
       "    .dataframe thead th {\n",
       "        text-align: right;\n",
       "    }\n",
       "</style>\n",
       "<table border=\"1\" class=\"dataframe\">\n",
       "  <thead>\n",
       "    <tr style=\"text-align: right;\">\n",
       "      <th></th>\n",
       "      <th>낙찰율(예대)</th>\n",
       "      <th>연도</th>\n",
       "      <th>기초금액</th>\n",
       "      <th>1순위투찰금액</th>\n",
       "      <th>업체수</th>\n",
       "      <th>담합</th>\n",
       "      <th>점검정비</th>\n",
       "      <th>공고명</th>\n",
       "      <th>공고번호</th>\n",
       "      <th>감정</th>\n",
       "    </tr>\n",
       "  </thead>\n",
       "  <tbody>\n",
       "    <tr>\n",
       "      <th>0</th>\n",
       "      <td>0.98573</td>\n",
       "      <td>2011</td>\n",
       "      <td>1667277480</td>\n",
       "      <td>1654180000</td>\n",
       "      <td>3</td>\n",
       "      <td>0</td>\n",
       "      <td>0</td>\n",
       "      <td>동부엔바이로 탈수슬러지 위탁처리 용역 [공가]</td>\n",
       "      <td>2011-0004</td>\n",
       "      <td>NaN</td>\n",
       "    </tr>\n",
       "    <tr>\n",
       "      <th>1</th>\n",
       "      <td>0.99842</td>\n",
       "      <td>2011</td>\n",
       "      <td>1667277480</td>\n",
       "      <td>1654180000</td>\n",
       "      <td>2</td>\n",
       "      <td>0</td>\n",
       "      <td>0</td>\n",
       "      <td>(재공고)동부엔바이로 탈수슬러지 위탁처리 용역 [공가]</td>\n",
       "      <td>2011-0022</td>\n",
       "      <td>NaN</td>\n",
       "    </tr>\n",
       "    <tr>\n",
       "      <th>2</th>\n",
       "      <td>0.77106</td>\n",
       "      <td>2011</td>\n",
       "      <td>1514040000</td>\n",
       "      <td>1176800000</td>\n",
       "      <td>3</td>\n",
       "      <td>0</td>\n",
       "      <td>0</td>\n",
       "      <td>서울시 양재대로 수도권 2,3단계 관로이설공사 책임감리용역</td>\n",
       "      <td>2010-1774</td>\n",
       "      <td>감정</td>\n",
       "    </tr>\n",
       "  </tbody>\n",
       "</table>\n",
       "</div>"
      ],
      "text/plain": [
       "   낙찰율(예대)    연도        기초금액     1순위투찰금액  업체수  담합  점검정비  \\\n",
       "0  0.98573  2011  1667277480  1654180000    3   0     0   \n",
       "1  0.99842  2011  1667277480  1654180000    2   0     0   \n",
       "2  0.77106  2011  1514040000  1176800000    3   0     0   \n",
       "\n",
       "                                공고명       공고번호   감정  \n",
       "0         동부엔바이로 탈수슬러지 위탁처리 용역 [공가]  2011-0004  NaN  \n",
       "1    (재공고)동부엔바이로 탈수슬러지 위탁처리 용역 [공가]  2011-0022  NaN  \n",
       "2  서울시 양재대로 수도권 2,3단계 관로이설공사 책임감리용역  2010-1774   감정  "
      ]
     },
     "execution_count": 5,
     "metadata": {},
     "output_type": "execute_result"
    }
   ],
   "source": [
    "df_raw = raw[['낙찰율(예대)','연도','기초금액','1순위투찰금액','업체수','담합','점검정비','공고명','공고번호','감정']]\n",
    "df_raw.head(3)"
   ]
  },
  {
   "cell_type": "code",
   "execution_count": 6,
   "metadata": {},
   "outputs": [
    {
     "data": {
      "text/plain": [
       "58"
      ]
     },
     "execution_count": 6,
     "metadata": {},
     "output_type": "execute_result"
    }
   ],
   "source": [
    "df_raw['점검정비'].sum()"
   ]
  },
  {
   "cell_type": "code",
   "execution_count": 7,
   "metadata": {},
   "outputs": [
    {
     "data": {
      "text/html": [
       "<div>\n",
       "<style scoped>\n",
       "    .dataframe tbody tr th:only-of-type {\n",
       "        vertical-align: middle;\n",
       "    }\n",
       "\n",
       "    .dataframe tbody tr th {\n",
       "        vertical-align: top;\n",
       "    }\n",
       "\n",
       "    .dataframe thead th {\n",
       "        text-align: right;\n",
       "    }\n",
       "</style>\n",
       "<table border=\"1\" class=\"dataframe\">\n",
       "  <thead>\n",
       "    <tr style=\"text-align: right;\">\n",
       "      <th></th>\n",
       "      <th>낙찰율(예대)</th>\n",
       "      <th>연도</th>\n",
       "      <th>기초금액</th>\n",
       "      <th>1순위투찰금액</th>\n",
       "      <th>업체수</th>\n",
       "      <th>담합</th>\n",
       "      <th>점검정비</th>\n",
       "      <th>공고명</th>\n",
       "      <th>공고번호</th>\n",
       "      <th>감정</th>\n",
       "    </tr>\n",
       "  </thead>\n",
       "  <tbody>\n",
       "    <tr>\n",
       "      <th>598</th>\n",
       "      <td>NaN</td>\n",
       "      <td>2021</td>\n",
       "      <td>2110804300</td>\n",
       "      <td>0</td>\n",
       "      <td>0</td>\n",
       "      <td>0</td>\n",
       "      <td>0</td>\n",
       "      <td>김천시 지방상수도 현대화사업 유지관리시스템 구축 용역 (긴급공고) [급][제한][공...</td>\n",
       "      <td>20211118019-00</td>\n",
       "      <td>NaN</td>\n",
       "    </tr>\n",
       "    <tr>\n",
       "      <th>599</th>\n",
       "      <td>0.80242</td>\n",
       "      <td>2021</td>\n",
       "      <td>3538007000</td>\n",
       "      <td>2862260000</td>\n",
       "      <td>3</td>\n",
       "      <td>0</td>\n",
       "      <td>0</td>\n",
       "      <td>문경시 지방상수도 현대화사업 유지관리시스템 구축 용역 [제한][공가]</td>\n",
       "      <td>B5202104324</td>\n",
       "      <td>NaN</td>\n",
       "    </tr>\n",
       "    <tr>\n",
       "      <th>600</th>\n",
       "      <td>0.83543</td>\n",
       "      <td>2021</td>\n",
       "      <td>2062000000</td>\n",
       "      <td>1734700000</td>\n",
       "      <td>2</td>\n",
       "      <td>0</td>\n",
       "      <td>0</td>\n",
       "      <td>금강남부권(2차) 급수체계조정사업 기본 및 실시설계용역 [공가][PQ]</td>\n",
       "      <td>B5202104219</td>\n",
       "      <td>NaN</td>\n",
       "    </tr>\n",
       "  </tbody>\n",
       "</table>\n",
       "</div>"
      ],
      "text/plain": [
       "     낙찰율(예대)    연도        기초금액     1순위투찰금액  업체수  담합  점검정비  \\\n",
       "598      NaN  2021  2110804300           0    0   0     0   \n",
       "599  0.80242  2021  3538007000  2862260000    3   0     0   \n",
       "600  0.83543  2021  2062000000  1734700000    2   0     0   \n",
       "\n",
       "                                                   공고명            공고번호   감정  \n",
       "598  김천시 지방상수도 현대화사업 유지관리시스템 구축 용역 (긴급공고) [급][제한][공...  20211118019-00  NaN  \n",
       "599             문경시 지방상수도 현대화사업 유지관리시스템 구축 용역 [제한][공가]     B5202104324  NaN  \n",
       "600            금강남부권(2차) 급수체계조정사업 기본 및 실시설계용역 [공가][PQ]     B5202104219  NaN  "
      ]
     },
     "execution_count": 7,
     "metadata": {},
     "output_type": "execute_result"
    }
   ],
   "source": [
    "df_raw.tail(3)"
   ]
  },
  {
   "cell_type": "code",
   "execution_count": 8,
   "metadata": {},
   "outputs": [
    {
     "data": {
      "text/plain": [
       "(30, 58)"
      ]
     },
     "execution_count": 8,
     "metadata": {},
     "output_type": "execute_result"
    }
   ],
   "source": [
    "df_raw['담합'].sum() ,df_raw['점검정비'].sum() # 30 & 44 ok"
   ]
  },
  {
   "cell_type": "code",
   "execution_count": 9,
   "metadata": {},
   "outputs": [
    {
     "data": {
      "text/plain": [
       "낙찰율(예대)     17\n",
       "연도           0\n",
       "기초금액         0\n",
       "1순위투찰금액      0\n",
       "업체수          0\n",
       "담합           0\n",
       "점검정비         0\n",
       "공고명          0\n",
       "공고번호         0\n",
       "감정         525\n",
       "dtype: int64"
      ]
     },
     "execution_count": 9,
     "metadata": {},
     "output_type": "execute_result"
    }
   ],
   "source": [
    "df_raw.isna().sum()"
   ]
  },
  {
   "cell_type": "code",
   "execution_count": 10,
   "metadata": {},
   "outputs": [
    {
     "data": {
      "text/html": [
       "<div>\n",
       "<style scoped>\n",
       "    .dataframe tbody tr th:only-of-type {\n",
       "        vertical-align: middle;\n",
       "    }\n",
       "\n",
       "    .dataframe tbody tr th {\n",
       "        vertical-align: top;\n",
       "    }\n",
       "\n",
       "    .dataframe thead th {\n",
       "        text-align: right;\n",
       "    }\n",
       "</style>\n",
       "<table border=\"1\" class=\"dataframe\">\n",
       "  <thead>\n",
       "    <tr style=\"text-align: right;\">\n",
       "      <th></th>\n",
       "      <th>낙찰율(예대)</th>\n",
       "      <th>연도</th>\n",
       "      <th>기초금액</th>\n",
       "      <th>1순위투찰금액</th>\n",
       "      <th>업체수</th>\n",
       "      <th>담합</th>\n",
       "      <th>점검정비</th>\n",
       "      <th>공고명</th>\n",
       "      <th>공고번호</th>\n",
       "      <th>감정</th>\n",
       "    </tr>\n",
       "  </thead>\n",
       "  <tbody>\n",
       "    <tr>\n",
       "      <th>114</th>\n",
       "      <td>0.88008</td>\n",
       "      <td>2013</td>\n",
       "      <td>2120679000</td>\n",
       "      <td>1870000000</td>\n",
       "      <td>2</td>\n",
       "      <td>0</td>\n",
       "      <td>1</td>\n",
       "      <td>발전통합운영시스템 점검정비 용역 [공가][PQ]</td>\n",
       "      <td>2013-2242</td>\n",
       "      <td>NaN</td>\n",
       "    </tr>\n",
       "    <tr>\n",
       "      <th>153</th>\n",
       "      <td>0.77231</td>\n",
       "      <td>2015</td>\n",
       "      <td>11263076000</td>\n",
       "      <td>8667054000</td>\n",
       "      <td>2</td>\n",
       "      <td>0</td>\n",
       "      <td>1</td>\n",
       "      <td>수도 및 댐보시설 점검정비용역(제7권역) [정][제한][공가][PQ]</td>\n",
       "      <td>2015-1021</td>\n",
       "      <td>NaN</td>\n",
       "    </tr>\n",
       "    <tr>\n",
       "      <th>171</th>\n",
       "      <td>0.67048</td>\n",
       "      <td>2015</td>\n",
       "      <td>2137534902</td>\n",
       "      <td>1442100000</td>\n",
       "      <td>3</td>\n",
       "      <td>0</td>\n",
       "      <td>1</td>\n",
       "      <td>발전통합운영시스템 점검정비 용역 [제한][공가]</td>\n",
       "      <td>2015-2590</td>\n",
       "      <td>NaN</td>\n",
       "    </tr>\n",
       "    <tr>\n",
       "      <th>195</th>\n",
       "      <td>0.76228</td>\n",
       "      <td>2016</td>\n",
       "      <td>37480949000</td>\n",
       "      <td>28668709378</td>\n",
       "      <td>2</td>\n",
       "      <td>0</td>\n",
       "      <td>1</td>\n",
       "      <td>수도 및 댐.보시설 점검정비용역(제1권역) [제한][공가][PQ]</td>\n",
       "      <td>2016-3954</td>\n",
       "      <td>NaN</td>\n",
       "    </tr>\n",
       "    <tr>\n",
       "      <th>196</th>\n",
       "      <td>0.76306</td>\n",
       "      <td>2016</td>\n",
       "      <td>34433058000</td>\n",
       "      <td>26320629535</td>\n",
       "      <td>2</td>\n",
       "      <td>0</td>\n",
       "      <td>1</td>\n",
       "      <td>수도 및 댐.보시설 점검정비용역(제2권역) [공가][PQ]</td>\n",
       "      <td>2016-3957</td>\n",
       "      <td>NaN</td>\n",
       "    </tr>\n",
       "    <tr>\n",
       "      <th>204</th>\n",
       "      <td>0.77821</td>\n",
       "      <td>2016</td>\n",
       "      <td>23107194000</td>\n",
       "      <td>17986364000</td>\n",
       "      <td>2</td>\n",
       "      <td>0</td>\n",
       "      <td>1</td>\n",
       "      <td>수도 및 댐.보시설 점검정비용역(제4권역) [제한][공가][PQ]</td>\n",
       "      <td>2016-4776</td>\n",
       "      <td>NaN</td>\n",
       "    </tr>\n",
       "    <tr>\n",
       "      <th>205</th>\n",
       "      <td>0.77602</td>\n",
       "      <td>2016</td>\n",
       "      <td>27371223000</td>\n",
       "      <td>21203534000</td>\n",
       "      <td>2</td>\n",
       "      <td>0</td>\n",
       "      <td>1</td>\n",
       "      <td>수도 및 댐.보시설 점검정비용역(제5권역) [제한][공가][PQ]</td>\n",
       "      <td>2016-4777</td>\n",
       "      <td>NaN</td>\n",
       "    </tr>\n",
       "    <tr>\n",
       "      <th>206</th>\n",
       "      <td>0.77751</td>\n",
       "      <td>2016</td>\n",
       "      <td>13463494000</td>\n",
       "      <td>10481812000</td>\n",
       "      <td>2</td>\n",
       "      <td>0</td>\n",
       "      <td>1</td>\n",
       "      <td>수도 및 댐.보시설 점검정비용역(제6권역) [제한][PQ]</td>\n",
       "      <td>2016-4779</td>\n",
       "      <td>NaN</td>\n",
       "    </tr>\n",
       "    <tr>\n",
       "      <th>232</th>\n",
       "      <td>0.80759</td>\n",
       "      <td>2017</td>\n",
       "      <td>1026265000</td>\n",
       "      <td>836000000</td>\n",
       "      <td>2</td>\n",
       "      <td>0</td>\n",
       "      <td>1</td>\n",
       "      <td>2017~2018년 수도 ICT 점검정비 용역(한강권역) [공가]</td>\n",
       "      <td>2017-0856</td>\n",
       "      <td>NaN</td>\n",
       "    </tr>\n",
       "    <tr>\n",
       "      <th>233</th>\n",
       "      <td>0.82664</td>\n",
       "      <td>2017</td>\n",
       "      <td>1476076000</td>\n",
       "      <td>1224500000</td>\n",
       "      <td>2</td>\n",
       "      <td>0</td>\n",
       "      <td>1</td>\n",
       "      <td>2017~2018년 수도 ICT 점검정비 용역(금·영·섬권역) [공가]</td>\n",
       "      <td>2017-0857</td>\n",
       "      <td>NaN</td>\n",
       "    </tr>\n",
       "    <tr>\n",
       "      <th>326</th>\n",
       "      <td>0.87152</td>\n",
       "      <td>2019</td>\n",
       "      <td>1114555000</td>\n",
       "      <td>964084000</td>\n",
       "      <td>2</td>\n",
       "      <td>0</td>\n",
       "      <td>1</td>\n",
       "      <td>2019~2020년 수도 ICT 점검정비 용역(한강권역) [제한][공가]</td>\n",
       "      <td>B5201900378</td>\n",
       "      <td>NaN</td>\n",
       "    </tr>\n",
       "    <tr>\n",
       "      <th>327</th>\n",
       "      <td>0.92930</td>\n",
       "      <td>2019</td>\n",
       "      <td>1472399000</td>\n",
       "      <td>1369331000</td>\n",
       "      <td>2</td>\n",
       "      <td>0</td>\n",
       "      <td>1</td>\n",
       "      <td>2019~2020년 수도 ICT 점검정비 용역(금영섬권역) [제한][공가]</td>\n",
       "      <td>B5201900379</td>\n",
       "      <td>NaN</td>\n",
       "    </tr>\n",
       "    <tr>\n",
       "      <th>328</th>\n",
       "      <td>0.92446</td>\n",
       "      <td>2019</td>\n",
       "      <td>1007926000</td>\n",
       "      <td>926629000</td>\n",
       "      <td>2</td>\n",
       "      <td>0</td>\n",
       "      <td>1</td>\n",
       "      <td>2019~2020년 수도 ICT 점검정비 용역(낙동강권역) [제한][공가]</td>\n",
       "      <td>B5201900380</td>\n",
       "      <td>NaN</td>\n",
       "    </tr>\n",
       "    <tr>\n",
       "      <th>398</th>\n",
       "      <td>0.91564</td>\n",
       "      <td>2020</td>\n",
       "      <td>3311011000</td>\n",
       "      <td>3046130120</td>\n",
       "      <td>2</td>\n",
       "      <td>0</td>\n",
       "      <td>1</td>\n",
       "      <td>`20~`21년 수자원 ICT 및 수도정보 시스템 점검정비 용역 [제한][공가]</td>\n",
       "      <td>B5201903729</td>\n",
       "      <td>NaN</td>\n",
       "    </tr>\n",
       "    <tr>\n",
       "      <th>529</th>\n",
       "      <td>0.93435</td>\n",
       "      <td>2021</td>\n",
       "      <td>1779371000</td>\n",
       "      <td>1645930000</td>\n",
       "      <td>2</td>\n",
       "      <td>0</td>\n",
       "      <td>1</td>\n",
       "      <td>2021~2022년 수도ICT 점검정비 용역(한강유역) [제한][공가]</td>\n",
       "      <td>B5202100756</td>\n",
       "      <td>NaN</td>\n",
       "    </tr>\n",
       "    <tr>\n",
       "      <th>534</th>\n",
       "      <td>0.89633</td>\n",
       "      <td>2021</td>\n",
       "      <td>1251723000</td>\n",
       "      <td>1126926217</td>\n",
       "      <td>2</td>\n",
       "      <td>0</td>\n",
       "      <td>1</td>\n",
       "      <td>2021~2022년 수도ICT 점검정비 용역(금강유역) [정][제한][공가]</td>\n",
       "      <td>B5202100758</td>\n",
       "      <td>NaN</td>\n",
       "    </tr>\n",
       "    <tr>\n",
       "      <th>535</th>\n",
       "      <td>0.90363</td>\n",
       "      <td>2021</td>\n",
       "      <td>1423917000</td>\n",
       "      <td>1295250000</td>\n",
       "      <td>2</td>\n",
       "      <td>0</td>\n",
       "      <td>1</td>\n",
       "      <td>2021~2022년 수도ICT 점검정비 용역(낙동강유역) [정][제한][공가]</td>\n",
       "      <td>B5202100760</td>\n",
       "      <td>NaN</td>\n",
       "    </tr>\n",
       "    <tr>\n",
       "      <th>587</th>\n",
       "      <td>0.95649</td>\n",
       "      <td>2021</td>\n",
       "      <td>3305720000</td>\n",
       "      <td>3135000000</td>\n",
       "      <td>2</td>\n",
       "      <td>0</td>\n",
       "      <td>1</td>\n",
       "      <td>2022~2023년 수자원 ICT시스템 점검정비 용역 [제한][공가]</td>\n",
       "      <td>B5202104331</td>\n",
       "      <td>NaN</td>\n",
       "    </tr>\n",
       "    <tr>\n",
       "      <th>596</th>\n",
       "      <td>0.83292</td>\n",
       "      <td>2021</td>\n",
       "      <td>2847768000</td>\n",
       "      <td>2370000000</td>\n",
       "      <td>2</td>\n",
       "      <td>0</td>\n",
       "      <td>1</td>\n",
       "      <td>발전통합운영시스템 점검정비 용역(22~23년) [제한][공가]</td>\n",
       "      <td>B5202104692</td>\n",
       "      <td>NaN</td>\n",
       "    </tr>\n",
       "  </tbody>\n",
       "</table>\n",
       "</div>"
      ],
      "text/plain": [
       "     낙찰율(예대)    연도         기초금액      1순위투찰금액  업체수  담합  점검정비  \\\n",
       "114  0.88008  2013   2120679000   1870000000    2   0     1   \n",
       "153  0.77231  2015  11263076000   8667054000    2   0     1   \n",
       "171  0.67048  2015   2137534902   1442100000    3   0     1   \n",
       "195  0.76228  2016  37480949000  28668709378    2   0     1   \n",
       "196  0.76306  2016  34433058000  26320629535    2   0     1   \n",
       "204  0.77821  2016  23107194000  17986364000    2   0     1   \n",
       "205  0.77602  2016  27371223000  21203534000    2   0     1   \n",
       "206  0.77751  2016  13463494000  10481812000    2   0     1   \n",
       "232  0.80759  2017   1026265000    836000000    2   0     1   \n",
       "233  0.82664  2017   1476076000   1224500000    2   0     1   \n",
       "326  0.87152  2019   1114555000    964084000    2   0     1   \n",
       "327  0.92930  2019   1472399000   1369331000    2   0     1   \n",
       "328  0.92446  2019   1007926000    926629000    2   0     1   \n",
       "398  0.91564  2020   3311011000   3046130120    2   0     1   \n",
       "529  0.93435  2021   1779371000   1645930000    2   0     1   \n",
       "534  0.89633  2021   1251723000   1126926217    2   0     1   \n",
       "535  0.90363  2021   1423917000   1295250000    2   0     1   \n",
       "587  0.95649  2021   3305720000   3135000000    2   0     1   \n",
       "596  0.83292  2021   2847768000   2370000000    2   0     1   \n",
       "\n",
       "                                              공고명         공고번호   감정  \n",
       "114                    발전통합운영시스템 점검정비 용역 [공가][PQ]    2013-2242  NaN  \n",
       "153        수도 및 댐보시설 점검정비용역(제7권역) [정][제한][공가][PQ]    2015-1021  NaN  \n",
       "171                    발전통합운영시스템 점검정비 용역 [제한][공가]    2015-2590  NaN  \n",
       "195          수도 및 댐.보시설 점검정비용역(제1권역) [제한][공가][PQ]    2016-3954  NaN  \n",
       "196              수도 및 댐.보시설 점검정비용역(제2권역) [공가][PQ]    2016-3957  NaN  \n",
       "204          수도 및 댐.보시설 점검정비용역(제4권역) [제한][공가][PQ]    2016-4776  NaN  \n",
       "205          수도 및 댐.보시설 점검정비용역(제5권역) [제한][공가][PQ]    2016-4777  NaN  \n",
       "206              수도 및 댐.보시설 점검정비용역(제6권역) [제한][PQ]    2016-4779  NaN  \n",
       "232          2017~2018년 수도 ICT 점검정비 용역(한강권역) [공가]    2017-0856  NaN  \n",
       "233       2017~2018년 수도 ICT 점검정비 용역(금·영·섬권역) [공가]    2017-0857  NaN  \n",
       "326      2019~2020년 수도 ICT 점검정비 용역(한강권역) [제한][공가]  B5201900378  NaN  \n",
       "327     2019~2020년 수도 ICT 점검정비 용역(금영섬권역) [제한][공가]  B5201900379  NaN  \n",
       "328     2019~2020년 수도 ICT 점검정비 용역(낙동강권역) [제한][공가]  B5201900380  NaN  \n",
       "398  `20~`21년 수자원 ICT 및 수도정보 시스템 점검정비 용역 [제한][공가]  B5201903729  NaN  \n",
       "529       2021~2022년 수도ICT 점검정비 용역(한강유역) [제한][공가]  B5202100756  NaN  \n",
       "534    2021~2022년 수도ICT 점검정비 용역(금강유역) [정][제한][공가]  B5202100758  NaN  \n",
       "535   2021~2022년 수도ICT 점검정비 용역(낙동강유역) [정][제한][공가]  B5202100760  NaN  \n",
       "587        2022~2023년 수자원 ICT시스템 점검정비 용역 [제한][공가]  B5202104331  NaN  \n",
       "596            발전통합운영시스템 점검정비 용역(22~23년) [제한][공가]  B5202104692  NaN  "
      ]
     },
     "execution_count": 10,
     "metadata": {},
     "output_type": "execute_result"
    }
   ],
   "source": [
    "df_raw.loc[(df_raw['점검정비'] == 1) & (df_raw['담합'] == 0) & (df_raw['연도'] != 2018)]"
   ]
  },
  {
   "cell_type": "markdown",
   "metadata": {},
   "source": [
    "### 0. 유찰된 데이터 제거 및 확인"
   ]
  },
  {
   "cell_type": "code",
   "execution_count": 11,
   "metadata": {},
   "outputs": [
    {
     "data": {
      "text/plain": [
       "30"
      ]
     },
     "execution_count": 11,
     "metadata": {},
     "output_type": "execute_result"
    }
   ],
   "source": [
    "df_temp1 = df_raw.loc[(df_raw['1순위투찰금액'] != 0) & (df_raw['낙찰율(예대)'].isna() != True), ['낙찰율(예대)','연도', '기초금액', '업체수', '담합', '점검정비','공고명','감정']]\n",
    "df_temp1.head(3)\n",
    "df_temp1.shape\n",
    "df_temp1['담합'].sum() # 28"
   ]
  },
  {
   "cell_type": "code",
   "execution_count": 12,
   "metadata": {},
   "outputs": [
    {
     "data": {
      "text/plain": [
       "(134, 7)"
      ]
     },
     "execution_count": 12,
     "metadata": {},
     "output_type": "execute_result"
    }
   ],
   "source": [
    "df_temp1 = df_temp1.loc[(~(df_temp1['감정'].isna())) | (df_temp1['점검정비']==1), df_temp1.columns != '감정']\n",
    "df_temp1.shape"
   ]
  },
  {
   "cell_type": "code",
   "execution_count": 13,
   "metadata": {},
   "outputs": [
    {
     "data": {
      "text/plain": [
       "58"
      ]
     },
     "execution_count": 13,
     "metadata": {},
     "output_type": "execute_result"
    }
   ],
   "source": [
    "df_temp1['점검정비'].sum()"
   ]
  },
  {
   "cell_type": "code",
   "execution_count": 14,
   "metadata": {},
   "outputs": [
    {
     "data": {
      "text/html": [
       "<div>\n",
       "<style scoped>\n",
       "    .dataframe tbody tr th:only-of-type {\n",
       "        vertical-align: middle;\n",
       "    }\n",
       "\n",
       "    .dataframe tbody tr th {\n",
       "        vertical-align: top;\n",
       "    }\n",
       "\n",
       "    .dataframe thead th {\n",
       "        text-align: right;\n",
       "    }\n",
       "</style>\n",
       "<table border=\"1\" class=\"dataframe\">\n",
       "  <thead>\n",
       "    <tr style=\"text-align: right;\">\n",
       "      <th></th>\n",
       "      <th>낙찰율(예대)</th>\n",
       "      <th>연도</th>\n",
       "      <th>기초금액</th>\n",
       "      <th>업체수</th>\n",
       "      <th>담합</th>\n",
       "      <th>점검정비</th>\n",
       "      <th>공고명</th>\n",
       "    </tr>\n",
       "  </thead>\n",
       "  <tbody>\n",
       "    <tr>\n",
       "      <th>56</th>\n",
       "      <td>0.90325</td>\n",
       "      <td>2012</td>\n",
       "      <td>4123000000</td>\n",
       "      <td>2</td>\n",
       "      <td>1</td>\n",
       "      <td>1</td>\n",
       "      <td>(재공고)지하수 관측망 점검정비 용역(12~13) [공가][PQ]</td>\n",
       "    </tr>\n",
       "    <tr>\n",
       "      <th>131</th>\n",
       "      <td>0.90351</td>\n",
       "      <td>2014</td>\n",
       "      <td>4181900000</td>\n",
       "      <td>2</td>\n",
       "      <td>1</td>\n",
       "      <td>1</td>\n",
       "      <td>지하수 관측망 점검정비(14~15)용역 [PQ]</td>\n",
       "    </tr>\n",
       "  </tbody>\n",
       "</table>\n",
       "</div>"
      ],
      "text/plain": [
       "     낙찰율(예대)    연도        기초금액  업체수  담합  점검정비  \\\n",
       "56   0.90325  2012  4123000000    2   1     1   \n",
       "131  0.90351  2014  4181900000    2   1     1   \n",
       "\n",
       "                                      공고명  \n",
       "56   (재공고)지하수 관측망 점검정비 용역(12~13) [공가][PQ]  \n",
       "131            지하수 관측망 점검정비(14~15)용역 [PQ]  "
      ]
     },
     "execution_count": 14,
     "metadata": {},
     "output_type": "execute_result"
    }
   ],
   "source": [
    "df_temp1.loc[((df_temp1['담합'] == 1) & (df_temp1['낙찰율(예대)'] > 0.9))]"
   ]
  },
  {
   "cell_type": "code",
   "execution_count": 15,
   "metadata": {},
   "outputs": [
    {
     "data": {
      "text/plain": [
       "(132, 7)"
      ]
     },
     "execution_count": 15,
     "metadata": {},
     "output_type": "execute_result"
    }
   ],
   "source": [
    "\"\"\" 담합 데이터 2개 제거 \"\"\"\n",
    "\n",
    "df_temp1 = df_temp1.loc[~((df_temp1['담합'] == 1) & (df_temp1['낙찰율(예대)'] > 0.9))]\n",
    "df_temp1.shape"
   ]
  },
  {
   "cell_type": "code",
   "execution_count": 16,
   "metadata": {},
   "outputs": [
    {
     "data": {
      "text/html": [
       "<div>\n",
       "<style scoped>\n",
       "    .dataframe tbody tr th:only-of-type {\n",
       "        vertical-align: middle;\n",
       "    }\n",
       "\n",
       "    .dataframe tbody tr th {\n",
       "        vertical-align: top;\n",
       "    }\n",
       "\n",
       "    .dataframe thead th {\n",
       "        text-align: right;\n",
       "    }\n",
       "</style>\n",
       "<table border=\"1\" class=\"dataframe\">\n",
       "  <thead>\n",
       "    <tr style=\"text-align: right;\">\n",
       "      <th></th>\n",
       "      <th>낙찰율(예대)</th>\n",
       "      <th>연도</th>\n",
       "      <th>기초금액</th>\n",
       "      <th>업체수</th>\n",
       "      <th>담합</th>\n",
       "      <th>점검정비</th>\n",
       "      <th>공고명</th>\n",
       "    </tr>\n",
       "  </thead>\n",
       "  <tbody>\n",
       "  </tbody>\n",
       "</table>\n",
       "</div>"
      ],
      "text/plain": [
       "Empty DataFrame\n",
       "Columns: [낙찰율(예대), 연도, 기초금액, 업체수, 담합, 점검정비, 공고명]\n",
       "Index: []"
      ]
     },
     "execution_count": 16,
     "metadata": {},
     "output_type": "execute_result"
    }
   ],
   "source": [
    "df_temp1.loc[df_temp1['기초금액'] < 1000000000] # 10억보다 작은 금액 존재 X"
   ]
  },
  {
   "cell_type": "code",
   "execution_count": 17,
   "metadata": {},
   "outputs": [
    {
     "data": {
      "text/plain": [
       "array([2011, 2012, 2013, 2014, 2015, 2016, 2017, 2018, 2019, 2020, 2021],\n",
       "      dtype=int64)"
      ]
     },
     "execution_count": 17,
     "metadata": {},
     "output_type": "execute_result"
    }
   ],
   "source": [
    "df_temp1['연도'].unique()"
   ]
  },
  {
   "cell_type": "markdown",
   "metadata": {},
   "source": [
    "### 1. 연도별 더미 생성"
   ]
  },
  {
   "cell_type": "code",
   "execution_count": 28,
   "metadata": {},
   "outputs": [],
   "source": [
    "df_temp2 = df_temp1.copy()\n",
    "# df_temp2[['d2011','d2012','d2013','d2014','d2015','d2016','d2017','d2018','d2019','d2020']] = 0\n",
    "df_temp2[['d2011','d2012','d2013','d2014','d2016','d2017','d2018','d2019','d2020']] = 0\n",
    "df_temp2.loc[df_temp2['연도'] == 2011, 'd2011'] = 1 \n",
    "df_temp2.loc[df_temp2['연도'] == 2012, 'd2012'] = 1 \n",
    "df_temp2.loc[df_temp2['연도'] == 2013, 'd2013'] = 1 \n",
    "df_temp2.loc[df_temp2['연도'] == 2014, 'd2014'] = 1 \n",
    "df_temp2.loc[df_temp2['연도'] == 2015, 'd2014'] = 1 \n",
    "df_temp2.loc[df_temp2['연도'] == 2016, 'd2016'] = 1 \n",
    "df_temp2.loc[df_temp2['연도'] == 2017, 'd2017'] = 1 \n",
    "df_temp2.loc[df_temp2['연도'] == 2018, 'd2018'] = 1 \n",
    "df_temp2.loc[df_temp2['연도'] == 2019, 'd2019'] = 1 \n",
    "df_temp2.loc[df_temp2['연도'] == 2020, 'd2020'] = 1 "
   ]
  },
  {
   "cell_type": "code",
   "execution_count": 29,
   "metadata": {},
   "outputs": [
    {
     "data": {
      "text/html": [
       "<div>\n",
       "<style scoped>\n",
       "    .dataframe tbody tr th:only-of-type {\n",
       "        vertical-align: middle;\n",
       "    }\n",
       "\n",
       "    .dataframe tbody tr th {\n",
       "        vertical-align: top;\n",
       "    }\n",
       "\n",
       "    .dataframe thead th {\n",
       "        text-align: right;\n",
       "    }\n",
       "</style>\n",
       "<table border=\"1\" class=\"dataframe\">\n",
       "  <thead>\n",
       "    <tr style=\"text-align: right;\">\n",
       "      <th></th>\n",
       "      <th>낙찰율(예대)</th>\n",
       "      <th>연도</th>\n",
       "      <th>기초금액</th>\n",
       "      <th>업체수</th>\n",
       "      <th>담합</th>\n",
       "      <th>점검정비</th>\n",
       "      <th>공고명</th>\n",
       "      <th>d2011</th>\n",
       "      <th>d2012</th>\n",
       "      <th>d2013</th>\n",
       "      <th>d2014</th>\n",
       "      <th>d2016</th>\n",
       "      <th>d2017</th>\n",
       "      <th>d2018</th>\n",
       "      <th>d2019</th>\n",
       "      <th>d2020</th>\n",
       "    </tr>\n",
       "  </thead>\n",
       "  <tbody>\n",
       "    <tr>\n",
       "      <th>2</th>\n",
       "      <td>0.77106</td>\n",
       "      <td>2011</td>\n",
       "      <td>1514040000</td>\n",
       "      <td>3</td>\n",
       "      <td>0</td>\n",
       "      <td>0</td>\n",
       "      <td>서울시 양재대로 수도권 2,3단계 관로이설공사 책임감리용역</td>\n",
       "      <td>1</td>\n",
       "      <td>0</td>\n",
       "      <td>0</td>\n",
       "      <td>0</td>\n",
       "      <td>0</td>\n",
       "      <td>0</td>\n",
       "      <td>0</td>\n",
       "      <td>0</td>\n",
       "      <td>0</td>\n",
       "    </tr>\n",
       "    <tr>\n",
       "      <th>6</th>\n",
       "      <td>0.75040</td>\n",
       "      <td>2011</td>\n",
       "      <td>1947383000</td>\n",
       "      <td>7</td>\n",
       "      <td>0</td>\n",
       "      <td>0</td>\n",
       "      <td>시화MTV광역교통개선대책 서해안로 확장 및 교차로 입체화공사 책임감리 용역 [공가]...</td>\n",
       "      <td>1</td>\n",
       "      <td>0</td>\n",
       "      <td>0</td>\n",
       "      <td>0</td>\n",
       "      <td>0</td>\n",
       "      <td>0</td>\n",
       "      <td>0</td>\n",
       "      <td>0</td>\n",
       "      <td>0</td>\n",
       "    </tr>\n",
       "    <tr>\n",
       "      <th>8</th>\n",
       "      <td>0.76853</td>\n",
       "      <td>2011</td>\n",
       "      <td>1429000000</td>\n",
       "      <td>2</td>\n",
       "      <td>0</td>\n",
       "      <td>0</td>\n",
       "      <td>충남충북지역(2단계) 지하수시설 전수조사</td>\n",
       "      <td>1</td>\n",
       "      <td>0</td>\n",
       "      <td>0</td>\n",
       "      <td>0</td>\n",
       "      <td>0</td>\n",
       "      <td>0</td>\n",
       "      <td>0</td>\n",
       "      <td>0</td>\n",
       "      <td>0</td>\n",
       "    </tr>\n",
       "  </tbody>\n",
       "</table>\n",
       "</div>"
      ],
      "text/plain": [
       "   낙찰율(예대)    연도        기초금액  업체수  담합  점검정비  \\\n",
       "2  0.77106  2011  1514040000    3   0     0   \n",
       "6  0.75040  2011  1947383000    7   0     0   \n",
       "8  0.76853  2011  1429000000    2   0     0   \n",
       "\n",
       "                                                 공고명  d2011  d2012  d2013  \\\n",
       "2                   서울시 양재대로 수도권 2,3단계 관로이설공사 책임감리용역      1      0      0   \n",
       "6  시화MTV광역교통개선대책 서해안로 확장 및 교차로 입체화공사 책임감리 용역 [공가]...      1      0      0   \n",
       "8                             충남충북지역(2단계) 지하수시설 전수조사      1      0      0   \n",
       "\n",
       "   d2014  d2016  d2017  d2018  d2019  d2020  \n",
       "2      0      0      0      0      0      0  \n",
       "6      0      0      0      0      0      0  \n",
       "8      0      0      0      0      0      0  "
      ]
     },
     "execution_count": 29,
     "metadata": {},
     "output_type": "execute_result"
    }
   ],
   "source": [
    "df_temp2.head(3)"
   ]
  },
  {
   "cell_type": "markdown",
   "metadata": {},
   "source": [
    "### 2. 규모 더미 생성 (33% & 66% Quantile)"
   ]
  },
  {
   "cell_type": "code",
   "execution_count": 30,
   "metadata": {},
   "outputs": [
    {
     "data": {
      "text/plain": [
       "0.33000   1503229200.00000\n",
       "0.66000   3493165940.00000\n",
       "Name: 기초금액, dtype: float64"
      ]
     },
     "execution_count": 30,
     "metadata": {},
     "output_type": "execute_result"
    }
   ],
   "source": [
    "df_temp2['기초금액'].sort_values().quantile([.33, .66])"
   ]
  },
  {
   "cell_type": "code",
   "execution_count": 31,
   "metadata": {},
   "outputs": [
    {
     "data": {
      "text/plain": [
       "(132, 18)"
      ]
     },
     "execution_count": 31,
     "metadata": {},
     "output_type": "execute_result"
    }
   ],
   "source": [
    "df_temp3 = df_temp2.copy()\n",
    "df_temp3['d33'] = 0\n",
    "df_temp3['d66'] = 0\n",
    "\n",
    "df_temp3.loc[df_temp3['기초금액'] < df_temp2['기초금액'].sort_values().quantile(.33), 'd33'] = 1\n",
    "df_temp3.loc[(df_temp3['기초금액'] > df_temp2['기초금액'].sort_values().quantile(.33)) & (df_temp3['기초금액'] < df_temp2['기초금액'].sort_values().quantile(.66)), 'd66'] = 1\n",
    "df_temp3.shape"
   ]
  },
  {
   "cell_type": "markdown",
   "metadata": {},
   "source": [
    "### 3. 업체수 규제 (완전 제거 & 20으로 고정)"
   ]
  },
  {
   "cell_type": "code",
   "execution_count": 32,
   "metadata": {},
   "outputs": [],
   "source": [
    "df_temp4 = df_temp3.copy()"
   ]
  },
  {
   "cell_type": "code",
   "execution_count": 33,
   "metadata": {},
   "outputs": [
    {
     "data": {
      "text/plain": [
       "(132, 19)"
      ]
     },
     "execution_count": 33,
     "metadata": {},
     "output_type": "execute_result"
    }
   ],
   "source": [
    "# 3-2. dnumfirm2 : 업체수 20 이상은 NAN 으로 값 줘서 추후 삭제\n",
    "df_temp4['dnumfirm2'] = np.nan\n",
    "df_temp4.loc[df_temp4['업체수'] <= 20, 'dnumfirm2'] = df_temp4.loc[df_temp4['업체수'] <= 20, '업체수']\n",
    "df_temp4 = df_temp4.dropna()\n",
    "df_temp4.shape"
   ]
  },
  {
   "cell_type": "markdown",
   "metadata": {},
   "source": [
    "### 4. Linear Regression 준비 위한 dataframe 재정비"
   ]
  },
  {
   "cell_type": "code",
   "execution_count": 36,
   "metadata": {},
   "outputs": [
    {
     "data": {
      "text/html": [
       "<div>\n",
       "<style scoped>\n",
       "    .dataframe tbody tr th:only-of-type {\n",
       "        vertical-align: middle;\n",
       "    }\n",
       "\n",
       "    .dataframe tbody tr th {\n",
       "        vertical-align: top;\n",
       "    }\n",
       "\n",
       "    .dataframe thead th {\n",
       "        text-align: right;\n",
       "    }\n",
       "</style>\n",
       "<table border=\"1\" class=\"dataframe\">\n",
       "  <thead>\n",
       "    <tr style=\"text-align: right;\">\n",
       "      <th></th>\n",
       "      <th>낙찰율(예대)</th>\n",
       "      <th>Collusion</th>\n",
       "      <th>기초금액</th>\n",
       "      <th>dnumfirm2</th>\n",
       "      <th>d2011</th>\n",
       "      <th>d2012</th>\n",
       "      <th>d2013</th>\n",
       "      <th>d2014</th>\n",
       "      <th>d2016</th>\n",
       "      <th>d2017</th>\n",
       "      <th>d2018</th>\n",
       "      <th>d2019</th>\n",
       "      <th>d2020</th>\n",
       "      <th>d33</th>\n",
       "      <th>d66</th>\n",
       "      <th>dmaintain</th>\n",
       "      <th>공고명</th>\n",
       "      <th>연도</th>\n",
       "      <th>tenderRatio</th>\n",
       "      <th>LnCash</th>\n",
       "    </tr>\n",
       "  </thead>\n",
       "  <tbody>\n",
       "    <tr>\n",
       "      <th>2</th>\n",
       "      <td>0.77106</td>\n",
       "      <td>0</td>\n",
       "      <td>1514040000</td>\n",
       "      <td>3</td>\n",
       "      <td>1</td>\n",
       "      <td>0</td>\n",
       "      <td>0</td>\n",
       "      <td>0</td>\n",
       "      <td>0</td>\n",
       "      <td>0</td>\n",
       "      <td>0</td>\n",
       "      <td>0</td>\n",
       "      <td>0</td>\n",
       "      <td>0</td>\n",
       "      <td>1</td>\n",
       "      <td>0</td>\n",
       "      <td>서울시 양재대로 수도권 2,3단계 관로이설공사 책임감리용역</td>\n",
       "      <td>2011</td>\n",
       "      <td>77.10555</td>\n",
       "      <td>21.13805</td>\n",
       "    </tr>\n",
       "    <tr>\n",
       "      <th>6</th>\n",
       "      <td>0.75040</td>\n",
       "      <td>0</td>\n",
       "      <td>1947383000</td>\n",
       "      <td>7</td>\n",
       "      <td>1</td>\n",
       "      <td>0</td>\n",
       "      <td>0</td>\n",
       "      <td>0</td>\n",
       "      <td>0</td>\n",
       "      <td>0</td>\n",
       "      <td>0</td>\n",
       "      <td>0</td>\n",
       "      <td>0</td>\n",
       "      <td>0</td>\n",
       "      <td>1</td>\n",
       "      <td>0</td>\n",
       "      <td>시화MTV광역교통개선대책 서해안로 확장 및 교차로 입체화공사 책임감리 용역 [공가]...</td>\n",
       "      <td>2011</td>\n",
       "      <td>75.03988</td>\n",
       "      <td>21.38975</td>\n",
       "    </tr>\n",
       "    <tr>\n",
       "      <th>8</th>\n",
       "      <td>0.76853</td>\n",
       "      <td>0</td>\n",
       "      <td>1429000000</td>\n",
       "      <td>2</td>\n",
       "      <td>1</td>\n",
       "      <td>0</td>\n",
       "      <td>0</td>\n",
       "      <td>0</td>\n",
       "      <td>0</td>\n",
       "      <td>0</td>\n",
       "      <td>0</td>\n",
       "      <td>0</td>\n",
       "      <td>0</td>\n",
       "      <td>1</td>\n",
       "      <td>0</td>\n",
       "      <td>0</td>\n",
       "      <td>충남충북지역(2단계) 지하수시설 전수조사</td>\n",
       "      <td>2011</td>\n",
       "      <td>76.85339</td>\n",
       "      <td>21.08024</td>\n",
       "    </tr>\n",
       "    <tr>\n",
       "      <th>9</th>\n",
       "      <td>0.74321</td>\n",
       "      <td>0</td>\n",
       "      <td>1346000000</td>\n",
       "      <td>2</td>\n",
       "      <td>1</td>\n",
       "      <td>0</td>\n",
       "      <td>0</td>\n",
       "      <td>0</td>\n",
       "      <td>0</td>\n",
       "      <td>0</td>\n",
       "      <td>0</td>\n",
       "      <td>0</td>\n",
       "      <td>0</td>\n",
       "      <td>1</td>\n",
       "      <td>0</td>\n",
       "      <td>0</td>\n",
       "      <td>전남전북지역(2단계) 지하수시설 전수조사</td>\n",
       "      <td>2011</td>\n",
       "      <td>74.32124</td>\n",
       "      <td>21.02040</td>\n",
       "    </tr>\n",
       "    <tr>\n",
       "      <th>10</th>\n",
       "      <td>0.81523</td>\n",
       "      <td>0</td>\n",
       "      <td>1119800000</td>\n",
       "      <td>2</td>\n",
       "      <td>1</td>\n",
       "      <td>0</td>\n",
       "      <td>0</td>\n",
       "      <td>0</td>\n",
       "      <td>0</td>\n",
       "      <td>0</td>\n",
       "      <td>0</td>\n",
       "      <td>0</td>\n",
       "      <td>0</td>\n",
       "      <td>1</td>\n",
       "      <td>0</td>\n",
       "      <td>0</td>\n",
       "      <td>댐 비상대처계획 수립 용역 [공가][PQ]</td>\n",
       "      <td>2011</td>\n",
       "      <td>81.52287</td>\n",
       "      <td>20.83642</td>\n",
       "    </tr>\n",
       "  </tbody>\n",
       "</table>\n",
       "</div>"
      ],
      "text/plain": [
       "    낙찰율(예대)  Collusion        기초금액  dnumfirm2  d2011  d2012  d2013  d2014  \\\n",
       "2   0.77106          0  1514040000          3      1      0      0      0   \n",
       "6   0.75040          0  1947383000          7      1      0      0      0   \n",
       "8   0.76853          0  1429000000          2      1      0      0      0   \n",
       "9   0.74321          0  1346000000          2      1      0      0      0   \n",
       "10  0.81523          0  1119800000          2      1      0      0      0   \n",
       "\n",
       "    d2016  d2017  d2018  d2019  d2020  d33  d66  dmaintain  \\\n",
       "2       0      0      0      0      0    0    1          0   \n",
       "6       0      0      0      0      0    0    1          0   \n",
       "8       0      0      0      0      0    1    0          0   \n",
       "9       0      0      0      0      0    1    0          0   \n",
       "10      0      0      0      0      0    1    0          0   \n",
       "\n",
       "                                                  공고명    연도  tenderRatio  \\\n",
       "2                    서울시 양재대로 수도권 2,3단계 관로이설공사 책임감리용역  2011     77.10555   \n",
       "6   시화MTV광역교통개선대책 서해안로 확장 및 교차로 입체화공사 책임감리 용역 [공가]...  2011     75.03988   \n",
       "8                              충남충북지역(2단계) 지하수시설 전수조사  2011     76.85339   \n",
       "9                              전남전북지역(2단계) 지하수시설 전수조사  2011     74.32124   \n",
       "10                            댐 비상대처계획 수립 용역 [공가][PQ]  2011     81.52287   \n",
       "\n",
       "     LnCash  \n",
       "2  21.13805  \n",
       "6  21.38975  \n",
       "8  21.08024  \n",
       "9  21.02040  \n",
       "10 20.83642  "
      ]
     },
     "execution_count": 36,
     "metadata": {},
     "output_type": "execute_result"
    }
   ],
   "source": [
    "# df_temp5 = df_temp4[['낙찰율(예대)','담합', '기초금액','dnumfirm2','d2011','d2012','d2013','d2014','d2015','d2016','d2017','d2018','d2019','d2020','d33','d66','점검정비','공고명','연도']]\n",
    "df_temp5 = df_temp4[['낙찰율(예대)','담합', '기초금액','dnumfirm2','d2011','d2012','d2013','d2014','d2016','d2017','d2018','d2019','d2020','d33','d66','점검정비','공고명','연도']]\n",
    "df_temp5 = df_temp5.copy()\n",
    "df_temp5['낙찰율'] = df_temp5['낙찰율(예대)']*100\n",
    "df_temp5['ln기초금액'] = np.log(df_temp5['기초금액'])\n",
    "df_temp5 = df_temp5.rename(columns = {\"낙찰율\" : \"tenderRatio\", \"담합\" : \"Collusion\", \"ln기초금액\" : \"LnCash\", \"점검정비\" : \"dmaintain\"})\n",
    "df_temp5.head()"
   ]
  },
  {
   "cell_type": "code",
   "execution_count": 37,
   "metadata": {},
   "outputs": [
    {
     "data": {
      "text/plain": [
       "(132, 20)"
      ]
     },
     "execution_count": 37,
     "metadata": {},
     "output_type": "execute_result"
    }
   ],
   "source": [
    "df_temp5['dnumfirm2'].isna().sum() #60\n",
    "df_temp5.shape # 640"
   ]
  },
  {
   "cell_type": "code",
   "execution_count": 38,
   "metadata": {},
   "outputs": [
    {
     "data": {
      "text/plain": [
       "낙찰율(예대)        0\n",
       "Collusion      0\n",
       "기초금액           0\n",
       "dnumfirm2      0\n",
       "d2011          0\n",
       "d2012          0\n",
       "d2013          0\n",
       "d2014          0\n",
       "d2016          0\n",
       "d2017          0\n",
       "d2018          0\n",
       "d2019          0\n",
       "d2020          0\n",
       "d33            0\n",
       "d66            0\n",
       "dmaintain      0\n",
       "공고명            0\n",
       "연도             0\n",
       "tenderRatio    0\n",
       "LnCash         0\n",
       "dtype: int64"
      ]
     },
     "execution_count": 38,
     "metadata": {},
     "output_type": "execute_result"
    }
   ],
   "source": [
    "df_temp5.isna().sum()"
   ]
  },
  {
   "cell_type": "code",
   "execution_count": 39,
   "metadata": {},
   "outputs": [
    {
     "data": {
      "text/plain": [
       "28"
      ]
     },
     "execution_count": 39,
     "metadata": {},
     "output_type": "execute_result"
    }
   ],
   "source": [
    "df_temp5['Collusion'].sum()"
   ]
  },
  {
   "cell_type": "markdown",
   "metadata": {},
   "source": [
    "### 4-1. 연도별 더미 추가 생성"
   ]
  },
  {
   "cell_type": "code",
   "execution_count": 40,
   "metadata": {},
   "outputs": [
    {
     "data": {
      "text/html": [
       "<div>\n",
       "<style scoped>\n",
       "    .dataframe tbody tr th:only-of-type {\n",
       "        vertical-align: middle;\n",
       "    }\n",
       "\n",
       "    .dataframe tbody tr th {\n",
       "        vertical-align: top;\n",
       "    }\n",
       "\n",
       "    .dataframe thead th {\n",
       "        text-align: right;\n",
       "    }\n",
       "</style>\n",
       "<table border=\"1\" class=\"dataframe\">\n",
       "  <thead>\n",
       "    <tr style=\"text-align: right;\">\n",
       "      <th></th>\n",
       "      <th>낙찰율(예대)</th>\n",
       "      <th>Collusion</th>\n",
       "      <th>기초금액</th>\n",
       "      <th>dnumfirm2</th>\n",
       "      <th>d2011</th>\n",
       "      <th>d2012</th>\n",
       "      <th>d2013</th>\n",
       "      <th>d2014</th>\n",
       "      <th>d2016</th>\n",
       "      <th>d2017</th>\n",
       "      <th>d2018</th>\n",
       "      <th>d2019</th>\n",
       "      <th>d2020</th>\n",
       "      <th>d33</th>\n",
       "      <th>d66</th>\n",
       "      <th>dmaintain</th>\n",
       "      <th>공고명</th>\n",
       "      <th>연도</th>\n",
       "      <th>tenderRatio</th>\n",
       "      <th>LnCash</th>\n",
       "    </tr>\n",
       "  </thead>\n",
       "  <tbody>\n",
       "    <tr>\n",
       "      <th>2</th>\n",
       "      <td>0.77106</td>\n",
       "      <td>0</td>\n",
       "      <td>1514040000</td>\n",
       "      <td>3</td>\n",
       "      <td>1</td>\n",
       "      <td>0</td>\n",
       "      <td>0</td>\n",
       "      <td>0</td>\n",
       "      <td>0</td>\n",
       "      <td>0</td>\n",
       "      <td>0</td>\n",
       "      <td>0</td>\n",
       "      <td>0</td>\n",
       "      <td>0</td>\n",
       "      <td>1</td>\n",
       "      <td>0</td>\n",
       "      <td>서울시 양재대로 수도권 2,3단계 관로이설공사 책임감리용역</td>\n",
       "      <td>2011</td>\n",
       "      <td>77.10555</td>\n",
       "      <td>21.13805</td>\n",
       "    </tr>\n",
       "    <tr>\n",
       "      <th>6</th>\n",
       "      <td>0.75040</td>\n",
       "      <td>0</td>\n",
       "      <td>1947383000</td>\n",
       "      <td>7</td>\n",
       "      <td>1</td>\n",
       "      <td>0</td>\n",
       "      <td>0</td>\n",
       "      <td>0</td>\n",
       "      <td>0</td>\n",
       "      <td>0</td>\n",
       "      <td>0</td>\n",
       "      <td>0</td>\n",
       "      <td>0</td>\n",
       "      <td>0</td>\n",
       "      <td>1</td>\n",
       "      <td>0</td>\n",
       "      <td>시화MTV광역교통개선대책 서해안로 확장 및 교차로 입체화공사 책임감리 용역 [공가]...</td>\n",
       "      <td>2011</td>\n",
       "      <td>75.03988</td>\n",
       "      <td>21.38975</td>\n",
       "    </tr>\n",
       "    <tr>\n",
       "      <th>8</th>\n",
       "      <td>0.76853</td>\n",
       "      <td>0</td>\n",
       "      <td>1429000000</td>\n",
       "      <td>2</td>\n",
       "      <td>1</td>\n",
       "      <td>0</td>\n",
       "      <td>0</td>\n",
       "      <td>0</td>\n",
       "      <td>0</td>\n",
       "      <td>0</td>\n",
       "      <td>0</td>\n",
       "      <td>0</td>\n",
       "      <td>0</td>\n",
       "      <td>1</td>\n",
       "      <td>0</td>\n",
       "      <td>0</td>\n",
       "      <td>충남충북지역(2단계) 지하수시설 전수조사</td>\n",
       "      <td>2011</td>\n",
       "      <td>76.85339</td>\n",
       "      <td>21.08024</td>\n",
       "    </tr>\n",
       "  </tbody>\n",
       "</table>\n",
       "</div>"
      ],
      "text/plain": [
       "   낙찰율(예대)  Collusion        기초금액  dnumfirm2  d2011  d2012  d2013  d2014  \\\n",
       "2  0.77106          0  1514040000          3      1      0      0      0   \n",
       "6  0.75040          0  1947383000          7      1      0      0      0   \n",
       "8  0.76853          0  1429000000          2      1      0      0      0   \n",
       "\n",
       "   d2016  d2017  d2018  d2019  d2020  d33  d66  dmaintain  \\\n",
       "2      0      0      0      0      0    0    1          0   \n",
       "6      0      0      0      0      0    0    1          0   \n",
       "8      0      0      0      0      0    1    0          0   \n",
       "\n",
       "                                                 공고명    연도  tenderRatio  \\\n",
       "2                   서울시 양재대로 수도권 2,3단계 관로이설공사 책임감리용역  2011     77.10555   \n",
       "6  시화MTV광역교통개선대책 서해안로 확장 및 교차로 입체화공사 책임감리 용역 [공가]...  2011     75.03988   \n",
       "8                             충남충북지역(2단계) 지하수시설 전수조사  2011     76.85339   \n",
       "\n",
       "    LnCash  \n",
       "2 21.13805  \n",
       "6 21.38975  \n",
       "8 21.08024  "
      ]
     },
     "execution_count": 40,
     "metadata": {},
     "output_type": "execute_result"
    }
   ],
   "source": [
    "df_temp5.head(3)"
   ]
  },
  {
   "cell_type": "code",
   "execution_count": 41,
   "metadata": {},
   "outputs": [
    {
     "data": {
      "text/plain": [
       "(49, 20)"
      ]
     },
     "execution_count": 41,
     "metadata": {},
     "output_type": "execute_result"
    }
   ],
   "source": [
    "df_temp5.loc[df_temp5['공고명'].str.contains(\"점검정비\")].shape"
   ]
  },
  {
   "cell_type": "code",
   "execution_count": 43,
   "metadata": {},
   "outputs": [],
   "source": [
    "df_temp6 = df_temp5.copy() \n",
    "\n",
    "df_temp6[['db2013','db2014','db2017_a', 'db2017_b']] = 0\n",
    "\n",
    "df_temp6.loc[df_temp6['d2011'] == 1, 'db2013'] =1\n",
    "df_temp6.loc[df_temp6['d2012'] == 1, 'db2013'] =1\n",
    "df_temp6.loc[df_temp6['d2013'] == 1, 'db2013'] =1\n",
    "\n",
    "df_temp6.loc[df_temp6['d2011'] == 1, 'db2014'] =1\n",
    "df_temp6.loc[df_temp6['d2012'] == 1, 'db2014'] =1\n",
    "df_temp6.loc[df_temp6['d2013'] == 1, 'db2014'] =1\n",
    "df_temp6.loc[df_temp6['d2014'] == 1, 'db2014'] =1\n",
    "\n",
    "df_temp6.loc[df_temp6['d2014'] == 1, 'db2017_a'] =1\n",
    "# df_temp6.loc[df_temp6['d2015'] == 1, 'db2017_a'] =1\n",
    "df_temp6.loc[df_temp6['d2016'] == 1, 'db2017_a'] =1\n",
    "df_temp6.loc[df_temp6['d2017'] == 1, 'db2017_a'] =1\n",
    "\n",
    "# df_temp6.loc[df_temp6['d2015'] == 1, 'db2017_b'] =1\n",
    "df_temp6.loc[df_temp6['d2016'] == 1, 'db2017_b'] =1\n",
    "df_temp6.loc[df_temp6['d2017'] == 1, 'db2017_b'] =1\n"
   ]
  },
  {
   "cell_type": "markdown",
   "metadata": {},
   "source": [
    "### 6. Generating X matrix for fitted value"
   ]
  },
  {
   "cell_type": "code",
   "execution_count": 44,
   "metadata": {},
   "outputs": [
    {
     "data": {
      "text/plain": [
       "(28, 24)"
      ]
     },
     "execution_count": 44,
     "metadata": {},
     "output_type": "execute_result"
    }
   ],
   "source": [
    "df_xmatrix = df_temp6.loc[(df_temp6['Collusion'] == 1) & (df_temp6['tenderRatio'] < 90)]\n",
    "#df_xmatrix = df_xmatrix.drop(['Collusion'], axis = 1)\n",
    "df_xmatrix.shape"
   ]
  },
  {
   "cell_type": "markdown",
   "metadata": {},
   "source": [
    "### 7. 연도 이전 이후 더미 Regression (528개의 경우 : 담합 제외 X)"
   ]
  },
  {
   "cell_type": "code",
   "execution_count": 45,
   "metadata": {},
   "outputs": [
    {
     "data": {
      "text/plain": [
       "(132, 24)"
      ]
     },
     "execution_count": 45,
     "metadata": {},
     "output_type": "execute_result"
    }
   ],
   "source": [
    "df_temp6.shape"
   ]
  },
  {
   "cell_type": "code",
   "execution_count": 46,
   "metadata": {},
   "outputs": [
    {
     "data": {
      "text/plain": [
       "79.21680175703169"
      ]
     },
     "execution_count": 46,
     "metadata": {},
     "output_type": "execute_result"
    }
   ],
   "source": [
    "np.mean(df_temp6['tenderRatio'])"
   ]
  },
  {
   "cell_type": "markdown",
   "metadata": {},
   "source": [
    "### ★ 이상치 제거 (4개) & \"구매\" 제거 (10개)"
   ]
  },
  {
   "cell_type": "code",
   "execution_count": 47,
   "metadata": {},
   "outputs": [
    {
     "data": {
      "text/plain": [
       "((76, 24), (28, 24), (28, 24))"
      ]
     },
     "execution_count": 47,
     "metadata": {},
     "output_type": "execute_result"
    }
   ],
   "source": [
    "original = df_temp6.loc[((df_temp6['Collusion']==0)) & ((df_temp6['dmaintain']==0))]\n",
    "new = df_temp6.loc[((df_temp6['Collusion']==0) & (df_temp6['dmaintain']==1))]\n",
    "collusion = df_temp6.loc[df_temp6['Collusion'] == 1]\n",
    "\n",
    "original.shape, new.shape, collusion.shape"
   ]
  },
  {
   "cell_type": "code",
   "execution_count": 48,
   "metadata": {},
   "outputs": [
    {
     "data": {
      "text/plain": [
       "84.01055467417038"
      ]
     },
     "execution_count": 48,
     "metadata": {},
     "output_type": "execute_result"
    }
   ],
   "source": [
    "np.mean(collusion['tenderRatio'])"
   ]
  },
  {
   "cell_type": "code",
   "execution_count": 49,
   "metadata": {},
   "outputs": [
    {
     "data": {
      "text/plain": [
       "[<matplotlib.lines.Line2D at 0x2386ed3b788>]"
      ]
     },
     "execution_count": 49,
     "metadata": {},
     "output_type": "execute_result"
    },
    {
     "data": {
      "image/png": "[encoded data removed]",
      "text/plain": [
       "<Figure size 432x288 with 1 Axes>"
      ]
     },
     "metadata": {
      "needs_background": "light"
     },
     "output_type": "display_data"
    }
   ],
   "source": [
    "main = df_temp6.loc[((df_temp6['dmaintain']==1))]\n",
    "main.shape\n",
    "import matplotlib.pyplot as plt\n",
    "plt.plot('연도', 'tenderRatio', 'o', data=main)"
   ]
  },
  {
   "cell_type": "code",
   "execution_count": 50,
   "metadata": {},
   "outputs": [
    {
     "data": {
      "text/html": [
       "<div>\n",
       "<style scoped>\n",
       "    .dataframe tbody tr th:only-of-type {\n",
       "        vertical-align: middle;\n",
       "    }\n",
       "\n",
       "    .dataframe tbody tr th {\n",
       "        vertical-align: top;\n",
       "    }\n",
       "\n",
       "    .dataframe thead th {\n",
       "        text-align: right;\n",
       "    }\n",
       "</style>\n",
       "<table border=\"1\" class=\"dataframe\">\n",
       "  <thead>\n",
       "    <tr style=\"text-align: right;\">\n",
       "      <th></th>\n",
       "      <th>낙찰율(예대)</th>\n",
       "      <th>Collusion</th>\n",
       "      <th>기초금액</th>\n",
       "      <th>dnumfirm2</th>\n",
       "      <th>d2011</th>\n",
       "      <th>d2012</th>\n",
       "      <th>d2013</th>\n",
       "      <th>d2014</th>\n",
       "      <th>d2016</th>\n",
       "      <th>d2017</th>\n",
       "      <th>d2018</th>\n",
       "      <th>d2019</th>\n",
       "      <th>d2020</th>\n",
       "      <th>d33</th>\n",
       "      <th>d66</th>\n",
       "      <th>dmaintain</th>\n",
       "      <th>공고명</th>\n",
       "      <th>연도</th>\n",
       "      <th>tenderRatio</th>\n",
       "      <th>LnCash</th>\n",
       "      <th>db2013</th>\n",
       "      <th>db2014</th>\n",
       "      <th>db2017_a</th>\n",
       "      <th>db2017_b</th>\n",
       "    </tr>\n",
       "  </thead>\n",
       "  <tbody>\n",
       "    <tr>\n",
       "      <th>114</th>\n",
       "      <td>0.88008</td>\n",
       "      <td>0</td>\n",
       "      <td>2120679000</td>\n",
       "      <td>2</td>\n",
       "      <td>0</td>\n",
       "      <td>0</td>\n",
       "      <td>1</td>\n",
       "      <td>0</td>\n",
       "      <td>0</td>\n",
       "      <td>0</td>\n",
       "      <td>0</td>\n",
       "      <td>0</td>\n",
       "      <td>0</td>\n",
       "      <td>0</td>\n",
       "      <td>1</td>\n",
       "      <td>1</td>\n",
       "      <td>발전통합운영시스템 점검정비 용역 [공가][PQ]</td>\n",
       "      <td>2013</td>\n",
       "      <td>88.00830</td>\n",
       "      <td>21.47500</td>\n",
       "      <td>1</td>\n",
       "      <td>1</td>\n",
       "      <td>0</td>\n",
       "      <td>0</td>\n",
       "    </tr>\n",
       "    <tr>\n",
       "      <th>153</th>\n",
       "      <td>0.77231</td>\n",
       "      <td>0</td>\n",
       "      <td>11263076000</td>\n",
       "      <td>2</td>\n",
       "      <td>0</td>\n",
       "      <td>0</td>\n",
       "      <td>0</td>\n",
       "      <td>1</td>\n",
       "      <td>0</td>\n",
       "      <td>0</td>\n",
       "      <td>0</td>\n",
       "      <td>0</td>\n",
       "      <td>0</td>\n",
       "      <td>0</td>\n",
       "      <td>0</td>\n",
       "      <td>1</td>\n",
       "      <td>수도 및 댐보시설 점검정비용역(제7권역) [정][제한][공가][PQ]</td>\n",
       "      <td>2015</td>\n",
       "      <td>77.23106</td>\n",
       "      <td>23.14480</td>\n",
       "      <td>0</td>\n",
       "      <td>1</td>\n",
       "      <td>1</td>\n",
       "      <td>0</td>\n",
       "    </tr>\n",
       "    <tr>\n",
       "      <th>171</th>\n",
       "      <td>0.67048</td>\n",
       "      <td>0</td>\n",
       "      <td>2137534902</td>\n",
       "      <td>3</td>\n",
       "      <td>0</td>\n",
       "      <td>0</td>\n",
       "      <td>0</td>\n",
       "      <td>1</td>\n",
       "      <td>0</td>\n",
       "      <td>0</td>\n",
       "      <td>0</td>\n",
       "      <td>0</td>\n",
       "      <td>0</td>\n",
       "      <td>0</td>\n",
       "      <td>1</td>\n",
       "      <td>1</td>\n",
       "      <td>발전통합운영시스템 점검정비 용역 [제한][공가]</td>\n",
       "      <td>2015</td>\n",
       "      <td>67.04763</td>\n",
       "      <td>21.48292</td>\n",
       "      <td>0</td>\n",
       "      <td>1</td>\n",
       "      <td>1</td>\n",
       "      <td>0</td>\n",
       "    </tr>\n",
       "    <tr>\n",
       "      <th>195</th>\n",
       "      <td>0.76228</td>\n",
       "      <td>0</td>\n",
       "      <td>37480949000</td>\n",
       "      <td>2</td>\n",
       "      <td>0</td>\n",
       "      <td>0</td>\n",
       "      <td>0</td>\n",
       "      <td>0</td>\n",
       "      <td>1</td>\n",
       "      <td>0</td>\n",
       "      <td>0</td>\n",
       "      <td>0</td>\n",
       "      <td>0</td>\n",
       "      <td>0</td>\n",
       "      <td>0</td>\n",
       "      <td>1</td>\n",
       "      <td>수도 및 댐.보시설 점검정비용역(제1권역) [제한][공가][PQ]</td>\n",
       "      <td>2016</td>\n",
       "      <td>76.22829</td>\n",
       "      <td>24.34710</td>\n",
       "      <td>0</td>\n",
       "      <td>0</td>\n",
       "      <td>1</td>\n",
       "      <td>1</td>\n",
       "    </tr>\n",
       "    <tr>\n",
       "      <th>196</th>\n",
       "      <td>0.76306</td>\n",
       "      <td>0</td>\n",
       "      <td>34433058000</td>\n",
       "      <td>2</td>\n",
       "      <td>0</td>\n",
       "      <td>0</td>\n",
       "      <td>0</td>\n",
       "      <td>0</td>\n",
       "      <td>1</td>\n",
       "      <td>0</td>\n",
       "      <td>0</td>\n",
       "      <td>0</td>\n",
       "      <td>0</td>\n",
       "      <td>0</td>\n",
       "      <td>0</td>\n",
       "      <td>1</td>\n",
       "      <td>수도 및 댐.보시설 점검정비용역(제2권역) [공가][PQ]</td>\n",
       "      <td>2016</td>\n",
       "      <td>76.30595</td>\n",
       "      <td>24.26228</td>\n",
       "      <td>0</td>\n",
       "      <td>0</td>\n",
       "      <td>1</td>\n",
       "      <td>1</td>\n",
       "    </tr>\n",
       "  </tbody>\n",
       "</table>\n",
       "</div>"
      ],
      "text/plain": [
       "     낙찰율(예대)  Collusion         기초금액  dnumfirm2  d2011  d2012  d2013  d2014  \\\n",
       "114  0.88008          0   2120679000          2      0      0      1      0   \n",
       "153  0.77231          0  11263076000          2      0      0      0      1   \n",
       "171  0.67048          0   2137534902          3      0      0      0      1   \n",
       "195  0.76228          0  37480949000          2      0      0      0      0   \n",
       "196  0.76306          0  34433058000          2      0      0      0      0   \n",
       "\n",
       "     d2016  d2017  d2018  d2019  d2020  d33  d66  dmaintain  \\\n",
       "114      0      0      0      0      0    0    1          1   \n",
       "153      0      0      0      0      0    0    0          1   \n",
       "171      0      0      0      0      0    0    1          1   \n",
       "195      1      0      0      0      0    0    0          1   \n",
       "196      1      0      0      0      0    0    0          1   \n",
       "\n",
       "                                        공고명    연도  tenderRatio   LnCash  \\\n",
       "114              발전통합운영시스템 점검정비 용역 [공가][PQ]  2013     88.00830 21.47500   \n",
       "153  수도 및 댐보시설 점검정비용역(제7권역) [정][제한][공가][PQ]  2015     77.23106 23.14480   \n",
       "171              발전통합운영시스템 점검정비 용역 [제한][공가]  2015     67.04763 21.48292   \n",
       "195    수도 및 댐.보시설 점검정비용역(제1권역) [제한][공가][PQ]  2016     76.22829 24.34710   \n",
       "196        수도 및 댐.보시설 점검정비용역(제2권역) [공가][PQ]  2016     76.30595 24.26228   \n",
       "\n",
       "     db2013  db2014  db2017_a  db2017_b  \n",
       "114       1       1         0         0  \n",
       "153       0       1         1         0  \n",
       "171       0       1         1         0  \n",
       "195       0       0         1         1  \n",
       "196       0       0         1         1  "
      ]
     },
     "execution_count": 50,
     "metadata": {},
     "output_type": "execute_result"
    }
   ],
   "source": [
    "new.head()"
   ]
  },
  {
   "cell_type": "code",
   "execution_count": 51,
   "metadata": {},
   "outputs": [
    {
     "data": {
      "text/plain": [
       "<matplotlib.legend.Legend at 0x2386f9d2688>"
      ]
     },
     "execution_count": 51,
     "metadata": {},
     "output_type": "execute_result"
    },
    {
     "name": "stderr",
     "output_type": "stream",
     "text": [
      "c:\\Users\\user\\anaconda3\\envs\\energy\\lib\\site-packages\\matplotlib\\backends\\backend_agg.py:240: RuntimeWarning: Glyph 50672 missing from current font.\n",
      "  font.set_text(s, 0.0, flags=flags)\n",
      "c:\\Users\\user\\anaconda3\\envs\\energy\\lib\\site-packages\\matplotlib\\backends\\backend_agg.py:240: RuntimeWarning: Glyph 46020 missing from current font.\n",
      "  font.set_text(s, 0.0, flags=flags)\n",
      "c:\\Users\\user\\anaconda3\\envs\\energy\\lib\\site-packages\\matplotlib\\backends\\backend_agg.py:240: RuntimeWarning: Glyph 45209 missing from current font.\n",
      "  font.set_text(s, 0.0, flags=flags)\n",
      "c:\\Users\\user\\anaconda3\\envs\\energy\\lib\\site-packages\\matplotlib\\backends\\backend_agg.py:240: RuntimeWarning: Glyph 52272 missing from current font.\n",
      "  font.set_text(s, 0.0, flags=flags)\n",
      "c:\\Users\\user\\anaconda3\\envs\\energy\\lib\\site-packages\\matplotlib\\backends\\backend_agg.py:240: RuntimeWarning: Glyph 47456 missing from current font.\n",
      "  font.set_text(s, 0.0, flags=flags)\n",
      "c:\\Users\\user\\anaconda3\\envs\\energy\\lib\\site-packages\\matplotlib\\backends\\backend_agg.py:240: RuntimeWarning: Glyph 48708 missing from current font.\n",
      "  font.set_text(s, 0.0, flags=flags)\n",
      "c:\\Users\\user\\anaconda3\\envs\\energy\\lib\\site-packages\\matplotlib\\backends\\backend_agg.py:240: RuntimeWarning: Glyph 45812 missing from current font.\n",
      "  font.set_text(s, 0.0, flags=flags)\n",
      "c:\\Users\\user\\anaconda3\\envs\\energy\\lib\\site-packages\\matplotlib\\backends\\backend_agg.py:240: RuntimeWarning: Glyph 54633 missing from current font.\n",
      "  font.set_text(s, 0.0, flags=flags)\n",
      "c:\\Users\\user\\anaconda3\\envs\\energy\\lib\\site-packages\\matplotlib\\backends\\backend_agg.py:203: RuntimeWarning: Glyph 50672 missing from current font.\n",
      "  font.set_text(s, 0, flags=flags)\n",
      "c:\\Users\\user\\anaconda3\\envs\\energy\\lib\\site-packages\\matplotlib\\backends\\backend_agg.py:203: RuntimeWarning: Glyph 46020 missing from current font.\n",
      "  font.set_text(s, 0, flags=flags)\n",
      "c:\\Users\\user\\anaconda3\\envs\\energy\\lib\\site-packages\\matplotlib\\backends\\backend_agg.py:203: RuntimeWarning: Glyph 45209 missing from current font.\n",
      "  font.set_text(s, 0, flags=flags)\n",
      "c:\\Users\\user\\anaconda3\\envs\\energy\\lib\\site-packages\\matplotlib\\backends\\backend_agg.py:203: RuntimeWarning: Glyph 52272 missing from current font.\n",
      "  font.set_text(s, 0, flags=flags)\n",
      "c:\\Users\\user\\anaconda3\\envs\\energy\\lib\\site-packages\\matplotlib\\backends\\backend_agg.py:203: RuntimeWarning: Glyph 47456 missing from current font.\n",
      "  font.set_text(s, 0, flags=flags)\n",
      "c:\\Users\\user\\anaconda3\\envs\\energy\\lib\\site-packages\\matplotlib\\backends\\backend_agg.py:203: RuntimeWarning: Glyph 48708 missing from current font.\n",
      "  font.set_text(s, 0, flags=flags)\n",
      "c:\\Users\\user\\anaconda3\\envs\\energy\\lib\\site-packages\\matplotlib\\backends\\backend_agg.py:203: RuntimeWarning: Glyph 45812 missing from current font.\n",
      "  font.set_text(s, 0, flags=flags)\n",
      "c:\\Users\\user\\anaconda3\\envs\\energy\\lib\\site-packages\\matplotlib\\backends\\backend_agg.py:203: RuntimeWarning: Glyph 54633 missing from current font.\n",
      "  font.set_text(s, 0, flags=flags)\n"
     ]
    },
    {
     "data": {
      "image/png": "[encoded data removed]",
      "text/plain": [
       "<Figure size 432x288 with 1 Axes>"
      ]
     },
     "metadata": {
      "needs_background": "light"
     },
     "output_type": "display_data"
    }
   ],
   "source": [
    "import matplotlib.pyplot as plt\n",
    "\n",
    "#plt.plot('연도', 'tenderRatio', 'o' ,data=original,)\n",
    "plt.plot('연도', 'tenderRatio', 'or' ,data=new, label = \"비담합\")\n",
    "plt.plot('연도', 'tenderRatio', 'og', data=collusion, label = \"담합\")\n",
    "plt.xlabel(\"연도\")\n",
    "plt.ylabel(\"낙찰률\")\n",
    "plt.legend(loc = 'upper right', bbox_to_anchor=(1.25, 1))"
   ]
  },
  {
   "cell_type": "code",
   "execution_count": 52,
   "metadata": {},
   "outputs": [
    {
     "data": {
      "text/plain": [
       "[<matplotlib.lines.Line2D at 0x2386facfa88>]"
      ]
     },
     "execution_count": 52,
     "metadata": {},
     "output_type": "execute_result"
    },
    {
     "data": {
      "image/png": "[encoded data removed]",
      "text/plain": [
       "<Figure size 432x288 with 1 Axes>"
      ]
     },
     "metadata": {
      "needs_background": "light"
     },
     "output_type": "display_data"
    }
   ],
   "source": [
    "import matplotlib.pyplot as plt\n",
    "\n",
    "plt.plot('tenderRatio', 'LnCash', 'o' ,data=original,)\n",
    "plt.plot('tenderRatio', 'LnCash', 'or' ,data=new,)\n",
    "plt.plot('tenderRatio', 'LnCash', 'og', data=collusion)"
   ]
  },
  {
   "cell_type": "code",
   "execution_count": 53,
   "metadata": {},
   "outputs": [
    {
     "data": {
      "text/plain": [
       "(0, 24)"
      ]
     },
     "execution_count": 53,
     "metadata": {},
     "output_type": "execute_result"
    }
   ],
   "source": [
    "df_temp6.loc[df_temp6['tenderRatio'] == 100].shape"
   ]
  },
  {
   "cell_type": "code",
   "execution_count": null,
   "metadata": {},
   "outputs": [],
   "source": []
  },
  {
   "cell_type": "code",
   "execution_count": 169,
   "metadata": {},
   "outputs": [
    {
     "data": {
      "text/html": [
       "<div>\n",
       "<style scoped>\n",
       "    .dataframe tbody tr th:only-of-type {\n",
       "        vertical-align: middle;\n",
       "    }\n",
       "\n",
       "    .dataframe tbody tr th {\n",
       "        vertical-align: top;\n",
       "    }\n",
       "\n",
       "    .dataframe thead th {\n",
       "        text-align: right;\n",
       "    }\n",
       "</style>\n",
       "<table border=\"1\" class=\"dataframe\">\n",
       "  <thead>\n",
       "    <tr style=\"text-align: right;\">\n",
       "      <th></th>\n",
       "      <th>낙찰율(예대)</th>\n",
       "      <th>Collusion</th>\n",
       "      <th>기초금액</th>\n",
       "      <th>dnumfirm2</th>\n",
       "      <th>d2011</th>\n",
       "      <th>d2012</th>\n",
       "      <th>d2013</th>\n",
       "      <th>d2014</th>\n",
       "      <th>d2015</th>\n",
       "      <th>d2016</th>\n",
       "      <th>d2017</th>\n",
       "      <th>d2018</th>\n",
       "      <th>d2019</th>\n",
       "      <th>d2020</th>\n",
       "      <th>d33</th>\n",
       "      <th>d66</th>\n",
       "      <th>dmaintain</th>\n",
       "      <th>공고명</th>\n",
       "      <th>연도</th>\n",
       "      <th>tenderRatio</th>\n",
       "      <th>LnCash</th>\n",
       "      <th>db2013</th>\n",
       "      <th>db2014</th>\n",
       "      <th>db2017_a</th>\n",
       "      <th>db2017_b</th>\n",
       "    </tr>\n",
       "  </thead>\n",
       "  <tbody>\n",
       "  </tbody>\n",
       "</table>\n",
       "</div>"
      ],
      "text/plain": [
       "Empty DataFrame\n",
       "Columns: [낙찰율(예대), Collusion, 기초금액, dnumfirm2, d2011, d2012, d2013, d2014, d2015, d2016, d2017, d2018, d2019, d2020, d33, d66, dmaintain, 공고명, 연도, tenderRatio, LnCash, db2013, db2014, db2017_a, db2017_b]\n",
       "Index: []"
      ]
     },
     "execution_count": 169,
     "metadata": {},
     "output_type": "execute_result"
    }
   ],
   "source": [
    "df_temp6.loc[((df_temp6['tenderRatio'] < 65) & (df_temp6['LnCash'] < 26)) | ((df_temp6['tenderRatio'] > 95) & (df_temp6['LnCash'] > 26))]"
   ]
  },
  {
   "cell_type": "code",
   "execution_count": 170,
   "metadata": {},
   "outputs": [],
   "source": [
    "# df_temp6.loc[(df_temp6['공고명'].str.contains(\"구매\")), ['낙찰율(예대)','기초금액','공고명', 'dnumfirm2']].to_csv(\"./V Final_0920/a01.csv\", index=False, encoding='EUC-KR')"
   ]
  },
  {
   "cell_type": "code",
   "execution_count": 171,
   "metadata": {},
   "outputs": [
    {
     "data": {
      "text/html": [
       "<div>\n",
       "<style scoped>\n",
       "    .dataframe tbody tr th:only-of-type {\n",
       "        vertical-align: middle;\n",
       "    }\n",
       "\n",
       "    .dataframe tbody tr th {\n",
       "        vertical-align: top;\n",
       "    }\n",
       "\n",
       "    .dataframe thead th {\n",
       "        text-align: right;\n",
       "    }\n",
       "</style>\n",
       "<table border=\"1\" class=\"dataframe\">\n",
       "  <thead>\n",
       "    <tr style=\"text-align: right;\">\n",
       "      <th></th>\n",
       "      <th>Collusion</th>\n",
       "      <th>낙찰율(예대)</th>\n",
       "      <th>기초금액</th>\n",
       "      <th>공고명</th>\n",
       "      <th>dnumfirm2</th>\n",
       "    </tr>\n",
       "  </thead>\n",
       "  <tbody>\n",
       "  </tbody>\n",
       "</table>\n",
       "</div>"
      ],
      "text/plain": [
       "Empty DataFrame\n",
       "Columns: [Collusion, 낙찰율(예대), 기초금액, 공고명, dnumfirm2]\n",
       "Index: []"
      ]
     },
     "execution_count": 171,
     "metadata": {},
     "output_type": "execute_result"
    }
   ],
   "source": [
    "df_temp6.loc[~(df_temp6['공고명'].str.contains(\"구매\")) & ((df_temp6['tenderRatio'] < 65) & ((df_temp6['LnCash'] < 26)) | ((df_temp6['tenderRatio'] > 95) & (df_temp6['LnCash'] > 26))), ['Collusion','낙찰율(예대)','기초금액','공고명','dnumfirm2']]"
   ]
  },
  {
   "cell_type": "code",
   "execution_count": 54,
   "metadata": {},
   "outputs": [
    {
     "data": {
      "text/plain": [
       "(132, 24)"
      ]
     },
     "execution_count": 54,
     "metadata": {},
     "output_type": "execute_result"
    }
   ],
   "source": [
    "df_temp6 = df_temp6.loc[~((df_temp6['tenderRatio'] < 65) & (df_temp6['LnCash'] < 26)) & \n",
    "             ~((df_temp6['tenderRatio'] > 95) & (df_temp6['LnCash'] > 26)) &\n",
    "             ~(df_temp6['공고명'].str.contains(\"구매\"))]\n",
    "\n",
    "df_temp6.shape"
   ]
  },
  {
   "cell_type": "code",
   "execution_count": 144,
   "metadata": {},
   "outputs": [
    {
     "data": {
      "text/plain": [
       "(0, 20)"
      ]
     },
     "execution_count": 144,
     "metadata": {},
     "output_type": "execute_result"
    }
   ],
   "source": [
    "df_temp4.loc[df_temp4['공고명'].str.contains(\"실시설계\")].shape"
   ]
  },
  {
   "cell_type": "code",
   "execution_count": 45,
   "metadata": {},
   "outputs": [
    {
     "data": {
      "text/plain": [
       "낙찰율(예대)      2\n",
       "연도           0\n",
       "기초금액         0\n",
       "1순위투찰금액      0\n",
       "업체수          0\n",
       "담합           0\n",
       "점검정비         0\n",
       "공고명          0\n",
       "공고번호         0\n",
       "감정         164\n",
       "dtype: int64"
      ]
     },
     "execution_count": 45,
     "metadata": {},
     "output_type": "execute_result"
    }
   ],
   "source": [
    "df_raw.loc[df_raw['공고명'].str.contains(\"실시설계\")].isna().sum() # 2개 실시설계 용역 낙찰률 X / 1개 실시설계 용역 송산그린시티 낙찰율 0.59 이상치 / 1개 실시설계 용역 "
   ]
  },
  {
   "cell_type": "code",
   "execution_count": 46,
   "metadata": {},
   "outputs": [
    {
     "data": {
      "text/plain": [
       "80.18366659617949"
      ]
     },
     "execution_count": 46,
     "metadata": {},
     "output_type": "execute_result"
    }
   ],
   "source": [
    "np.mean(df_temp6['tenderRatio'])"
   ]
  },
  {
   "cell_type": "code",
   "execution_count": 47,
   "metadata": {},
   "outputs": [
    {
     "data": {
      "text/plain": [
       "79.96273285147075"
      ]
     },
     "execution_count": 47,
     "metadata": {},
     "output_type": "execute_result"
    }
   ],
   "source": [
    "np.mean(df_temp6.loc[df_temp6['Collusion'] == 0, 'tenderRatio'])"
   ]
  },
  {
   "cell_type": "code",
   "execution_count": 250,
   "metadata": {},
   "outputs": [
    {
     "data": {
      "text/plain": [
       "(56, 25)"
      ]
     },
     "execution_count": 250,
     "metadata": {},
     "output_type": "execute_result"
    }
   ],
   "source": [
    "# \"\"\" 점검정비만 돌려봐 \"\"\"\n",
    "# df_temp6 = df_temp6.loc[(df_temp6['dmaintain']==1)]\n",
    "# df_temp6.shape # 56개 (기존 58개에서 2개 제외)"
   ]
  },
  {
   "cell_type": "code",
   "execution_count": 49,
   "metadata": {},
   "outputs": [
    {
     "data": {
      "text/html": [
       "<div>\n",
       "<style scoped>\n",
       "    .dataframe tbody tr th:only-of-type {\n",
       "        vertical-align: middle;\n",
       "    }\n",
       "\n",
       "    .dataframe tbody tr th {\n",
       "        vertical-align: top;\n",
       "    }\n",
       "\n",
       "    .dataframe thead th {\n",
       "        text-align: right;\n",
       "    }\n",
       "</style>\n",
       "<table border=\"1\" class=\"dataframe\">\n",
       "  <thead>\n",
       "    <tr style=\"text-align: right;\">\n",
       "      <th></th>\n",
       "      <th>Collusion</th>\n",
       "      <th>dmaintain</th>\n",
       "      <th>tenderRatio</th>\n",
       "      <th>LnCash</th>\n",
       "      <th>공고명</th>\n",
       "    </tr>\n",
       "  </thead>\n",
       "  <tbody>\n",
       "    <tr>\n",
       "      <th>70</th>\n",
       "      <td>0</td>\n",
       "      <td>0</td>\n",
       "      <td>81.94853</td>\n",
       "      <td>22.58717</td>\n",
       "      <td>부산 에코델타시티 도시관리계획 및 1구간 기본설계 용역 [공가][PQ]</td>\n",
       "    </tr>\n",
       "    <tr>\n",
       "      <th>106</th>\n",
       "      <td>0</td>\n",
       "      <td>0</td>\n",
       "      <td>91.91518</td>\n",
       "      <td>21.38182</td>\n",
       "      <td>3차원 (댐)설계ㆍ시공 지원 시스템 개발 [공가]</td>\n",
       "    </tr>\n",
       "    <tr>\n",
       "      <th>136</th>\n",
       "      <td>0</td>\n",
       "      <td>0</td>\n",
       "      <td>81.44877</td>\n",
       "      <td>21.24319</td>\n",
       "      <td>수도권(2단계) 광역상수도 용수공급 신뢰성제고사업 제2공구 기본설계용역 [공가][PQ]</td>\n",
       "    </tr>\n",
       "    <tr>\n",
       "      <th>394</th>\n",
       "      <td>0</td>\n",
       "      <td>0</td>\n",
       "      <td>91.56227</td>\n",
       "      <td>20.91507</td>\n",
       "      <td>다목적댐 매설계기시스템 종합개선 확대구축 용역 [정][제한][공가]</td>\n",
       "    </tr>\n",
       "    <tr>\n",
       "      <th>397</th>\n",
       "      <td>0</td>\n",
       "      <td>0</td>\n",
       "      <td>79.32388</td>\n",
       "      <td>21.64164</td>\n",
       "      <td>송산그린시티 국제테마파크 주거단지 기본설계 용역 [공가]</td>\n",
       "    </tr>\n",
       "  </tbody>\n",
       "</table>\n",
       "</div>"
      ],
      "text/plain": [
       "     Collusion  dmaintain  tenderRatio   LnCash  \\\n",
       "70           0          0     81.94853 22.58717   \n",
       "106          0          0     91.91518 21.38182   \n",
       "136          0          0     81.44877 21.24319   \n",
       "394          0          0     91.56227 20.91507   \n",
       "397          0          0     79.32388 21.64164   \n",
       "\n",
       "                                                  공고명  \n",
       "70            부산 에코델타시티 도시관리계획 및 1구간 기본설계 용역 [공가][PQ]  \n",
       "106                       3차원 (댐)설계ㆍ시공 지원 시스템 개발 [공가]  \n",
       "136  수도권(2단계) 광역상수도 용수공급 신뢰성제고사업 제2공구 기본설계용역 [공가][PQ]  \n",
       "394             다목적댐 매설계기시스템 종합개선 확대구축 용역 [정][제한][공가]  \n",
       "397                   송산그린시티 국제테마파크 주거단지 기본설계 용역 [공가]  "
      ]
     },
     "execution_count": 49,
     "metadata": {},
     "output_type": "execute_result"
    }
   ],
   "source": [
    "df_temp6.loc[(df_temp6['공고명'].str.contains(\"설계\"))  & ~ (df_temp6['공고명'].str.contains(\"실시설계\")), ['Collusion','dmaintain','tenderRatio','LnCash','공고명']]"
   ]
  },
  {
   "cell_type": "code",
   "execution_count": 54,
   "metadata": {},
   "outputs": [
    {
     "data": {
      "text/plain": [
       "(166, 25)"
      ]
     },
     "execution_count": 54,
     "metadata": {},
     "output_type": "execute_result"
    }
   ],
   "source": [
    "df_temp6.loc[df_temp6['공고명'].str.contains(\"설계\")].append(df_temp6.loc[df_temp6['공고명'].str.contains(\"매설계\")]).shape"
   ]
  },
  {
   "cell_type": "code",
   "execution_count": 59,
   "metadata": {},
   "outputs": [
    {
     "data": {
      "text/plain": [
       "낙찰율(예대)                0.79770\n",
       "Collusion              0.00000\n",
       "기초금액          2626100138.72867\n",
       "dnumfirm2              4.28884\n",
       "d2011                  0.03939\n",
       "d2012                  0.04814\n",
       "d2013                  0.08315\n",
       "d2014                  0.03939\n",
       "d2015                  0.04158\n",
       "d2016                  0.06783\n",
       "d2017                  0.07659\n",
       "d2018                  0.09847\n",
       "d2019                  0.15536\n",
       "d2020                  0.18162\n",
       "d33                    0.33479\n",
       "d66                    0.37418\n",
       "dmaintain              0.00000\n",
       "연도                  2017.54923\n",
       "tenderRatio           79.76974\n",
       "LnCash                21.48095\n",
       "db2013                 0.17068\n",
       "db2014                 0.21007\n",
       "db2017_a               0.22538\n",
       "db2017_b               0.18600\n",
       "dtype: float64"
      ]
     },
     "execution_count": 59,
     "metadata": {},
     "output_type": "execute_result"
    }
   ],
   "source": [
    "np.mean(df_temp6.loc[df_temp6['dmaintain'] == 0])"
   ]
  },
  {
   "cell_type": "code",
   "execution_count": 56,
   "metadata": {},
   "outputs": [
    {
     "data": {
      "text/plain": [
       "79.26968787566483"
      ]
     },
     "execution_count": 56,
     "metadata": {},
     "output_type": "execute_result"
    }
   ],
   "source": [
    "np.mean(df_temp6.loc[(df_temp6['공고명'].str.contains(\"설계\") & (~df_temp6['공고명'].str.contains(\"매설계\"))),'tenderRatio'])"
   ]
  },
  {
   "cell_type": "code",
   "execution_count": 55,
   "metadata": {},
   "outputs": [
    {
     "data": {
      "text/plain": [
       "(164,)"
      ]
     },
     "execution_count": 55,
     "metadata": {},
     "output_type": "execute_result"
    }
   ],
   "source": [
    "df_temp6.loc[(df_temp6['공고명'].str.contains(\"설계\") & (~df_temp6['공고명'].str.contains(\"매설계\"))),'tenderRatio'].shape"
   ]
  },
  {
   "cell_type": "code",
   "execution_count": 254,
   "metadata": {},
   "outputs": [],
   "source": [
    "# \"\"\" \"설계\" 총 165개 중 \"매설계\" 1개 뺀 나머지 164개 제외 : 513 - 164 = 349개 \"\"\"\n",
    "\n",
    "# df_temp6 = df_temp6.loc[~(df_temp6['공고명'].str.contains(\"설계\"))].append(df_temp6.loc[df_temp6['공고명'].str.contains(\"매설계\")])\n",
    "# df_temp6.shape"
   ]
  },
  {
   "cell_type": "code",
   "execution_count": 228,
   "metadata": {},
   "outputs": [
    {
     "data": {
      "text/plain": [
       "83.56161762916763"
      ]
     },
     "execution_count": 228,
     "metadata": {},
     "output_type": "execute_result"
    }
   ],
   "source": [
    "\"\"\" 전체 - 실시설계 총 349개 평균 \"\"\"\n",
    "np.mean(df_temp6['tenderRatio'])"
   ]
  },
  {
   "cell_type": "code",
   "execution_count": null,
   "metadata": {},
   "outputs": [],
   "source": [
    "\"\"\" 156 감정인 데이터 중 실시설계 용역 1개 포함 (관망정비 현장조사) \"\"\"\n",
    "\n",
    "outlier = df_156.loc[~(df_156['공고명'].isin(df_temp6.loc[(df_temp6['공고명'].isin(df_156['공고명'])),'공고명']))]\n",
    "outlier"
   ]
  },
  {
   "cell_type": "code",
   "execution_count": null,
   "metadata": {},
   "outputs": [
    {
     "data": {
      "text/plain": [
       "(156, 26)"
      ]
     },
     "execution_count": 482,
     "metadata": {},
     "output_type": "execute_result"
    }
   ],
   "source": [
    "df_temp6.loc[df_temp6['공고명'].isin(df_156['공고명'])].append(outlier).shape"
   ]
  },
  {
   "cell_type": "code",
   "execution_count": null,
   "metadata": {},
   "outputs": [
    {
     "data": {
      "text/html": [
       "<div>\n",
       "<style scoped>\n",
       "    .dataframe tbody tr th:only-of-type {\n",
       "        vertical-align: middle;\n",
       "    }\n",
       "\n",
       "    .dataframe tbody tr th {\n",
       "        vertical-align: top;\n",
       "    }\n",
       "\n",
       "    .dataframe thead th {\n",
       "        text-align: right;\n",
       "    }\n",
       "</style>\n",
       "<table border=\"1\" class=\"dataframe\">\n",
       "  <thead>\n",
       "    <tr style=\"text-align: right;\">\n",
       "      <th></th>\n",
       "      <th>낙찰율(예대)</th>\n",
       "      <th>Collusion</th>\n",
       "      <th>기초금액</th>\n",
       "      <th>dnumfirm2</th>\n",
       "      <th>d2011</th>\n",
       "      <th>d2012</th>\n",
       "      <th>d2013</th>\n",
       "      <th>d2014</th>\n",
       "      <th>d2015</th>\n",
       "      <th>d2016</th>\n",
       "      <th>d2017</th>\n",
       "      <th>d2018</th>\n",
       "      <th>d2019</th>\n",
       "      <th>d2020</th>\n",
       "      <th>d33</th>\n",
       "      <th>d66</th>\n",
       "      <th>dmaintain</th>\n",
       "      <th>공고명</th>\n",
       "      <th>연도</th>\n",
       "      <th>tenderRatio</th>\n",
       "      <th>LnCash</th>\n",
       "      <th>db2013</th>\n",
       "      <th>db2014</th>\n",
       "      <th>db2017_a</th>\n",
       "      <th>db2017_b</th>\n",
       "    </tr>\n",
       "  </thead>\n",
       "  <tbody>\n",
       "    <tr>\n",
       "      <th>14</th>\n",
       "      <td>0.78367</td>\n",
       "      <td>0</td>\n",
       "      <td>2123946000</td>\n",
       "      <td>5.00000</td>\n",
       "      <td>1</td>\n",
       "      <td>0</td>\n",
       "      <td>0</td>\n",
       "      <td>0</td>\n",
       "      <td>0</td>\n",
       "      <td>0</td>\n",
       "      <td>0</td>\n",
       "      <td>0</td>\n",
       "      <td>0</td>\n",
       "      <td>0</td>\n",
       "      <td>0</td>\n",
       "      <td>1</td>\n",
       "      <td>0</td>\n",
       "      <td>시화MTV 중1~117호선(서해안 우회도로) 기본 및 실시설계용역 [정][공가][PQ]</td>\n",
       "      <td>2011</td>\n",
       "      <td>78.36658</td>\n",
       "      <td>21.47654</td>\n",
       "      <td>1</td>\n",
       "      <td>1</td>\n",
       "      <td>0</td>\n",
       "      <td>0</td>\n",
       "    </tr>\n",
       "    <tr>\n",
       "      <th>17</th>\n",
       "      <td>0.79078</td>\n",
       "      <td>0</td>\n",
       "      <td>1953820000</td>\n",
       "      <td>3.00000</td>\n",
       "      <td>1</td>\n",
       "      <td>0</td>\n",
       "      <td>0</td>\n",
       "      <td>0</td>\n",
       "      <td>0</td>\n",
       "      <td>0</td>\n",
       "      <td>0</td>\n",
       "      <td>0</td>\n",
       "      <td>0</td>\n",
       "      <td>0</td>\n",
       "      <td>0</td>\n",
       "      <td>1</td>\n",
       "      <td>0</td>\n",
       "      <td>광역상수도 공급사업(포천화력발전소 하이닉스) 기본 및 실시설계용역 [공가][PQ]</td>\n",
       "      <td>2011</td>\n",
       "      <td>79.07842</td>\n",
       "      <td>21.39305</td>\n",
       "      <td>1</td>\n",
       "      <td>1</td>\n",
       "      <td>0</td>\n",
       "      <td>0</td>\n",
       "    </tr>\n",
       "    <tr>\n",
       "      <th>18</th>\n",
       "      <td>0.80175</td>\n",
       "      <td>0</td>\n",
       "      <td>1901130000</td>\n",
       "      <td>3.00000</td>\n",
       "      <td>1</td>\n",
       "      <td>0</td>\n",
       "      <td>0</td>\n",
       "      <td>0</td>\n",
       "      <td>0</td>\n",
       "      <td>0</td>\n",
       "      <td>0</td>\n",
       "      <td>0</td>\n",
       "      <td>0</td>\n",
       "      <td>0</td>\n",
       "      <td>0</td>\n",
       "      <td>1</td>\n",
       "      <td>0</td>\n",
       "      <td>예산당진지역 공업용수도 통합공급시설 기본 및 실시설계용역 [공가][PQ]</td>\n",
       "      <td>2011</td>\n",
       "      <td>80.17481</td>\n",
       "      <td>21.36571</td>\n",
       "      <td>1</td>\n",
       "      <td>1</td>\n",
       "      <td>0</td>\n",
       "      <td>0</td>\n",
       "    </tr>\n",
       "    <tr>\n",
       "      <th>23</th>\n",
       "      <td>0.79400</td>\n",
       "      <td>0</td>\n",
       "      <td>3205180000</td>\n",
       "      <td>2.00000</td>\n",
       "      <td>1</td>\n",
       "      <td>0</td>\n",
       "      <td>0</td>\n",
       "      <td>0</td>\n",
       "      <td>0</td>\n",
       "      <td>0</td>\n",
       "      <td>0</td>\n",
       "      <td>0</td>\n",
       "      <td>0</td>\n",
       "      <td>0</td>\n",
       "      <td>0</td>\n",
       "      <td>0</td>\n",
       "      <td>0</td>\n",
       "      <td>낙동강 강변여과수사업 도수시설(양산구간) 기본 및 실시설계 용역 [공가][PQ]</td>\n",
       "      <td>2011</td>\n",
       "      <td>79.39958</td>\n",
       "      <td>21.88803</td>\n",
       "      <td>1</td>\n",
       "      <td>1</td>\n",
       "      <td>0</td>\n",
       "      <td>0</td>\n",
       "    </tr>\n",
       "    <tr>\n",
       "      <th>24</th>\n",
       "      <td>0.79626</td>\n",
       "      <td>0</td>\n",
       "      <td>2207128000</td>\n",
       "      <td>2.00000</td>\n",
       "      <td>1</td>\n",
       "      <td>0</td>\n",
       "      <td>0</td>\n",
       "      <td>0</td>\n",
       "      <td>0</td>\n",
       "      <td>0</td>\n",
       "      <td>0</td>\n",
       "      <td>0</td>\n",
       "      <td>0</td>\n",
       "      <td>0</td>\n",
       "      <td>0</td>\n",
       "      <td>1</td>\n",
       "      <td>0</td>\n",
       "      <td>낙동강 강변여과수사업 도수시설(김해구간) 기본 및 실시설계 용역 [공가][PQ]</td>\n",
       "      <td>2011</td>\n",
       "      <td>79.62614</td>\n",
       "      <td>21.51496</td>\n",
       "      <td>1</td>\n",
       "      <td>1</td>\n",
       "      <td>0</td>\n",
       "      <td>0</td>\n",
       "    </tr>\n",
       "    <tr>\n",
       "      <th>...</th>\n",
       "      <td>...</td>\n",
       "      <td>...</td>\n",
       "      <td>...</td>\n",
       "      <td>...</td>\n",
       "      <td>...</td>\n",
       "      <td>...</td>\n",
       "      <td>...</td>\n",
       "      <td>...</td>\n",
       "      <td>...</td>\n",
       "      <td>...</td>\n",
       "      <td>...</td>\n",
       "      <td>...</td>\n",
       "      <td>...</td>\n",
       "      <td>...</td>\n",
       "      <td>...</td>\n",
       "      <td>...</td>\n",
       "      <td>...</td>\n",
       "      <td>...</td>\n",
       "      <td>...</td>\n",
       "      <td>...</td>\n",
       "      <td>...</td>\n",
       "      <td>...</td>\n",
       "      <td>...</td>\n",
       "      <td>...</td>\n",
       "      <td>...</td>\n",
       "    </tr>\n",
       "    <tr>\n",
       "      <th>584</th>\n",
       "      <td>0.80689</td>\n",
       "      <td>0</td>\n",
       "      <td>2756160000</td>\n",
       "      <td>2.00000</td>\n",
       "      <td>0</td>\n",
       "      <td>0</td>\n",
       "      <td>0</td>\n",
       "      <td>0</td>\n",
       "      <td>0</td>\n",
       "      <td>0</td>\n",
       "      <td>0</td>\n",
       "      <td>0</td>\n",
       "      <td>0</td>\n",
       "      <td>0</td>\n",
       "      <td>0</td>\n",
       "      <td>1</td>\n",
       "      <td>0</td>\n",
       "      <td>남강댐(Ⅰ) 광역상수도 노후관 개량사업 기본 및 실시설계 용역(2공구) [공가]</td>\n",
       "      <td>2021</td>\n",
       "      <td>80.68909</td>\n",
       "      <td>21.73710</td>\n",
       "      <td>0</td>\n",
       "      <td>0</td>\n",
       "      <td>0</td>\n",
       "      <td>0</td>\n",
       "    </tr>\n",
       "    <tr>\n",
       "      <th>585</th>\n",
       "      <td>0.83163</td>\n",
       "      <td>0</td>\n",
       "      <td>3670480000</td>\n",
       "      <td>2.00000</td>\n",
       "      <td>0</td>\n",
       "      <td>0</td>\n",
       "      <td>0</td>\n",
       "      <td>0</td>\n",
       "      <td>0</td>\n",
       "      <td>0</td>\n",
       "      <td>0</td>\n",
       "      <td>0</td>\n",
       "      <td>0</td>\n",
       "      <td>0</td>\n",
       "      <td>0</td>\n",
       "      <td>0</td>\n",
       "      <td>0</td>\n",
       "      <td>대청댐 광역상수도 노후관 개량사업 기본 및 실시설계 용역(1공구) [공가]</td>\n",
       "      <td>2021</td>\n",
       "      <td>83.16260</td>\n",
       "      <td>22.02359</td>\n",
       "      <td>0</td>\n",
       "      <td>0</td>\n",
       "      <td>0</td>\n",
       "      <td>0</td>\n",
       "    </tr>\n",
       "    <tr>\n",
       "      <th>586</th>\n",
       "      <td>0.81816</td>\n",
       "      <td>0</td>\n",
       "      <td>3068230000</td>\n",
       "      <td>2.00000</td>\n",
       "      <td>0</td>\n",
       "      <td>0</td>\n",
       "      <td>0</td>\n",
       "      <td>0</td>\n",
       "      <td>0</td>\n",
       "      <td>0</td>\n",
       "      <td>0</td>\n",
       "      <td>0</td>\n",
       "      <td>0</td>\n",
       "      <td>0</td>\n",
       "      <td>0</td>\n",
       "      <td>0</td>\n",
       "      <td>0</td>\n",
       "      <td>대청댐 광역상수도 노후관 개량사업 기본 및 실시설계 용역(2공구) [공가]</td>\n",
       "      <td>2021</td>\n",
       "      <td>81.81562</td>\n",
       "      <td>21.84437</td>\n",
       "      <td>0</td>\n",
       "      <td>0</td>\n",
       "      <td>0</td>\n",
       "      <td>0</td>\n",
       "    </tr>\n",
       "    <tr>\n",
       "      <th>589</th>\n",
       "      <td>0.94826</td>\n",
       "      <td>0</td>\n",
       "      <td>1165400000</td>\n",
       "      <td>5.00000</td>\n",
       "      <td>0</td>\n",
       "      <td>0</td>\n",
       "      <td>0</td>\n",
       "      <td>0</td>\n",
       "      <td>0</td>\n",
       "      <td>0</td>\n",
       "      <td>0</td>\n",
       "      <td>0</td>\n",
       "      <td>0</td>\n",
       "      <td>0</td>\n",
       "      <td>1</td>\n",
       "      <td>0</td>\n",
       "      <td>0</td>\n",
       "      <td>포항-안동2(2공구) 국도건설공사 지장관로 이설공사 실시설계 용역 [공가][PQ]</td>\n",
       "      <td>2021</td>\n",
       "      <td>94.82592</td>\n",
       "      <td>20.87633</td>\n",
       "      <td>0</td>\n",
       "      <td>0</td>\n",
       "      <td>0</td>\n",
       "      <td>0</td>\n",
       "    </tr>\n",
       "    <tr>\n",
       "      <th>600</th>\n",
       "      <td>0.83543</td>\n",
       "      <td>0</td>\n",
       "      <td>2062000000</td>\n",
       "      <td>2.00000</td>\n",
       "      <td>0</td>\n",
       "      <td>0</td>\n",
       "      <td>0</td>\n",
       "      <td>0</td>\n",
       "      <td>0</td>\n",
       "      <td>0</td>\n",
       "      <td>0</td>\n",
       "      <td>0</td>\n",
       "      <td>0</td>\n",
       "      <td>0</td>\n",
       "      <td>0</td>\n",
       "      <td>1</td>\n",
       "      <td>0</td>\n",
       "      <td>금강남부권(2차) 급수체계조정사업 기본 및 실시설계용역 [공가][PQ]</td>\n",
       "      <td>2021</td>\n",
       "      <td>83.54290</td>\n",
       "      <td>21.44694</td>\n",
       "      <td>0</td>\n",
       "      <td>0</td>\n",
       "      <td>0</td>\n",
       "      <td>0</td>\n",
       "    </tr>\n",
       "  </tbody>\n",
       "</table>\n",
       "<p>160 rows × 25 columns</p>\n",
       "</div>"
      ],
      "text/plain": [
       "     낙찰율(예대)  Collusion        기초금액  dnumfirm2  d2011  d2012  d2013  d2014  \\\n",
       "14   0.78367          0  2123946000    5.00000      1      0      0      0   \n",
       "17   0.79078          0  1953820000    3.00000      1      0      0      0   \n",
       "18   0.80175          0  1901130000    3.00000      1      0      0      0   \n",
       "23   0.79400          0  3205180000    2.00000      1      0      0      0   \n",
       "24   0.79626          0  2207128000    2.00000      1      0      0      0   \n",
       "..       ...        ...         ...        ...    ...    ...    ...    ...   \n",
       "584  0.80689          0  2756160000    2.00000      0      0      0      0   \n",
       "585  0.83163          0  3670480000    2.00000      0      0      0      0   \n",
       "586  0.81816          0  3068230000    2.00000      0      0      0      0   \n",
       "589  0.94826          0  1165400000    5.00000      0      0      0      0   \n",
       "600  0.83543          0  2062000000    2.00000      0      0      0      0   \n",
       "\n",
       "     d2015  d2016  d2017  d2018  d2019  d2020  d33  d66  dmaintain  \\\n",
       "14       0      0      0      0      0      0    0    1          0   \n",
       "17       0      0      0      0      0      0    0    1          0   \n",
       "18       0      0      0      0      0      0    0    1          0   \n",
       "23       0      0      0      0      0      0    0    0          0   \n",
       "24       0      0      0      0      0      0    0    1          0   \n",
       "..     ...    ...    ...    ...    ...    ...  ...  ...        ...   \n",
       "584      0      0      0      0      0      0    0    1          0   \n",
       "585      0      0      0      0      0      0    0    0          0   \n",
       "586      0      0      0      0      0      0    0    0          0   \n",
       "589      0      0      0      0      0      0    1    0          0   \n",
       "600      0      0      0      0      0      0    0    1          0   \n",
       "\n",
       "                                                  공고명    연도  tenderRatio  \\\n",
       "14   시화MTV 중1~117호선(서해안 우회도로) 기본 및 실시설계용역 [정][공가][PQ]  2011     78.36658   \n",
       "17      광역상수도 공급사업(포천화력발전소 하이닉스) 기본 및 실시설계용역 [공가][PQ]  2011     79.07842   \n",
       "18           예산당진지역 공업용수도 통합공급시설 기본 및 실시설계용역 [공가][PQ]  2011     80.17481   \n",
       "23       낙동강 강변여과수사업 도수시설(양산구간) 기본 및 실시설계 용역 [공가][PQ]  2011     79.39958   \n",
       "24       낙동강 강변여과수사업 도수시설(김해구간) 기본 및 실시설계 용역 [공가][PQ]  2011     79.62614   \n",
       "..                                                ...   ...          ...   \n",
       "584      남강댐(Ⅰ) 광역상수도 노후관 개량사업 기본 및 실시설계 용역(2공구) [공가]  2021     80.68909   \n",
       "585         대청댐 광역상수도 노후관 개량사업 기본 및 실시설계 용역(1공구) [공가]  2021     83.16260   \n",
       "586         대청댐 광역상수도 노후관 개량사업 기본 및 실시설계 용역(2공구) [공가]  2021     81.81562   \n",
       "589     포항-안동2(2공구) 국도건설공사 지장관로 이설공사 실시설계 용역 [공가][PQ]  2021     94.82592   \n",
       "600           금강남부권(2차) 급수체계조정사업 기본 및 실시설계용역 [공가][PQ]  2021     83.54290   \n",
       "\n",
       "      LnCash  db2013  db2014  db2017_a  db2017_b  \n",
       "14  21.47654       1       1         0         0  \n",
       "17  21.39305       1       1         0         0  \n",
       "18  21.36571       1       1         0         0  \n",
       "23  21.88803       1       1         0         0  \n",
       "24  21.51496       1       1         0         0  \n",
       "..       ...     ...     ...       ...       ...  \n",
       "584 21.73710       0       0         0         0  \n",
       "585 22.02359       0       0         0         0  \n",
       "586 21.84437       0       0         0         0  \n",
       "589 20.87633       0       0         0         0  \n",
       "600 21.44694       0       0         0         0  \n",
       "\n",
       "[160 rows x 25 columns]"
      ]
     },
     "execution_count": 483,
     "metadata": {},
     "output_type": "execute_result"
    }
   ],
   "source": [
    "df_temp6.loc[df_temp6['공고명'].str.contains(\"실시설계\")]"
   ]
  },
  {
   "cell_type": "code",
   "execution_count": null,
   "metadata": {},
   "outputs": [
    {
     "data": {
      "text/plain": [
       "(0, 25)"
      ]
     },
     "execution_count": 484,
     "metadata": {},
     "output_type": "execute_result"
    }
   ],
   "source": [
    "df_temp6.loc[~(df_temp6['공고명'].isin(df_156['공고명'])) & (~df_temp6['dmaintain'] == 1)].shape"
   ]
  },
  {
   "cell_type": "code",
   "execution_count": null,
   "metadata": {},
   "outputs": [
    {
     "data": {
      "text/plain": [
       "(301, 25)"
      ]
     },
     "execution_count": 485,
     "metadata": {},
     "output_type": "execute_result"
    }
   ],
   "source": [
    "df_temp6.loc[(~(df_temp6['공고명'].isin(df_156['공고명']))) & (~(df_temp6['dmaintain']==1))].shape # .to_excel('./V Final_1001/139.xlsx', index = False)"
   ]
  },
  {
   "cell_type": "code",
   "execution_count": null,
   "metadata": {},
   "outputs": [
    {
     "data": {
      "text/plain": [
       "81.12536662478091"
      ]
     },
     "execution_count": 486,
     "metadata": {},
     "output_type": "execute_result"
    }
   ],
   "source": [
    "np.mean(df_temp6.loc[(~(df_temp6['공고명'].isin(df_156['공고명']))) & (~(df_temp6['dmaintain']==1)),'tenderRatio'])"
   ]
  },
  {
   "cell_type": "code",
   "execution_count": null,
   "metadata": {},
   "outputs": [
    {
     "data": {
      "text/plain": [
       "83.56161762916763"
      ]
     },
     "execution_count": 487,
     "metadata": {},
     "output_type": "execute_result"
    }
   ],
   "source": [
    "np.mean(df_temp6.loc[~(df_temp6['공고명'].isin(df_156['공고명'])) & (df_temp6['dmaintain'] == 1),'tenderRatio'])"
   ]
  },
  {
   "cell_type": "code",
   "execution_count": null,
   "metadata": {},
   "outputs": [
    {
     "data": {
      "text/plain": [
       "(357, 25)"
      ]
     },
     "execution_count": 488,
     "metadata": {},
     "output_type": "execute_result"
    }
   ],
   "source": [
    "df_temp6.loc[~(df_temp6['공고명'].isin(df_156['공고명']))].shape"
   ]
  },
  {
   "cell_type": "code",
   "execution_count": null,
   "metadata": {},
   "outputs": [
    {
     "data": {
      "text/plain": [
       "81.50752364507687"
      ]
     },
     "execution_count": 489,
     "metadata": {},
     "output_type": "execute_result"
    }
   ],
   "source": [
    "np.mean(df_temp6.loc[~(df_temp6['공고명'].isin(df_156['공고명'])), 'tenderRatio'])"
   ]
  },
  {
   "cell_type": "code",
   "execution_count": 140,
   "metadata": {},
   "outputs": [
    {
     "data": {
      "text/plain": [
       "(28, 25)"
      ]
     },
     "execution_count": 140,
     "metadata": {},
     "output_type": "execute_result"
    }
   ],
   "source": [
    "df_temp6.loc[(df_temp6['Collusion'] == 0) & (df_temp6['dmaintain'] == 1)].shape"
   ]
  },
  {
   "cell_type": "code",
   "execution_count": 141,
   "metadata": {},
   "outputs": [
    {
     "data": {
      "text/plain": [
       "(83.56161762916763, (56, 25))"
      ]
     },
     "execution_count": 141,
     "metadata": {},
     "output_type": "execute_result"
    }
   ],
   "source": [
    "np.mean(df_temp6['tenderRatio']), df_temp6.shape # 526개 평균"
   ]
  },
  {
   "cell_type": "code",
   "execution_count": 230,
   "metadata": {},
   "outputs": [
    {
     "data": {
      "text/html": [
       "<div>\n",
       "<style scoped>\n",
       "    .dataframe tbody tr th:only-of-type {\n",
       "        vertical-align: middle;\n",
       "    }\n",
       "\n",
       "    .dataframe tbody tr th {\n",
       "        vertical-align: top;\n",
       "    }\n",
       "\n",
       "    .dataframe thead th {\n",
       "        text-align: right;\n",
       "    }\n",
       "</style>\n",
       "<table border=\"1\" class=\"dataframe\">\n",
       "  <thead>\n",
       "    <tr style=\"text-align: right;\">\n",
       "      <th></th>\n",
       "      <th>낙찰율(예대)</th>\n",
       "      <th>Collusion</th>\n",
       "      <th>기초금액</th>\n",
       "      <th>dnumfirm2</th>\n",
       "      <th>d2011</th>\n",
       "      <th>d2012</th>\n",
       "      <th>d2013</th>\n",
       "      <th>d2014</th>\n",
       "      <th>d2015</th>\n",
       "      <th>d2016</th>\n",
       "      <th>d2017</th>\n",
       "      <th>d2018</th>\n",
       "      <th>d2019</th>\n",
       "      <th>d2020</th>\n",
       "      <th>d33</th>\n",
       "      <th>d66</th>\n",
       "      <th>dmaintain</th>\n",
       "      <th>공고명</th>\n",
       "      <th>연도</th>\n",
       "      <th>tenderRatio</th>\n",
       "      <th>LnCash</th>\n",
       "      <th>db2013</th>\n",
       "      <th>db2014</th>\n",
       "      <th>db2017_a</th>\n",
       "      <th>db2017_b</th>\n",
       "    </tr>\n",
       "  </thead>\n",
       "  <tbody>\n",
       "    <tr>\n",
       "      <th>171</th>\n",
       "      <td>0.67048</td>\n",
       "      <td>0</td>\n",
       "      <td>2137534902</td>\n",
       "      <td>3.00000</td>\n",
       "      <td>0</td>\n",
       "      <td>0</td>\n",
       "      <td>0</td>\n",
       "      <td>0</td>\n",
       "      <td>1</td>\n",
       "      <td>0</td>\n",
       "      <td>0</td>\n",
       "      <td>0</td>\n",
       "      <td>0</td>\n",
       "      <td>0</td>\n",
       "      <td>0</td>\n",
       "      <td>1</td>\n",
       "      <td>1</td>\n",
       "      <td>발전통합운영시스템 점검정비 용역 [제한][공가]</td>\n",
       "      <td>2015</td>\n",
       "      <td>67.04763</td>\n",
       "      <td>21.48292</td>\n",
       "      <td>0</td>\n",
       "      <td>0</td>\n",
       "      <td>1</td>\n",
       "      <td>1</td>\n",
       "    </tr>\n",
       "  </tbody>\n",
       "</table>\n",
       "</div>"
      ],
      "text/plain": [
       "     낙찰율(예대)  Collusion        기초금액  dnumfirm2  d2011  d2012  d2013  d2014  \\\n",
       "171  0.67048          0  2137534902    3.00000      0      0      0      0   \n",
       "\n",
       "     d2015  d2016  d2017  d2018  d2019  d2020  d33  d66  dmaintain  \\\n",
       "171      1      0      0      0      0      0    0    1          1   \n",
       "\n",
       "                            공고명    연도  tenderRatio   LnCash  db2013  db2014  \\\n",
       "171  발전통합운영시스템 점검정비 용역 [제한][공가]  2015     67.04763 21.48292       0       0   \n",
       "\n",
       "     db2017_a  db2017_b  \n",
       "171         1         1  "
      ]
     },
     "execution_count": 230,
     "metadata": {},
     "output_type": "execute_result"
    }
   ],
   "source": [
    "df_temp6.loc[df_temp6['dnumfirm2'] != 2]"
   ]
  },
  {
   "cell_type": "code",
   "execution_count": 260,
   "metadata": {},
   "outputs": [],
   "source": [
    "\"\"\" dnumfirm == 2 인 55개 경우만 돌려봐 \"\"\"\n",
    "df_temp6 = df_temp6.loc[df_temp6['dnumfirm2'] == 2]"
   ]
  },
  {
   "cell_type": "code",
   "execution_count": 259,
   "metadata": {},
   "outputs": [
    {
     "data": {
      "text/plain": [
       "(56, 25)"
      ]
     },
     "execution_count": 259,
     "metadata": {},
     "output_type": "execute_result"
    }
   ],
   "source": [
    "# df_56 = df_temp6\n",
    "df_56.shape"
   ]
  },
  {
   "cell_type": "code",
   "execution_count": 266,
   "metadata": {},
   "outputs": [
    {
     "data": {
      "text/plain": [
       "(56, 25)"
      ]
     },
     "execution_count": 266,
     "metadata": {},
     "output_type": "execute_result"
    }
   ],
   "source": [
    "df_temp6 = df_56\n",
    "df_temp6.shape"
   ]
  },
  {
   "cell_type": "code",
   "execution_count": 268,
   "metadata": {},
   "outputs": [
    {
     "data": {
      "text/plain": [
       "(1, 25)"
      ]
     },
     "execution_count": 268,
     "metadata": {},
     "output_type": "execute_result"
    }
   ],
   "source": [
    "df_temp6.loc[df_temp6['dnumfirm2'] != 2].shape"
   ]
  },
  {
   "cell_type": "code",
   "execution_count": 274,
   "metadata": {},
   "outputs": [
    {
     "data": {
      "text/plain": [
       "171   67.04763\n",
       "195   76.22829\n",
       "196   76.30595\n",
       "153   77.23106\n",
       "150   77.54124\n",
       "205   77.60158\n",
       "206   77.75113\n",
       "204   77.82096\n",
       "148   78.13360\n",
       "197   78.39932\n",
       "152   78.40127\n",
       "149   79.08319\n",
       "147   79.18655\n",
       "151   79.59400\n",
       "304   79.89068\n",
       "286   80.07567\n",
       "305   80.20620\n",
       "287   80.58255\n",
       "232   80.75895\n",
       "298   80.78791\n",
       "289   80.87270\n",
       "288   81.80710\n",
       "285   82.11510\n",
       "233   82.66409\n",
       "264   82.93440\n",
       "596   83.29231\n",
       "82    83.71191\n",
       "86    84.27634\n",
       "85    84.54076\n",
       "81    84.80655\n",
       "38    84.83441\n",
       "83    85.00901\n",
       "80    85.03605\n",
       "31    85.16000\n",
       "40    85.24703\n",
       "44    85.33119\n",
       "84    85.48650\n",
       "43    85.65617\n",
       "29    86.31000\n",
       "30    86.44000\n",
       "41    86.56471\n",
       "42    86.74141\n",
       "39    87.08431\n",
       "27    87.13000\n",
       "33    87.14000\n",
       "326   87.15198\n",
       "32    87.50000\n",
       "28    87.95000\n",
       "114   88.00830\n",
       "534   89.63267\n",
       "535   90.36321\n",
       "398   91.56431\n",
       "328   92.44619\n",
       "327   92.93016\n",
       "529   93.43547\n",
       "587   95.64851\n",
       "Name: tenderRatio, dtype: float64"
      ]
     },
     "execution_count": 274,
     "metadata": {},
     "output_type": "execute_result"
    }
   ],
   "source": [
    "df_temp6['tenderRatio'].sort_values()"
   ]
  },
  {
   "cell_type": "code",
   "execution_count": 56,
   "metadata": {},
   "outputs": [
    {
     "data": {
      "text/plain": [
       "6123"
      ]
     },
     "execution_count": 56,
     "metadata": {},
     "output_type": "execute_result"
    }
   ],
   "source": [
    "results1 = smf.ols('tenderRatio ~ Collusion + LnCash + dmaintain + dnumfirm2', data=df_temp6).fit()\n",
    "# results2 = smf.ols('tenderRatio ~ Collusion + LnCash + dmaintain + dnumfirm2 + d2011 + d2012 + d2013 + d2014 + d2015 + d2016 + d2017 + d2018 + d2019 + d2020', data=df_temp6).fit()\n",
    "# results3 = smf.ols('tenderRatio ~ Collusion + LnCash + dmaintain + dnumfirm2 + d2011 + d2012 + d2013 + d2014 + d2015 + d2016 + d2017 + d2018 + d2019 + d2020 + d33 + d66', data=df_temp6).fit()\n",
    "results2 = smf.ols('tenderRatio ~ Collusion + LnCash + dmaintain + dnumfirm2 + d2011 + d2012 + d2013 + d2014 + d2016 + d2017 + d2018 + d2019 + d2020', data=df_temp6).fit()\n",
    "results3 = smf.ols('tenderRatio ~ Collusion + LnCash + dmaintain + dnumfirm2 + d2011 + d2012 + d2013 + d2014 + d2016 + d2017 + d2018 + d2019 + d2020 + d33 + d66', data=df_temp6).fit()\n",
    "\n",
    "results4 = smf.ols('tenderRatio ~ Collusion + LnCash + dmaintain + dnumfirm2 + db2014 + db2017_b', data=df_temp6).fit()\n",
    "results5 = smf.ols('tenderRatio ~ Collusion + LnCash + dmaintain + dnumfirm2 + d33 + d66 + db2014 + db2017_b', data=df_temp6).fit()\n",
    "\n",
    "\n",
    "stargazer_tab = Stargazer([results1, results2, results3, results4, results5])\n",
    "open('./V Final_1011/regression_132_dmaintain_2014.html', 'w').write(stargazer_tab.render_html())  # for latex"
   ]
  },
  {
   "cell_type": "code",
   "execution_count": 270,
   "metadata": {},
   "outputs": [
    {
     "data": {
      "text/plain": [
       "4712"
      ]
     },
     "execution_count": 270,
     "metadata": {},
     "output_type": "execute_result"
    }
   ],
   "source": [
    "# results1 = smf.ols('tenderRatio ~ Collusion + LnCash ', data=df_temp6).fit()\n",
    "\n",
    "# results2 = smf.ols('tenderRatio ~ Collusion + LnCash  + d2013', data=df_temp6).fit()\n",
    "# results3 = smf.ols('tenderRatio ~ Collusion + LnCash  + d2015', data=df_temp6).fit()\n",
    "# results4 = smf.ols('tenderRatio ~ Collusion + LnCash  + d2017', data=df_temp6).fit()\n",
    "\n",
    "# results5 = smf.ols('tenderRatio ~ Collusion + LnCash  + d33 + d66', data=df_temp6).fit()\n",
    "\n",
    "# results6 = smf.ols('tenderRatio ~ Collusion + LnCash  + d2013 + d33 + d66', data=df_temp6).fit()\n",
    "# results7 = smf.ols('tenderRatio ~ Collusion + LnCash  + d2015 + d33 + d66', data=df_temp6).fit()\n",
    "# results8 = smf.ols('tenderRatio ~ Collusion + LnCash  + d2017 + d33 + d66', data=df_temp6).fit()\n",
    "\n",
    "# stargazer_tab = Stargazer([results1, results2, results3, results4, results5, results6, results7, results8])\n",
    "# open('./V Final_1006/regression_56_업체수미포함.html', 'w').write(stargazer_tab.render_html())  # for latex"
   ]
  },
  {
   "cell_type": "code",
   "execution_count": 57,
   "metadata": {},
   "outputs": [
    {
     "data": {
      "text/plain": [
       "(28, 24)"
      ]
     },
     "execution_count": 57,
     "metadata": {},
     "output_type": "execute_result"
    }
   ],
   "source": [
    "df_xmatrix = df_temp6.loc[(df_temp6['Collusion'] == 1) & (df_temp6['tenderRatio'] < 90)]\n",
    "#df_xmatrix = df_xmatrix.drop(['Collusion'], axis = 1)\n",
    "df_xmatrix.shape"
   ]
  },
  {
   "cell_type": "code",
   "execution_count": 58,
   "metadata": {},
   "outputs": [],
   "source": [
    "fitted = pd.concat([df_xmatrix['tenderRatio'],  results1.predict(df_xmatrix), results2.predict(df_xmatrix), results3.predict(df_xmatrix), results4.predict(df_xmatrix), \n",
    "                    results5.predict(df_xmatrix)], axis = 1)\n",
    "\n",
    "fitted.columns = ['tenderRatio', 'fitted1', 'fitted2', 'fitted3', 'fitted4', 'fitted5']\n",
    "\n",
    "fitted_final = fitted.copy()\n",
    "fitted_final['diff1'] = fitted['tenderRatio'] - fitted['fitted1'] + results1.params['Collusion']\n",
    "fitted_final['diff2'] = fitted['tenderRatio'] - fitted['fitted2'] + results2.params['Collusion']\n",
    "fitted_final['diff3'] = fitted['tenderRatio'] - fitted['fitted3'] + results3.params['Collusion']\n",
    "fitted_final['diff4'] = fitted['tenderRatio'] - fitted['fitted4'] + results4.params['Collusion']\n",
    "fitted_final['diff5'] = fitted['tenderRatio'] - fitted['fitted5'] + results5.params['Collusion']\n",
    "\n",
    "fitted_final.to_csv('./V Final_1011/fitted_132_dmaintain_2014.csv', index = False)"
   ]
  },
  {
   "cell_type": "code",
   "execution_count": 277,
   "metadata": {},
   "outputs": [],
   "source": [
    "# fitted = pd.concat([df_xmatrix['tenderRatio'],  results1.predict(df_xmatrix), results2.predict(df_xmatrix), results3.predict(df_xmatrix), results4.predict(df_xmatrix),\n",
    "#                     results5.predict(df_xmatrix), results6.predict(df_xmatrix), results7.predict(df_xmatrix), results8.predict(df_xmatrix)], axis = 1)\n",
    "\n",
    "# fitted.columns = ['tenderRatio', 'fitted1', 'fitted2', 'fitted3', 'fitted4', 'fitted5', 'fitted6', 'fitted7', 'fitted8']\n",
    "\n",
    "# fitted_final = fitted.copy()\n",
    "# fitted_final['diff1'] = fitted['tenderRatio'] - fitted['fitted1'] + results1.params['Collusion']\n",
    "# fitted_final['diff2'] = fitted['tenderRatio'] - fitted['fitted2'] + results2.params['Collusion']\n",
    "# fitted_final['diff3'] = fitted['tenderRatio'] - fitted['fitted3'] + results3.params['Collusion']\n",
    "# fitted_final['diff4'] = fitted['tenderRatio'] - fitted['fitted4'] + results4.params['Collusion']\n",
    "# fitted_final['diff5'] = fitted['tenderRatio'] - fitted['fitted5'] + results5.params['Collusion']\n",
    "# fitted_final['diff6'] = fitted['tenderRatio'] - fitted['fitted6'] + results6.params['Collusion']\n",
    "# fitted_final['diff7'] = fitted['tenderRatio'] - fitted['fitted7'] + results7.params['Collusion']\n",
    "# fitted_final['diff8'] = fitted['tenderRatio'] - fitted['fitted8'] + results8.params['Collusion']\n",
    "\n",
    "# fitted_final.to_csv('./V Final_1006/fitted_56_업체수미포함.csv', index = False)"
   ]
  },
  {
   "cell_type": "markdown",
   "metadata": {},
   "source": [
    "### 7. Exclude collusion"
   ]
  },
  {
   "cell_type": "code",
   "execution_count": 59,
   "metadata": {},
   "outputs": [
    {
     "data": {
      "text/plain": [
       "(104, 24)"
      ]
     },
     "execution_count": 59,
     "metadata": {},
     "output_type": "execute_result"
    }
   ],
   "source": [
    "df_temp7 = df_temp6.loc[df_temp6['Collusion'] == 0]\n",
    "np.mean(df_temp7['tenderRatio'])\n",
    "df_temp7.shape"
   ]
  },
  {
   "cell_type": "code",
   "execution_count": 60,
   "metadata": {},
   "outputs": [
    {
     "data": {
      "text/plain": [
       "(104, 24)"
      ]
     },
     "execution_count": 60,
     "metadata": {},
     "output_type": "execute_result"
    }
   ],
   "source": [
    "df_temp7.shape"
   ]
  },
  {
   "cell_type": "code",
   "execution_count": 61,
   "metadata": {},
   "outputs": [
    {
     "data": {
      "text/plain": [
       "5796"
      ]
     },
     "execution_count": 61,
     "metadata": {},
     "output_type": "execute_result"
    }
   ],
   "source": [
    "# df_temp = df_temp6.loc[df_temp6['Collusion'] == 0]\n",
    "\n",
    "results1 = smf.ols('tenderRatio ~ LnCash + dmaintain + dnumfirm2', data=df_temp7).fit()\n",
    "# results2 = smf.ols('tenderRatio ~ LnCash + dmaintain + dnumfirm2 + d2011 + d2012 + d2013 + d2014 + d2015 + d2016 + d2017 + d2018 + d2019 + d2020', data=df_temp7).fit()\n",
    "# results3 = smf.ols('tenderRatio ~ LnCash + dmaintain + dnumfirm2 + d2011 + d2012 + d2013 + d2014 + d2015 + d2016 + d2017 + d2018 + d2019 + d2020 + d33 + d66', data=df_temp7).fit()\n",
    "results2 = smf.ols('tenderRatio ~ LnCash + dmaintain + dnumfirm2 + d2011 + d2012 + d2013 + d2014 + d2016 + d2017 + d2018 + d2019 + d2020', data=df_temp7).fit()\n",
    "results3 = smf.ols('tenderRatio ~ LnCash + dmaintain + dnumfirm2 + d2011 + d2012 + d2013 + d2014 + d2016 + d2017 + d2018 + d2019 + d2020 + d33 + d66', data=df_temp7).fit()\n",
    "results4 = smf.ols('tenderRatio ~ LnCash + dmaintain + dnumfirm2 + db2014 + db2017_b', data=df_temp7).fit()\n",
    "results5 = smf.ols('tenderRatio ~ LnCash + dmaintain + dnumfirm2 + d33 + d66 + db2014 + db2017_b', data=df_temp7).fit()\n",
    "\n",
    "\n",
    "stargazer_tab = Stargazer([results1, results2, results3, results4, results5])\n",
    "open('./V Final_1011/regression_104_dmaintain_2014.html', 'w').write(stargazer_tab.render_html())  # for latex"
   ]
  },
  {
   "cell_type": "code",
   "execution_count": 280,
   "metadata": {},
   "outputs": [
    {
     "data": {
      "text/plain": [
       "4277"
      ]
     },
     "execution_count": 280,
     "metadata": {},
     "output_type": "execute_result"
    }
   ],
   "source": [
    "# results1 = smf.ols('tenderRatio ~ LnCash ', data=df_temp7).fit()\n",
    "\n",
    "# results2 = smf.ols('tenderRatio ~ LnCash  + d2013', data=df_temp7).fit()\n",
    "# results3 = smf.ols('tenderRatio ~ LnCash  + d2015', data=df_temp7).fit()\n",
    "# results4 = smf.ols('tenderRatio ~ LnCash  + d2017', data=df_temp7).fit()\n",
    "\n",
    "# results5 = smf.ols('tenderRatio ~ LnCash  + d33 + d66', data=df_temp7).fit()\n",
    "\n",
    "# results6 = smf.ols('tenderRatio ~ LnCash  + d2013 + d33 + d66', data=df_temp7).fit()\n",
    "# results7 = smf.ols('tenderRatio ~ LnCash  + d2015 + d33 + d66', data=df_temp7).fit()\n",
    "# results8 = smf.ols('tenderRatio ~ LnCash  + d2017 + d33 + d66', data=df_temp7).fit()\n",
    "\n",
    "# stargazer_tab = Stargazer([results1, results2, results3, results4, results5, results6, results7, results8])\n",
    "# open('./V Final_1006/regression_28_업체수미포함.html', 'w').write(stargazer_tab.render_html())  # for latex"
   ]
  },
  {
   "cell_type": "code",
   "execution_count": 62,
   "metadata": {},
   "outputs": [],
   "source": [
    "fitted = pd.concat([df_xmatrix['tenderRatio'],  results1.predict(df_xmatrix), results2.predict(df_xmatrix), results3.predict(df_xmatrix), results4.predict(df_xmatrix),\n",
    "                    results5.predict(df_xmatrix)], axis = 1)\n",
    "\n",
    "fitted.columns = ['tenderRatio', 'fitted1', 'fitted2', 'fitted3', 'fitted4', 'fitted5']\n",
    "\n",
    "fitted_final = fitted.copy()\n",
    "fitted_final['diff1'] = fitted['tenderRatio'] - fitted['fitted1']\n",
    "fitted_final['diff2'] = fitted['tenderRatio'] - fitted['fitted2']\n",
    "fitted_final['diff3'] = fitted['tenderRatio'] - fitted['fitted3'] \n",
    "fitted_final['diff4'] = fitted['tenderRatio'] - fitted['fitted4'] \n",
    "fitted_final['diff5'] = fitted['tenderRatio'] - fitted['fitted5']\n",
    "\n",
    "\n",
    "fitted_final.to_csv('./V Final_1011/fitted_104_dmaintain_2014.csv', index = False)"
   ]
  },
  {
   "cell_type": "code",
   "execution_count": 193,
   "metadata": {},
   "outputs": [],
   "source": [
    "# fitted = pd.concat([df_xmatrix['tenderRatio'],  results1.predict(df_xmatrix), results2.predict(df_xmatrix), results3.predict(df_xmatrix), results4.predict(df_xmatrix),\n",
    "#                     results5.predict(df_xmatrix), results6.predict(df_xmatrix), results7.predict(df_xmatrix), results8.predict(df_xmatrix)], axis = 1)\n",
    "\n",
    "# fitted.columns = ['tenderRatio', 'fitted1', 'fitted2', 'fitted3', 'fitted4', 'fitted5', 'fitted6', 'fitted7', 'fitted8']\n",
    "\n",
    "# fitted_final = fitted.copy()\n",
    "# fitted_final['diff1'] = fitted['tenderRatio'] - fitted['fitted1']\n",
    "# fitted_final['diff2'] = fitted['tenderRatio'] - fitted['fitted2']\n",
    "# fitted_final['diff3'] = fitted['tenderRatio'] - fitted['fitted3'] \n",
    "# fitted_final['diff4'] = fitted['tenderRatio'] - fitted['fitted4'] \n",
    "# fitted_final['diff5'] = fitted['tenderRatio'] - fitted['fitted5']\n",
    "# fitted_final['diff6'] = fitted['tenderRatio'] - fitted['fitted6']\n",
    "# fitted_final['diff7'] = fitted['tenderRatio'] - fitted['fitted7']\n",
    "# fitted_final['diff8'] = fitted['tenderRatio'] - fitted['fitted8']\n",
    "\n",
    "# fitted_final.to_csv('./V Final_1006/fitted_28_업체수미포함_check.csv', index = False)"
   ]
  },
  {
   "cell_type": "code",
   "execution_count": 498,
   "metadata": {},
   "outputs": [],
   "source": [
    "fitted = pd.concat([df_xmatrix['tenderRatio'], results1.predict(df_xmatrix), results2.predict(df_xmatrix), results3.predict(df_xmatrix), \n",
    "                    results5.predict(df_xmatrix), results6.predict(df_xmatrix)], axis = 1)\n",
    "\n",
    "fitted.columns = ['tenderRatio','fitted1', 'fitted2', 'fitted3', 'fitted5', 'fitted6']\n",
    "\n",
    "fitted_final = fitted.copy()\n",
    "fitted_final['diff1'] = fitted['tenderRatio'] - fitted['fitted1'] \n",
    "fitted_final['diff2'] = fitted['tenderRatio'] - fitted['fitted2']\n",
    "fitted_final['diff3'] = fitted['tenderRatio'] - fitted['fitted3']\n",
    "fitted_final['diff5'] = fitted['tenderRatio'] - fitted['fitted5']\n",
    "fitted_final['diff6'] = fitted['tenderRatio'] - fitted['fitted6']\n",
    "\n",
    "fitted_final.to_csv('./V Final_1006/fitted_485_14년.csv', index = False)\n"
   ]
  },
  {
   "cell_type": "markdown",
   "metadata": {},
   "source": [
    "# New LS 220916 FINAL : 감정인데이터 기준으로 (2) 사용&제외"
   ]
  },
  {
   "cell_type": "markdown",
   "metadata": {},
   "source": [
    "### 0916 1230 지하수 2개 관측치 제거\n",
    "### 0916 1335 점검정비 55개? 포함"
   ]
  },
  {
   "cell_type": "code",
   "execution_count": 48,
   "metadata": {},
   "outputs": [],
   "source": [
    "import pandas as pd\n",
    "import numpy as np\n",
    "import statsmodels.formula.api as smf\n",
    "from stargazer.stargazer import Stargazer\n",
    "from scipy.stats import f\n",
    "\n",
    "pd.set_option('Display.max_columns', 100)\n",
    "pd.set_option('display.float_format', lambda x: '%.5f' % x)"
   ]
  },
  {
   "cell_type": "code",
   "execution_count": 49,
   "metadata": {},
   "outputs": [],
   "source": [
    "# dfReg = pd.read_excel(\"./교수님 전달 파일/0914 datafile excluded version.xlsx\", sheet_name=None, header = 4)\n",
    "dfReg = pd.read_excel(\"./교수님 전달 파일/0915 datafile excluded version dmaintain.xlsx\", sheet_name=None, header = 4)"
   ]
  },
  {
   "cell_type": "code",
   "execution_count": 50,
   "metadata": {},
   "outputs": [
    {
     "data": {
      "text/plain": [
       "dict_keys(['2011년', '2012년', '2013년', '2014년', '2015년', '2016년', '2017년', '2018년', '2019년', '2020년', '2021년'])"
      ]
     },
     "execution_count": 50,
     "metadata": {},
     "output_type": "execute_result"
    }
   ],
   "source": [
    "dfReg.keys()"
   ]
  },
  {
   "cell_type": "code",
   "execution_count": 51,
   "metadata": {},
   "outputs": [],
   "source": [
    "raw = pd.concat(dfReg, ignore_index=True)"
   ]
  },
  {
   "cell_type": "code",
   "execution_count": 52,
   "metadata": {},
   "outputs": [],
   "source": [
    "Klist = pd.Series(['2011-0107' ,'2011-0892','2013-0036' ,'2013-0559' ,'2013-2386' ,'2016-4565' ,'2017-0119' ,'2018-0139' ,'B5201800526' ,'B5201900988' ,'B5201901079' ,'B5201901922' ,'B5202002509'])"
   ]
  },
  {
   "cell_type": "code",
   "execution_count": 65,
   "metadata": {},
   "outputs": [
    {
     "data": {
      "text/plain": [
       "(601, 10)"
      ]
     },
     "execution_count": 65,
     "metadata": {},
     "output_type": "execute_result"
    }
   ],
   "source": [
    "df_raw = raw[['공고명','낙찰율(예대)','연도','기초금액','1순위투찰금액','업체수','담합','점검정비','공고번호','감정']]\n",
    "\n",
    "df_raw.shape"
   ]
  },
  {
   "cell_type": "code",
   "execution_count": 66,
   "metadata": {},
   "outputs": [
    {
     "data": {
      "text/html": [
       "<div>\n",
       "<style scoped>\n",
       "    .dataframe tbody tr th:only-of-type {\n",
       "        vertical-align: middle;\n",
       "    }\n",
       "\n",
       "    .dataframe tbody tr th {\n",
       "        vertical-align: top;\n",
       "    }\n",
       "\n",
       "    .dataframe thead th {\n",
       "        text-align: right;\n",
       "    }\n",
       "</style>\n",
       "<table border=\"1\" class=\"dataframe\">\n",
       "  <thead>\n",
       "    <tr style=\"text-align: right;\">\n",
       "      <th></th>\n",
       "      <th>공고명</th>\n",
       "      <th>낙찰율(예대)</th>\n",
       "      <th>연도</th>\n",
       "      <th>기초금액</th>\n",
       "      <th>1순위투찰금액</th>\n",
       "      <th>업체수</th>\n",
       "      <th>담합</th>\n",
       "      <th>점검정비</th>\n",
       "      <th>공고번호</th>\n",
       "      <th>감정</th>\n",
       "    </tr>\n",
       "  </thead>\n",
       "  <tbody>\n",
       "    <tr>\n",
       "      <th>560</th>\n",
       "      <td>대산임해산업지역 공업용수도(해수담수화)사업 건설공사 [제한][공가]</td>\n",
       "      <td>1.00000</td>\n",
       "      <td>2021</td>\n",
       "      <td>251287000000</td>\n",
       "      <td>251287000000</td>\n",
       "      <td>3</td>\n",
       "      <td>0</td>\n",
       "      <td>0</td>\n",
       "      <td>B3202100755</td>\n",
       "      <td>NaN</td>\n",
       "    </tr>\n",
       "  </tbody>\n",
       "</table>\n",
       "</div>"
      ],
      "text/plain": [
       "                                       공고명  낙찰율(예대)    연도          기초금액  \\\n",
       "560  대산임해산업지역 공업용수도(해수담수화)사업 건설공사 [제한][공가]  1.00000  2021  251287000000   \n",
       "\n",
       "          1순위투찰금액  업체수  담합  점검정비         공고번호   감정  \n",
       "560  251287000000    3   0     0  B3202100755  NaN  "
      ]
     },
     "execution_count": 66,
     "metadata": {},
     "output_type": "execute_result"
    }
   ],
   "source": [
    "df_raw.loc[df_raw['낙찰율(예대)'] == 1]"
   ]
  },
  {
   "cell_type": "code",
   "execution_count": 67,
   "metadata": {},
   "outputs": [
    {
     "data": {
      "text/plain": [
       "0      False\n",
       "1      False\n",
       "2      False\n",
       "3      False\n",
       "4      False\n",
       "       ...  \n",
       "596    False\n",
       "597    False\n",
       "598    False\n",
       "599    False\n",
       "600    False\n",
       "Name: 공고번호, Length: 601, dtype: bool"
      ]
     },
     "execution_count": 67,
     "metadata": {},
     "output_type": "execute_result"
    }
   ],
   "source": [
    "df_raw['공고번호'].isin(Klist)"
   ]
  },
  {
   "cell_type": "code",
   "execution_count": 68,
   "metadata": {},
   "outputs": [
    {
     "data": {
      "text/plain": [
       "(58, 10)"
      ]
     },
     "execution_count": 68,
     "metadata": {},
     "output_type": "execute_result"
    }
   ],
   "source": [
    "df_raw.loc[df_raw['점검정비'] == 1].shape"
   ]
  },
  {
   "cell_type": "code",
   "execution_count": 69,
   "metadata": {},
   "outputs": [],
   "source": [
    "# df_raw.loc[df_raw['공고명'].str.contains(\"지하수 기초조사\") | \n",
    "#            df_raw['공고명'].str.contains(\"시설 전수조사\") | \n",
    "#            df_raw['공고명'].str.contains(\"관측망\") | \n",
    "#            df_raw['공고명'].str.contains(\"정밀안전\") | \n",
    "#            df_raw['공고명'].str.contains(\"GIS\") |\n",
    "#            df_raw['공고명'].str.contains(\"내진\") |\n",
    "#            df_raw['공고명'].str.contains(\"사후환경\") |\n",
    "#            df_raw['공고명'].str.contains(\"기술진단\") | \n",
    "#            df_raw['공고명'].str.contains(\"시설안정화\") |\n",
    "#            df_raw['공고명'].str.contains(\"건설사업관리\") |\n",
    "#            df_raw['공고명'].str.contains(\"댐비상대처\") |\n",
    "#            df_raw['공고명'].str.contains(\"물 진단고도화\") |\n",
    "#            df_raw['공고명'].str.contains(\"환경영향평가\") |\n",
    "#            df_raw['공고명'].str.contains(\"관망정비 현장조사\") |\n",
    "#            df_raw['공고명'].str.contains(\"관로이설공사\") |\n",
    "#            df_raw['공고명'].str.contains(\"해양환경영향조사\") |\n",
    "#            df_raw['공고명'].str.contains(\"송산그린시티\") |\n",
    "#            df_raw['공고명'].str.contains(\"시공감리\")]"
   ]
  },
  {
   "cell_type": "code",
   "execution_count": 70,
   "metadata": {},
   "outputs": [
    {
     "data": {
      "text/plain": [
       "(13, 10)"
      ]
     },
     "execution_count": 70,
     "metadata": {},
     "output_type": "execute_result"
    }
   ],
   "source": [
    "df_raw.loc[df_raw['공고번호'].isin(Klist)].shape"
   ]
  },
  {
   "cell_type": "code",
   "execution_count": 71,
   "metadata": {},
   "outputs": [],
   "source": [
    "from matplotlib import rc, font_manager, rcParams\n",
    "font_name = font_manager.FontProperties(fname = 'c:/Windows/Fonts/malgun.ttf').get_name()\n",
    "rc('font', family = font_name)\n",
    "rcParams['axes.unicode_minus'] = False"
   ]
  },
  {
   "cell_type": "code",
   "execution_count": 72,
   "metadata": {},
   "outputs": [],
   "source": [
    "# df_raw_out = df_raw.loc[df_raw['공고명'].str.contains(\"지하수 기초조사\") | \n",
    "#            df_raw['공고명'].str.contains(\"시설 전수조사\") | \n",
    "#            df_raw['공고명'].str.contains(\"관측망\") | \n",
    "#            df_raw['공고명'].str.contains(\"정밀안전\") | \n",
    "#            df_raw['공고명'].str.contains(\"GIS\") |\n",
    "#            df_raw['공고명'].str.contains(\"내진\") |\n",
    "#            df_raw['공고명'].str.contains(\"사후환경\") |\n",
    "#            df_raw['공고명'].str.contains(\"기술진단\") | \n",
    "#            df_raw['공고명'].str.contains(\"시설안정화\") |\n",
    "#            df_raw['공고명'].str.contains(\"건설사업관리\") |\n",
    "#            df_raw['공고명'].str.contains(\"댐비상대처\") |\n",
    "#            df_raw['공고명'].str.contains(\"물 진단고도화\") |\n",
    "#            df_raw['공고명'].str.contains(\"환경영향평가\") |\n",
    "#            df_raw['공고명'].str.contains(\"관망정비 현장조사\") |\n",
    "#            df_raw['공고명'].str.contains(\"관로이설공사\") |\n",
    "#            df_raw['공고명'].str.contains(\"해양환경영향조사\") |\n",
    "#            df_raw['공고명'].str.contains(\"송산그린시티\") |\n",
    "#            df_raw['공고명'].str.contains(\"시공감리\")]\n",
    "\n",
    "# df_raw_out.to_csv(\"df_out.csv\", index = False)"
   ]
  },
  {
   "cell_type": "code",
   "execution_count": 73,
   "metadata": {},
   "outputs": [
    {
     "data": {
      "text/plain": [
       "0.791873263192979"
      ]
     },
     "execution_count": 73,
     "metadata": {},
     "output_type": "execute_result"
    }
   ],
   "source": [
    "np.mean(df_raw.loc[(df_raw['공고명'].str.contains(\"설계\")), '낙찰율(예대)'])"
   ]
  },
  {
   "cell_type": "code",
   "execution_count": 74,
   "metadata": {},
   "outputs": [
    {
     "data": {
      "text/plain": [
       "14    0.78367\n",
       "17    0.79078\n",
       "18    0.80175\n",
       "23    0.79400\n",
       "24    0.79626\n",
       "        ...  \n",
       "584   0.80689\n",
       "585   0.83163\n",
       "586   0.81816\n",
       "589   0.94826\n",
       "600   0.83543\n",
       "Name: 낙찰율(예대), Length: 167, dtype: float64"
      ]
     },
     "execution_count": 74,
     "metadata": {},
     "output_type": "execute_result"
    }
   ],
   "source": [
    "df_raw.loc[(df_raw['공고명'].str.contains(\"설계\")), '낙찰율(예대)'].dropna()"
   ]
  },
  {
   "cell_type": "code",
   "execution_count": null,
   "metadata": {},
   "outputs": [],
   "source": []
  },
  {
   "cell_type": "code",
   "execution_count": 75,
   "metadata": {},
   "outputs": [
    {
     "data": {
      "text/html": [
       "<div>\n",
       "<style scoped>\n",
       "    .dataframe tbody tr th:only-of-type {\n",
       "        vertical-align: middle;\n",
       "    }\n",
       "\n",
       "    .dataframe tbody tr th {\n",
       "        vertical-align: top;\n",
       "    }\n",
       "\n",
       "    .dataframe thead th {\n",
       "        text-align: right;\n",
       "    }\n",
       "</style>\n",
       "<table border=\"1\" class=\"dataframe\">\n",
       "  <thead>\n",
       "    <tr style=\"text-align: right;\">\n",
       "      <th></th>\n",
       "      <th>공고명</th>\n",
       "      <th>낙찰율(예대)</th>\n",
       "      <th>연도</th>\n",
       "      <th>기초금액</th>\n",
       "      <th>1순위투찰금액</th>\n",
       "      <th>업체수</th>\n",
       "      <th>담합</th>\n",
       "      <th>점검정비</th>\n",
       "      <th>공고번호</th>\n",
       "      <th>감정</th>\n",
       "    </tr>\n",
       "  </thead>\n",
       "  <tbody>\n",
       "    <tr>\n",
       "      <th>15</th>\n",
       "      <td>시화2단계(송산그린시티) 개발사업 동측지구 조경공사 기본 및 실시설계 용역 [정][...</td>\n",
       "      <td>NaN</td>\n",
       "      <td>2011</td>\n",
       "      <td>1701000000</td>\n",
       "      <td>0</td>\n",
       "      <td>5</td>\n",
       "      <td>0</td>\n",
       "      <td>0</td>\n",
       "      <td>2011-1410</td>\n",
       "      <td>NaN</td>\n",
       "    </tr>\n",
       "    <tr>\n",
       "      <th>65</th>\n",
       "      <td>송산그린시티 동측지구 연결도로 기본 및 실시설계 용역 [공가][PQ]</td>\n",
       "      <td>0.75587</td>\n",
       "      <td>2012</td>\n",
       "      <td>1588300000</td>\n",
       "      <td>1210740000</td>\n",
       "      <td>6</td>\n",
       "      <td>0</td>\n",
       "      <td>0</td>\n",
       "      <td>2012-2005</td>\n",
       "      <td>NaN</td>\n",
       "    </tr>\n",
       "    <tr>\n",
       "      <th>242</th>\n",
       "      <td>송산그린시티 서측지구 1단계 실시설계 용역 [정][공가]</td>\n",
       "      <td>0.59446</td>\n",
       "      <td>2017</td>\n",
       "      <td>8321000000</td>\n",
       "      <td>4992600000</td>\n",
       "      <td>2</td>\n",
       "      <td>0</td>\n",
       "      <td>0</td>\n",
       "      <td>2017-1329</td>\n",
       "      <td>NaN</td>\n",
       "    </tr>\n",
       "    <tr>\n",
       "      <th>250</th>\n",
       "      <td>송산그린시티 서측지구 연결도로 및 삼양통상사거리 지하차도 기본 및 실시설계 용역 [...</td>\n",
       "      <td>0.77570</td>\n",
       "      <td>2017</td>\n",
       "      <td>3701000000</td>\n",
       "      <td>2888900000</td>\n",
       "      <td>5</td>\n",
       "      <td>0</td>\n",
       "      <td>0</td>\n",
       "      <td>2017-2493</td>\n",
       "      <td>NaN</td>\n",
       "    </tr>\n",
       "    <tr>\n",
       "      <th>397</th>\n",
       "      <td>송산그린시티 국제테마파크 주거단지 기본설계 용역 [공가]</td>\n",
       "      <td>0.79324</td>\n",
       "      <td>2019</td>\n",
       "      <td>2505217000</td>\n",
       "      <td>1992100000</td>\n",
       "      <td>2</td>\n",
       "      <td>0</td>\n",
       "      <td>0</td>\n",
       "      <td>B5201903528</td>\n",
       "      <td>NaN</td>\n",
       "    </tr>\n",
       "  </tbody>\n",
       "</table>\n",
       "</div>"
      ],
      "text/plain": [
       "                                                   공고명  낙찰율(예대)    연도  \\\n",
       "15   시화2단계(송산그린시티) 개발사업 동측지구 조경공사 기본 및 실시설계 용역 [정][...      NaN  2011   \n",
       "65              송산그린시티 동측지구 연결도로 기본 및 실시설계 용역 [공가][PQ]  0.75587  2012   \n",
       "242                    송산그린시티 서측지구 1단계 실시설계 용역 [정][공가]  0.59446  2017   \n",
       "250  송산그린시티 서측지구 연결도로 및 삼양통상사거리 지하차도 기본 및 실시설계 용역 [...  0.77570  2017   \n",
       "397                    송산그린시티 국제테마파크 주거단지 기본설계 용역 [공가]  0.79324  2019   \n",
       "\n",
       "           기초금액     1순위투찰금액  업체수  담합  점검정비         공고번호   감정  \n",
       "15   1701000000           0    5   0     0    2011-1410  NaN  \n",
       "65   1588300000  1210740000    6   0     0    2012-2005  NaN  \n",
       "242  8321000000  4992600000    2   0     0    2017-1329  NaN  \n",
       "250  3701000000  2888900000    5   0     0    2017-2493  NaN  \n",
       "397  2505217000  1992100000    2   0     0  B5201903528  NaN  "
      ]
     },
     "execution_count": 75,
     "metadata": {},
     "output_type": "execute_result"
    }
   ],
   "source": [
    "df_raw.loc[((df_raw['공고명'].str.contains(\"송산그린시티\")) & ((df_raw['공고명'].str.contains(\"설계\"))))]"
   ]
  },
  {
   "cell_type": "code",
   "execution_count": 77,
   "metadata": {},
   "outputs": [
    {
     "data": {
      "text/plain": [
       "(227, 10)"
      ]
     },
     "execution_count": 77,
     "metadata": {},
     "output_type": "execute_result"
    }
   ],
   "source": [
    "\"\"\"@@@@@@@@@@@@@@@@@@@@@@@\"\"\"\n",
    "\n",
    "df_raw2 = df_raw.loc[df_raw['공고명'].str.contains(\"지하수 기초조사\") | \n",
    "           df_raw['공고명'].str.contains(\"시설 전수조사\") | \n",
    "           df_raw['공고명'].str.contains(\"관측망\") | \n",
    "           df_raw['공고명'].str.contains(\"정밀안전\") | \n",
    "           df_raw['공고명'].str.contains(\"GIS\") |\n",
    "           df_raw['공고명'].str.contains(\"내진\") |\n",
    "           df_raw['공고명'].str.contains(\"사후환경\") |\n",
    "           df_raw['공고명'].str.contains(\"기술진단\") | \n",
    "           df_raw['공고명'].str.contains(\"시설안정화\") |\n",
    "           df_raw['공고명'].str.contains(\"건설사업관리\") |\n",
    "           df_raw['공고명'].str.contains(\"비상대처\") |\n",
    "           df_raw['공고명'].str.contains(\"물 진단고도화\") |\n",
    "           df_raw['공고명'].str.contains(\"환경영향평가\") |\n",
    "           df_raw['공고명'].str.contains(\"관망정비 현장조사\") |\n",
    "           df_raw['공고명'].str.contains(\"관로이설공사\") |\n",
    "           df_raw['공고명'].str.contains(\"해양환경영향조사\") |\n",
    "           ((df_raw['공고명'].str.contains(\"송산그린시티\")) & (~(df_raw['공고명'].str.contains(\"설계\")))) |\n",
    "           df_raw['공고명'].str.contains(\"시공감리\") |\n",
    "           df_raw['점검정비'] == 1 | \n",
    "           (~df_raw['감정'].isna())]\n",
    "\n",
    "df_raw2.shape"
   ]
  },
  {
   "cell_type": "code",
   "execution_count": 80,
   "metadata": {},
   "outputs": [
    {
     "data": {
      "text/plain": [
       "(76, 10)"
      ]
     },
     "execution_count": 80,
     "metadata": {},
     "output_type": "execute_result"
    }
   ],
   "source": [
    "df_raw.loc[~df_raw['감정'].isna()].shape"
   ]
  },
  {
   "cell_type": "code",
   "execution_count": 684,
   "metadata": {},
   "outputs": [
    {
     "data": {
      "text/plain": [
       "공고명        0\n",
       "낙찰율(예대)    3\n",
       "연도         0\n",
       "기초금액       0\n",
       "1순위투찰금액    0\n",
       "업체수        0\n",
       "담합         0\n",
       "점검정비       0\n",
       "공고번호       0\n",
       "dtype: int64"
      ]
     },
     "execution_count": 684,
     "metadata": {},
     "output_type": "execute_result"
    }
   ],
   "source": [
    "df_raw2.isna().sum()"
   ]
  },
  {
   "cell_type": "code",
   "execution_count": 685,
   "metadata": {},
   "outputs": [
    {
     "data": {
      "text/html": [
       "<div>\n",
       "<style scoped>\n",
       "    .dataframe tbody tr th:only-of-type {\n",
       "        vertical-align: middle;\n",
       "    }\n",
       "\n",
       "    .dataframe tbody tr th {\n",
       "        vertical-align: top;\n",
       "    }\n",
       "\n",
       "    .dataframe thead th {\n",
       "        text-align: right;\n",
       "    }\n",
       "</style>\n",
       "<table border=\"1\" class=\"dataframe\">\n",
       "  <thead>\n",
       "    <tr style=\"text-align: right;\">\n",
       "      <th></th>\n",
       "      <th>공고명</th>\n",
       "      <th>낙찰율(예대)</th>\n",
       "      <th>연도</th>\n",
       "      <th>기초금액</th>\n",
       "      <th>1순위투찰금액</th>\n",
       "      <th>업체수</th>\n",
       "      <th>담합</th>\n",
       "      <th>점검정비</th>\n",
       "      <th>공고번호</th>\n",
       "    </tr>\n",
       "  </thead>\n",
       "  <tbody>\n",
       "    <tr>\n",
       "      <th>6</th>\n",
       "      <td>시화MTV광역교통개선대책 서해안로 확장 및 교차로 입체화공사 책임감리 용역 [공가]...</td>\n",
       "      <td>0.75040</td>\n",
       "      <td>2011</td>\n",
       "      <td>1947383000</td>\n",
       "      <td>1452440000</td>\n",
       "      <td>7</td>\n",
       "      <td>0</td>\n",
       "      <td>0</td>\n",
       "      <td>2011-0107</td>\n",
       "    </tr>\n",
       "    <tr>\n",
       "      <th>10</th>\n",
       "      <td>댐 비상대처계획 수립 용역 [공가][PQ]</td>\n",
       "      <td>0.81523</td>\n",
       "      <td>2011</td>\n",
       "      <td>1119800000</td>\n",
       "      <td>919600000</td>\n",
       "      <td>2</td>\n",
       "      <td>0</td>\n",
       "      <td>0</td>\n",
       "      <td>2011-0892</td>\n",
       "    </tr>\n",
       "    <tr>\n",
       "      <th>76</th>\n",
       "      <td>부산 에코 델타시티 교통재해에너지분야 영향평가 용역 [공가][PQ]</td>\n",
       "      <td>0.74876</td>\n",
       "      <td>2013</td>\n",
       "      <td>1380170000</td>\n",
       "      <td>1020500000</td>\n",
       "      <td>6</td>\n",
       "      <td>0</td>\n",
       "      <td>0</td>\n",
       "      <td>2013-0036</td>\n",
       "    </tr>\n",
       "    <tr>\n",
       "      <th>88</th>\n",
       "      <td>대전충북지역(4단계) 지하수시설 전수조사 [제한][공가][PQ]</td>\n",
       "      <td>0.74407</td>\n",
       "      <td>2013</td>\n",
       "      <td>1364000000</td>\n",
       "      <td>1014530000</td>\n",
       "      <td>5</td>\n",
       "      <td>0</td>\n",
       "      <td>0</td>\n",
       "      <td>2013-0559</td>\n",
       "    </tr>\n",
       "    <tr>\n",
       "      <th>117</th>\n",
       "      <td>금강광역상수도 노후관 갱생공사 시공감리 용역 [제한][공가][PQ]</td>\n",
       "      <td>0.73028</td>\n",
       "      <td>2014</td>\n",
       "      <td>2197800000</td>\n",
       "      <td>1612000000</td>\n",
       "      <td>3</td>\n",
       "      <td>0</td>\n",
       "      <td>0</td>\n",
       "      <td>2013-2386</td>\n",
       "    </tr>\n",
       "    <tr>\n",
       "      <th>203</th>\n",
       "      <td>고덕산업단지 공업용수도 및 한강하류권(2차)급수체계조정사업 시설공사(2공구) 건설사...</td>\n",
       "      <td>0.78553</td>\n",
       "      <td>2016</td>\n",
       "      <td>2219800000</td>\n",
       "      <td>1752450000</td>\n",
       "      <td>3</td>\n",
       "      <td>0</td>\n",
       "      <td>0</td>\n",
       "      <td>2016-4565</td>\n",
       "    </tr>\n",
       "    <tr>\n",
       "      <th>224</th>\n",
       "      <td>부여군 블록구축 및 관망정비 현장조사 용역 [공가][PQ]</td>\n",
       "      <td>0.73298</td>\n",
       "      <td>2017</td>\n",
       "      <td>1614800000</td>\n",
       "      <td>1199950000</td>\n",
       "      <td>2</td>\n",
       "      <td>0</td>\n",
       "      <td>0</td>\n",
       "      <td>2017-0119</td>\n",
       "    </tr>\n",
       "    <tr>\n",
       "      <th>265</th>\n",
       "      <td>다목적댐(10개) 시설안정화 방안 수립 용역 [공가][PQ]</td>\n",
       "      <td>0.77383</td>\n",
       "      <td>2018</td>\n",
       "      <td>1115000000</td>\n",
       "      <td>865700000</td>\n",
       "      <td>3</td>\n",
       "      <td>0</td>\n",
       "      <td>0</td>\n",
       "      <td>2018-0139</td>\n",
       "    </tr>\n",
       "    <tr>\n",
       "      <th>284</th>\n",
       "      <td>(재공고)댐 비상대처계획 재수립 용역 [제한][공가][PQ]</td>\n",
       "      <td>0.77919</td>\n",
       "      <td>2018</td>\n",
       "      <td>1248500000</td>\n",
       "      <td>961500000</td>\n",
       "      <td>2</td>\n",
       "      <td>0</td>\n",
       "      <td>0</td>\n",
       "      <td>B5201800526</td>\n",
       "    </tr>\n",
       "    <tr>\n",
       "      <th>346</th>\n",
       "      <td>양구지역 지하수 수량·수질 통합조사 [제한][공가][PQ]</td>\n",
       "      <td>0.73002</td>\n",
       "      <td>2019</td>\n",
       "      <td>1144800000</td>\n",
       "      <td>838425000</td>\n",
       "      <td>7</td>\n",
       "      <td>0</td>\n",
       "      <td>0</td>\n",
       "      <td>B5201900988</td>\n",
       "    </tr>\n",
       "    <tr>\n",
       "      <th>351</th>\n",
       "      <td>물 인프라 진단고도화 용역 [제한][공가][PQ]</td>\n",
       "      <td>0.75408</td>\n",
       "      <td>2019</td>\n",
       "      <td>1564000000</td>\n",
       "      <td>1170200000</td>\n",
       "      <td>2</td>\n",
       "      <td>0</td>\n",
       "      <td>0</td>\n",
       "      <td>B5201901079</td>\n",
       "    </tr>\n",
       "    <tr>\n",
       "      <th>359</th>\n",
       "      <td>조력발전소 운영에 따른 해양물리변화 장기조사용역(2단계) [제한][공가]</td>\n",
       "      <td>0.73644</td>\n",
       "      <td>2019</td>\n",
       "      <td>1900000000</td>\n",
       "      <td>1405550000</td>\n",
       "      <td>3</td>\n",
       "      <td>0</td>\n",
       "      <td>0</td>\n",
       "      <td>B5201901922</td>\n",
       "    </tr>\n",
       "    <tr>\n",
       "      <th>448</th>\n",
       "      <td>부산 에코델타시티 사업계획 관리용역 [공가][PQ]</td>\n",
       "      <td>0.73039</td>\n",
       "      <td>2020</td>\n",
       "      <td>2446653000</td>\n",
       "      <td>1789506000</td>\n",
       "      <td>4</td>\n",
       "      <td>0</td>\n",
       "      <td>0</td>\n",
       "      <td>B5202002509</td>\n",
       "    </tr>\n",
       "  </tbody>\n",
       "</table>\n",
       "</div>"
      ],
      "text/plain": [
       "                                                   공고명  낙찰율(예대)    연도  \\\n",
       "6    시화MTV광역교통개선대책 서해안로 확장 및 교차로 입체화공사 책임감리 용역 [공가]...  0.75040  2011   \n",
       "10                             댐 비상대처계획 수립 용역 [공가][PQ]  0.81523  2011   \n",
       "76               부산 에코 델타시티 교통재해에너지분야 영향평가 용역 [공가][PQ]  0.74876  2013   \n",
       "88                 대전충북지역(4단계) 지하수시설 전수조사 [제한][공가][PQ]  0.74407  2013   \n",
       "117              금강광역상수도 노후관 갱생공사 시공감리 용역 [제한][공가][PQ]  0.73028  2014   \n",
       "203  고덕산업단지 공업용수도 및 한강하류권(2차)급수체계조정사업 시설공사(2공구) 건설사...  0.78553  2016   \n",
       "224                   부여군 블록구축 및 관망정비 현장조사 용역 [공가][PQ]  0.73298  2017   \n",
       "265                  다목적댐(10개) 시설안정화 방안 수립 용역 [공가][PQ]  0.77383  2018   \n",
       "284                  (재공고)댐 비상대처계획 재수립 용역 [제한][공가][PQ]  0.77919  2018   \n",
       "346                   양구지역 지하수 수량·수질 통합조사 [제한][공가][PQ]  0.73002  2019   \n",
       "351                        물 인프라 진단고도화 용역 [제한][공가][PQ]  0.75408  2019   \n",
       "359           조력발전소 운영에 따른 해양물리변화 장기조사용역(2단계) [제한][공가]  0.73644  2019   \n",
       "448                       부산 에코델타시티 사업계획 관리용역 [공가][PQ]  0.73039  2020   \n",
       "\n",
       "           기초금액     1순위투찰금액  업체수  담합  점검정비         공고번호  \n",
       "6    1947383000  1452440000    7   0     0    2011-0107  \n",
       "10   1119800000   919600000    2   0     0    2011-0892  \n",
       "76   1380170000  1020500000    6   0     0    2013-0036  \n",
       "88   1364000000  1014530000    5   0     0    2013-0559  \n",
       "117  2197800000  1612000000    3   0     0    2013-2386  \n",
       "203  2219800000  1752450000    3   0     0    2016-4565  \n",
       "224  1614800000  1199950000    2   0     0    2017-0119  \n",
       "265  1115000000   865700000    3   0     0    2018-0139  \n",
       "284  1248500000   961500000    2   0     0  B5201800526  \n",
       "346  1144800000   838425000    7   0     0  B5201900988  \n",
       "351  1564000000  1170200000    2   0     0  B5201901079  \n",
       "359  1900000000  1405550000    3   0     0  B5201901922  \n",
       "448  2446653000  1789506000    4   0     0  B5202002509  "
      ]
     },
     "execution_count": 685,
     "metadata": {},
     "output_type": "execute_result"
    }
   ],
   "source": [
    "df_raw.loc[df_raw['공고번호'].isin(Klist)]"
   ]
  },
  {
   "cell_type": "code",
   "execution_count": 686,
   "metadata": {},
   "outputs": [
    {
     "data": {
      "text/html": [
       "<div>\n",
       "<style scoped>\n",
       "    .dataframe tbody tr th:only-of-type {\n",
       "        vertical-align: middle;\n",
       "    }\n",
       "\n",
       "    .dataframe tbody tr th {\n",
       "        vertical-align: top;\n",
       "    }\n",
       "\n",
       "    .dataframe thead th {\n",
       "        text-align: right;\n",
       "    }\n",
       "</style>\n",
       "<table border=\"1\" class=\"dataframe\">\n",
       "  <thead>\n",
       "    <tr style=\"text-align: right;\">\n",
       "      <th></th>\n",
       "      <th>공고명</th>\n",
       "      <th>낙찰율(예대)</th>\n",
       "      <th>연도</th>\n",
       "      <th>기초금액</th>\n",
       "      <th>1순위투찰금액</th>\n",
       "      <th>업체수</th>\n",
       "      <th>담합</th>\n",
       "      <th>점검정비</th>\n",
       "      <th>공고번호</th>\n",
       "    </tr>\n",
       "  </thead>\n",
       "  <tbody>\n",
       "    <tr>\n",
       "      <th>10</th>\n",
       "      <td>댐 비상대처계획 수립 용역 [공가][PQ]</td>\n",
       "      <td>0.81523</td>\n",
       "      <td>2011</td>\n",
       "      <td>1119800000</td>\n",
       "      <td>919600000</td>\n",
       "      <td>2</td>\n",
       "      <td>0</td>\n",
       "      <td>0</td>\n",
       "      <td>2011-0892</td>\n",
       "    </tr>\n",
       "    <tr>\n",
       "      <th>88</th>\n",
       "      <td>대전충북지역(4단계) 지하수시설 전수조사 [제한][공가][PQ]</td>\n",
       "      <td>0.74407</td>\n",
       "      <td>2013</td>\n",
       "      <td>1364000000</td>\n",
       "      <td>1014530000</td>\n",
       "      <td>5</td>\n",
       "      <td>0</td>\n",
       "      <td>0</td>\n",
       "      <td>2013-0559</td>\n",
       "    </tr>\n",
       "    <tr>\n",
       "      <th>117</th>\n",
       "      <td>금강광역상수도 노후관 갱생공사 시공감리 용역 [제한][공가][PQ]</td>\n",
       "      <td>0.73028</td>\n",
       "      <td>2014</td>\n",
       "      <td>2197800000</td>\n",
       "      <td>1612000000</td>\n",
       "      <td>3</td>\n",
       "      <td>0</td>\n",
       "      <td>0</td>\n",
       "      <td>2013-2386</td>\n",
       "    </tr>\n",
       "    <tr>\n",
       "      <th>203</th>\n",
       "      <td>고덕산업단지 공업용수도 및 한강하류권(2차)급수체계조정사업 시설공사(2공구) 건설사...</td>\n",
       "      <td>0.78553</td>\n",
       "      <td>2016</td>\n",
       "      <td>2219800000</td>\n",
       "      <td>1752450000</td>\n",
       "      <td>3</td>\n",
       "      <td>0</td>\n",
       "      <td>0</td>\n",
       "      <td>2016-4565</td>\n",
       "    </tr>\n",
       "    <tr>\n",
       "      <th>224</th>\n",
       "      <td>부여군 블록구축 및 관망정비 현장조사 용역 [공가][PQ]</td>\n",
       "      <td>0.73298</td>\n",
       "      <td>2017</td>\n",
       "      <td>1614800000</td>\n",
       "      <td>1199950000</td>\n",
       "      <td>2</td>\n",
       "      <td>0</td>\n",
       "      <td>0</td>\n",
       "      <td>2017-0119</td>\n",
       "    </tr>\n",
       "    <tr>\n",
       "      <th>265</th>\n",
       "      <td>다목적댐(10개) 시설안정화 방안 수립 용역 [공가][PQ]</td>\n",
       "      <td>0.77383</td>\n",
       "      <td>2018</td>\n",
       "      <td>1115000000</td>\n",
       "      <td>865700000</td>\n",
       "      <td>3</td>\n",
       "      <td>0</td>\n",
       "      <td>0</td>\n",
       "      <td>2018-0139</td>\n",
       "    </tr>\n",
       "    <tr>\n",
       "      <th>284</th>\n",
       "      <td>(재공고)댐 비상대처계획 재수립 용역 [제한][공가][PQ]</td>\n",
       "      <td>0.77919</td>\n",
       "      <td>2018</td>\n",
       "      <td>1248500000</td>\n",
       "      <td>961500000</td>\n",
       "      <td>2</td>\n",
       "      <td>0</td>\n",
       "      <td>0</td>\n",
       "      <td>B5201800526</td>\n",
       "    </tr>\n",
       "  </tbody>\n",
       "</table>\n",
       "</div>"
      ],
      "text/plain": [
       "                                                   공고명  낙찰율(예대)    연도  \\\n",
       "10                             댐 비상대처계획 수립 용역 [공가][PQ]  0.81523  2011   \n",
       "88                 대전충북지역(4단계) 지하수시설 전수조사 [제한][공가][PQ]  0.74407  2013   \n",
       "117              금강광역상수도 노후관 갱생공사 시공감리 용역 [제한][공가][PQ]  0.73028  2014   \n",
       "203  고덕산업단지 공업용수도 및 한강하류권(2차)급수체계조정사업 시설공사(2공구) 건설사...  0.78553  2016   \n",
       "224                   부여군 블록구축 및 관망정비 현장조사 용역 [공가][PQ]  0.73298  2017   \n",
       "265                  다목적댐(10개) 시설안정화 방안 수립 용역 [공가][PQ]  0.77383  2018   \n",
       "284                  (재공고)댐 비상대처계획 재수립 용역 [제한][공가][PQ]  0.77919  2018   \n",
       "\n",
       "           기초금액     1순위투찰금액  업체수  담합  점검정비         공고번호  \n",
       "10   1119800000   919600000    2   0     0    2011-0892  \n",
       "88   1364000000  1014530000    5   0     0    2013-0559  \n",
       "117  2197800000  1612000000    3   0     0    2013-2386  \n",
       "203  2219800000  1752450000    3   0     0    2016-4565  \n",
       "224  1614800000  1199950000    2   0     0    2017-0119  \n",
       "265  1115000000   865700000    3   0     0    2018-0139  \n",
       "284  1248500000   961500000    2   0     0  B5201800526  "
      ]
     },
     "execution_count": 686,
     "metadata": {},
     "output_type": "execute_result"
    }
   ],
   "source": [
    "df_raw2.loc[df_raw2['공고번호'].isin(Klist)]"
   ]
  },
  {
   "cell_type": "code",
   "execution_count": 687,
   "metadata": {},
   "outputs": [],
   "source": [
    "df_raw3 = df_raw2.append(df_raw.loc[df_raw['공고번호'].isin(Klist)]).drop_duplicates()"
   ]
  },
  {
   "cell_type": "code",
   "execution_count": 688,
   "metadata": {},
   "outputs": [
    {
     "data": {
      "text/plain": [
       "(233, 9)"
      ]
     },
     "execution_count": 688,
     "metadata": {},
     "output_type": "execute_result"
    }
   ],
   "source": [
    "df_raw3.shape"
   ]
  },
  {
   "cell_type": "code",
   "execution_count": 689,
   "metadata": {},
   "outputs": [
    {
     "data": {
      "text/html": [
       "<div>\n",
       "<style scoped>\n",
       "    .dataframe tbody tr th:only-of-type {\n",
       "        vertical-align: middle;\n",
       "    }\n",
       "\n",
       "    .dataframe tbody tr th {\n",
       "        vertical-align: top;\n",
       "    }\n",
       "\n",
       "    .dataframe thead th {\n",
       "        text-align: right;\n",
       "    }\n",
       "</style>\n",
       "<table border=\"1\" class=\"dataframe\">\n",
       "  <thead>\n",
       "    <tr style=\"text-align: right;\">\n",
       "      <th></th>\n",
       "      <th>공고명</th>\n",
       "      <th>낙찰율(예대)</th>\n",
       "      <th>연도</th>\n",
       "      <th>기초금액</th>\n",
       "      <th>1순위투찰금액</th>\n",
       "      <th>업체수</th>\n",
       "      <th>담합</th>\n",
       "      <th>점검정비</th>\n",
       "      <th>공고번호</th>\n",
       "    </tr>\n",
       "  </thead>\n",
       "  <tbody>\n",
       "    <tr>\n",
       "      <th>224</th>\n",
       "      <td>부여군 블록구축 및 관망정비 현장조사 용역 [공가][PQ]</td>\n",
       "      <td>0.73298</td>\n",
       "      <td>2017</td>\n",
       "      <td>1614800000</td>\n",
       "      <td>1199950000</td>\n",
       "      <td>2</td>\n",
       "      <td>0</td>\n",
       "      <td>0</td>\n",
       "      <td>2017-0119</td>\n",
       "    </tr>\n",
       "    <tr>\n",
       "      <th>271</th>\n",
       "      <td>옥천군 지방상수도 현대화사업 블록구축 및 관망정비 현장조사 및 실시설계 용역 [공가...</td>\n",
       "      <td>0.79320</td>\n",
       "      <td>2018</td>\n",
       "      <td>2429900000</td>\n",
       "      <td>1944250000</td>\n",
       "      <td>2</td>\n",
       "      <td>0</td>\n",
       "      <td>0</td>\n",
       "      <td>2018-0365</td>\n",
       "    </tr>\n",
       "  </tbody>\n",
       "</table>\n",
       "</div>"
      ],
      "text/plain": [
       "                                                   공고명  낙찰율(예대)    연도  \\\n",
       "224                   부여군 블록구축 및 관망정비 현장조사 용역 [공가][PQ]  0.73298  2017   \n",
       "271  옥천군 지방상수도 현대화사업 블록구축 및 관망정비 현장조사 및 실시설계 용역 [공가...  0.79320  2018   \n",
       "\n",
       "           기초금액     1순위투찰금액  업체수  담합  점검정비       공고번호  \n",
       "224  1614800000  1199950000    2   0     0  2017-0119  \n",
       "271  2429900000  1944250000    2   0     0  2018-0365  "
      ]
     },
     "execution_count": 689,
     "metadata": {},
     "output_type": "execute_result"
    }
   ],
   "source": [
    "df_raw3.loc[df_raw3['공고명'].str.contains(\"관망정비\")]"
   ]
  },
  {
   "cell_type": "code",
   "execution_count": 690,
   "metadata": {},
   "outputs": [
    {
     "data": {
      "text/plain": [
       "(30, 58)"
      ]
     },
     "execution_count": 690,
     "metadata": {},
     "output_type": "execute_result"
    }
   ],
   "source": [
    "df_raw3['담합'].sum() ,df_raw3['점검정비'].sum() # 30 & 44 ok"
   ]
  },
  {
   "cell_type": "code",
   "execution_count": 691,
   "metadata": {},
   "outputs": [
    {
     "data": {
      "text/plain": [
       "공고명        0\n",
       "낙찰율(예대)    3\n",
       "연도         0\n",
       "기초금액       0\n",
       "1순위투찰금액    0\n",
       "업체수        0\n",
       "담합         0\n",
       "점검정비       0\n",
       "공고번호       0\n",
       "dtype: int64"
      ]
     },
     "execution_count": 691,
     "metadata": {},
     "output_type": "execute_result"
    }
   ],
   "source": [
    "df_raw3.isna().sum()"
   ]
  },
  {
   "cell_type": "code",
   "execution_count": 692,
   "metadata": {},
   "outputs": [
    {
     "data": {
      "text/html": [
       "<div>\n",
       "<style scoped>\n",
       "    .dataframe tbody tr th:only-of-type {\n",
       "        vertical-align: middle;\n",
       "    }\n",
       "\n",
       "    .dataframe tbody tr th {\n",
       "        vertical-align: top;\n",
       "    }\n",
       "\n",
       "    .dataframe thead th {\n",
       "        text-align: right;\n",
       "    }\n",
       "</style>\n",
       "<table border=\"1\" class=\"dataframe\">\n",
       "  <thead>\n",
       "    <tr style=\"text-align: right;\">\n",
       "      <th></th>\n",
       "      <th>공고명</th>\n",
       "      <th>낙찰율(예대)</th>\n",
       "      <th>연도</th>\n",
       "      <th>기초금액</th>\n",
       "      <th>1순위투찰금액</th>\n",
       "      <th>업체수</th>\n",
       "      <th>담합</th>\n",
       "      <th>점검정비</th>\n",
       "      <th>공고번호</th>\n",
       "    </tr>\n",
       "  </thead>\n",
       "  <tbody>\n",
       "    <tr>\n",
       "      <th>114</th>\n",
       "      <td>발전통합운영시스템 점검정비 용역 [공가][PQ]</td>\n",
       "      <td>0.88008</td>\n",
       "      <td>2013</td>\n",
       "      <td>2120679000</td>\n",
       "      <td>1870000000</td>\n",
       "      <td>2</td>\n",
       "      <td>0</td>\n",
       "      <td>1</td>\n",
       "      <td>2013-2242</td>\n",
       "    </tr>\n",
       "    <tr>\n",
       "      <th>153</th>\n",
       "      <td>수도 및 댐보시설 점검정비용역(제7권역) [정][제한][공가][PQ]</td>\n",
       "      <td>0.77231</td>\n",
       "      <td>2015</td>\n",
       "      <td>11263076000</td>\n",
       "      <td>8667054000</td>\n",
       "      <td>2</td>\n",
       "      <td>0</td>\n",
       "      <td>1</td>\n",
       "      <td>2015-1021</td>\n",
       "    </tr>\n",
       "    <tr>\n",
       "      <th>171</th>\n",
       "      <td>발전통합운영시스템 점검정비 용역 [제한][공가]</td>\n",
       "      <td>0.67048</td>\n",
       "      <td>2015</td>\n",
       "      <td>2137534902</td>\n",
       "      <td>1442100000</td>\n",
       "      <td>3</td>\n",
       "      <td>0</td>\n",
       "      <td>1</td>\n",
       "      <td>2015-2590</td>\n",
       "    </tr>\n",
       "    <tr>\n",
       "      <th>195</th>\n",
       "      <td>수도 및 댐.보시설 점검정비용역(제1권역) [제한][공가][PQ]</td>\n",
       "      <td>0.76228</td>\n",
       "      <td>2016</td>\n",
       "      <td>37480949000</td>\n",
       "      <td>28668709378</td>\n",
       "      <td>2</td>\n",
       "      <td>0</td>\n",
       "      <td>1</td>\n",
       "      <td>2016-3954</td>\n",
       "    </tr>\n",
       "    <tr>\n",
       "      <th>196</th>\n",
       "      <td>수도 및 댐.보시설 점검정비용역(제2권역) [공가][PQ]</td>\n",
       "      <td>0.76306</td>\n",
       "      <td>2016</td>\n",
       "      <td>34433058000</td>\n",
       "      <td>26320629535</td>\n",
       "      <td>2</td>\n",
       "      <td>0</td>\n",
       "      <td>1</td>\n",
       "      <td>2016-3957</td>\n",
       "    </tr>\n",
       "    <tr>\n",
       "      <th>204</th>\n",
       "      <td>수도 및 댐.보시설 점검정비용역(제4권역) [제한][공가][PQ]</td>\n",
       "      <td>0.77821</td>\n",
       "      <td>2016</td>\n",
       "      <td>23107194000</td>\n",
       "      <td>17986364000</td>\n",
       "      <td>2</td>\n",
       "      <td>0</td>\n",
       "      <td>1</td>\n",
       "      <td>2016-4776</td>\n",
       "    </tr>\n",
       "    <tr>\n",
       "      <th>205</th>\n",
       "      <td>수도 및 댐.보시설 점검정비용역(제5권역) [제한][공가][PQ]</td>\n",
       "      <td>0.77602</td>\n",
       "      <td>2016</td>\n",
       "      <td>27371223000</td>\n",
       "      <td>21203534000</td>\n",
       "      <td>2</td>\n",
       "      <td>0</td>\n",
       "      <td>1</td>\n",
       "      <td>2016-4777</td>\n",
       "    </tr>\n",
       "    <tr>\n",
       "      <th>206</th>\n",
       "      <td>수도 및 댐.보시설 점검정비용역(제6권역) [제한][PQ]</td>\n",
       "      <td>0.77751</td>\n",
       "      <td>2016</td>\n",
       "      <td>13463494000</td>\n",
       "      <td>10481812000</td>\n",
       "      <td>2</td>\n",
       "      <td>0</td>\n",
       "      <td>1</td>\n",
       "      <td>2016-4779</td>\n",
       "    </tr>\n",
       "    <tr>\n",
       "      <th>232</th>\n",
       "      <td>2017~2018년 수도 ICT 점검정비 용역(한강권역) [공가]</td>\n",
       "      <td>0.80759</td>\n",
       "      <td>2017</td>\n",
       "      <td>1026265000</td>\n",
       "      <td>836000000</td>\n",
       "      <td>2</td>\n",
       "      <td>0</td>\n",
       "      <td>1</td>\n",
       "      <td>2017-0856</td>\n",
       "    </tr>\n",
       "    <tr>\n",
       "      <th>233</th>\n",
       "      <td>2017~2018년 수도 ICT 점검정비 용역(금·영·섬권역) [공가]</td>\n",
       "      <td>0.82664</td>\n",
       "      <td>2017</td>\n",
       "      <td>1476076000</td>\n",
       "      <td>1224500000</td>\n",
       "      <td>2</td>\n",
       "      <td>0</td>\n",
       "      <td>1</td>\n",
       "      <td>2017-0857</td>\n",
       "    </tr>\n",
       "    <tr>\n",
       "      <th>326</th>\n",
       "      <td>2019~2020년 수도 ICT 점검정비 용역(한강권역) [제한][공가]</td>\n",
       "      <td>0.87152</td>\n",
       "      <td>2019</td>\n",
       "      <td>1114555000</td>\n",
       "      <td>964084000</td>\n",
       "      <td>2</td>\n",
       "      <td>0</td>\n",
       "      <td>1</td>\n",
       "      <td>B5201900378</td>\n",
       "    </tr>\n",
       "    <tr>\n",
       "      <th>327</th>\n",
       "      <td>2019~2020년 수도 ICT 점검정비 용역(금영섬권역) [제한][공가]</td>\n",
       "      <td>0.92930</td>\n",
       "      <td>2019</td>\n",
       "      <td>1472399000</td>\n",
       "      <td>1369331000</td>\n",
       "      <td>2</td>\n",
       "      <td>0</td>\n",
       "      <td>1</td>\n",
       "      <td>B5201900379</td>\n",
       "    </tr>\n",
       "    <tr>\n",
       "      <th>328</th>\n",
       "      <td>2019~2020년 수도 ICT 점검정비 용역(낙동강권역) [제한][공가]</td>\n",
       "      <td>0.92446</td>\n",
       "      <td>2019</td>\n",
       "      <td>1007926000</td>\n",
       "      <td>926629000</td>\n",
       "      <td>2</td>\n",
       "      <td>0</td>\n",
       "      <td>1</td>\n",
       "      <td>B5201900380</td>\n",
       "    </tr>\n",
       "    <tr>\n",
       "      <th>398</th>\n",
       "      <td>`20~`21년 수자원 ICT 및 수도정보 시스템 점검정비 용역 [제한][공가]</td>\n",
       "      <td>0.91564</td>\n",
       "      <td>2020</td>\n",
       "      <td>3311011000</td>\n",
       "      <td>3046130120</td>\n",
       "      <td>2</td>\n",
       "      <td>0</td>\n",
       "      <td>1</td>\n",
       "      <td>B5201903729</td>\n",
       "    </tr>\n",
       "    <tr>\n",
       "      <th>529</th>\n",
       "      <td>2021~2022년 수도ICT 점검정비 용역(한강유역) [제한][공가]</td>\n",
       "      <td>0.93435</td>\n",
       "      <td>2021</td>\n",
       "      <td>1779371000</td>\n",
       "      <td>1645930000</td>\n",
       "      <td>2</td>\n",
       "      <td>0</td>\n",
       "      <td>1</td>\n",
       "      <td>B5202100756</td>\n",
       "    </tr>\n",
       "    <tr>\n",
       "      <th>534</th>\n",
       "      <td>2021~2022년 수도ICT 점검정비 용역(금강유역) [정][제한][공가]</td>\n",
       "      <td>0.89633</td>\n",
       "      <td>2021</td>\n",
       "      <td>1251723000</td>\n",
       "      <td>1126926217</td>\n",
       "      <td>2</td>\n",
       "      <td>0</td>\n",
       "      <td>1</td>\n",
       "      <td>B5202100758</td>\n",
       "    </tr>\n",
       "    <tr>\n",
       "      <th>535</th>\n",
       "      <td>2021~2022년 수도ICT 점검정비 용역(낙동강유역) [정][제한][공가]</td>\n",
       "      <td>0.90363</td>\n",
       "      <td>2021</td>\n",
       "      <td>1423917000</td>\n",
       "      <td>1295250000</td>\n",
       "      <td>2</td>\n",
       "      <td>0</td>\n",
       "      <td>1</td>\n",
       "      <td>B5202100760</td>\n",
       "    </tr>\n",
       "    <tr>\n",
       "      <th>587</th>\n",
       "      <td>2022~2023년 수자원 ICT시스템 점검정비 용역 [제한][공가]</td>\n",
       "      <td>0.95649</td>\n",
       "      <td>2021</td>\n",
       "      <td>3305720000</td>\n",
       "      <td>3135000000</td>\n",
       "      <td>2</td>\n",
       "      <td>0</td>\n",
       "      <td>1</td>\n",
       "      <td>B5202104331</td>\n",
       "    </tr>\n",
       "    <tr>\n",
       "      <th>596</th>\n",
       "      <td>발전통합운영시스템 점검정비 용역(22~23년) [제한][공가]</td>\n",
       "      <td>0.83292</td>\n",
       "      <td>2021</td>\n",
       "      <td>2847768000</td>\n",
       "      <td>2370000000</td>\n",
       "      <td>2</td>\n",
       "      <td>0</td>\n",
       "      <td>1</td>\n",
       "      <td>B5202104692</td>\n",
       "    </tr>\n",
       "  </tbody>\n",
       "</table>\n",
       "</div>"
      ],
      "text/plain": [
       "                                              공고명  낙찰율(예대)    연도         기초금액  \\\n",
       "114                    발전통합운영시스템 점검정비 용역 [공가][PQ]  0.88008  2013   2120679000   \n",
       "153        수도 및 댐보시설 점검정비용역(제7권역) [정][제한][공가][PQ]  0.77231  2015  11263076000   \n",
       "171                    발전통합운영시스템 점검정비 용역 [제한][공가]  0.67048  2015   2137534902   \n",
       "195          수도 및 댐.보시설 점검정비용역(제1권역) [제한][공가][PQ]  0.76228  2016  37480949000   \n",
       "196              수도 및 댐.보시설 점검정비용역(제2권역) [공가][PQ]  0.76306  2016  34433058000   \n",
       "204          수도 및 댐.보시설 점검정비용역(제4권역) [제한][공가][PQ]  0.77821  2016  23107194000   \n",
       "205          수도 및 댐.보시설 점검정비용역(제5권역) [제한][공가][PQ]  0.77602  2016  27371223000   \n",
       "206              수도 및 댐.보시설 점검정비용역(제6권역) [제한][PQ]  0.77751  2016  13463494000   \n",
       "232          2017~2018년 수도 ICT 점검정비 용역(한강권역) [공가]  0.80759  2017   1026265000   \n",
       "233       2017~2018년 수도 ICT 점검정비 용역(금·영·섬권역) [공가]  0.82664  2017   1476076000   \n",
       "326      2019~2020년 수도 ICT 점검정비 용역(한강권역) [제한][공가]  0.87152  2019   1114555000   \n",
       "327     2019~2020년 수도 ICT 점검정비 용역(금영섬권역) [제한][공가]  0.92930  2019   1472399000   \n",
       "328     2019~2020년 수도 ICT 점검정비 용역(낙동강권역) [제한][공가]  0.92446  2019   1007926000   \n",
       "398  `20~`21년 수자원 ICT 및 수도정보 시스템 점검정비 용역 [제한][공가]  0.91564  2020   3311011000   \n",
       "529       2021~2022년 수도ICT 점검정비 용역(한강유역) [제한][공가]  0.93435  2021   1779371000   \n",
       "534    2021~2022년 수도ICT 점검정비 용역(금강유역) [정][제한][공가]  0.89633  2021   1251723000   \n",
       "535   2021~2022년 수도ICT 점검정비 용역(낙동강유역) [정][제한][공가]  0.90363  2021   1423917000   \n",
       "587        2022~2023년 수자원 ICT시스템 점검정비 용역 [제한][공가]  0.95649  2021   3305720000   \n",
       "596            발전통합운영시스템 점검정비 용역(22~23년) [제한][공가]  0.83292  2021   2847768000   \n",
       "\n",
       "         1순위투찰금액  업체수  담합  점검정비         공고번호  \n",
       "114   1870000000    2   0     1    2013-2242  \n",
       "153   8667054000    2   0     1    2015-1021  \n",
       "171   1442100000    3   0     1    2015-2590  \n",
       "195  28668709378    2   0     1    2016-3954  \n",
       "196  26320629535    2   0     1    2016-3957  \n",
       "204  17986364000    2   0     1    2016-4776  \n",
       "205  21203534000    2   0     1    2016-4777  \n",
       "206  10481812000    2   0     1    2016-4779  \n",
       "232    836000000    2   0     1    2017-0856  \n",
       "233   1224500000    2   0     1    2017-0857  \n",
       "326    964084000    2   0     1  B5201900378  \n",
       "327   1369331000    2   0     1  B5201900379  \n",
       "328    926629000    2   0     1  B5201900380  \n",
       "398   3046130120    2   0     1  B5201903729  \n",
       "529   1645930000    2   0     1  B5202100756  \n",
       "534   1126926217    2   0     1  B5202100758  \n",
       "535   1295250000    2   0     1  B5202100760  \n",
       "587   3135000000    2   0     1  B5202104331  \n",
       "596   2370000000    2   0     1  B5202104692  "
      ]
     },
     "execution_count": 692,
     "metadata": {},
     "output_type": "execute_result"
    }
   ],
   "source": [
    "df_raw.loc[(df_raw['점검정비'] == 1) & (df_raw['담합'] == 0) & (df_raw['연도'] != 2018)] "
   ]
  },
  {
   "cell_type": "code",
   "execution_count": 693,
   "metadata": {},
   "outputs": [
    {
     "data": {
      "text/plain": [
       "(233, 9)"
      ]
     },
     "execution_count": 693,
     "metadata": {},
     "output_type": "execute_result"
    }
   ],
   "source": [
    "df_raw3.shape"
   ]
  },
  {
   "cell_type": "code",
   "execution_count": 694,
   "metadata": {},
   "outputs": [
    {
     "data": {
      "text/plain": [
       "' 점검정비 6개 포함시킨거 (X)'"
      ]
     },
     "execution_count": 694,
     "metadata": {},
     "output_type": "execute_result"
    }
   ],
   "source": [
    "\"\"\" 점검정비 6개 포함시킨거 (X)\"\"\"\n",
    "# df_addtoraw = df_raw.loc[(df_raw['점검정비'] == 1) & (df_raw['담합'] == 0) & (df_raw['연도'] != 2018)] \n",
    "# df_raw4 = df_raw3.append(df_addtoraw)\n",
    "# df_raw4.loc[~df_raw4['공고명'].isin(df_raw3['공고명'])]\n",
    "# df_raw4.drop_duplicates().shape"
   ]
  },
  {
   "cell_type": "code",
   "execution_count": 695,
   "metadata": {},
   "outputs": [
    {
     "data": {
      "text/plain": [
       "58"
      ]
     },
     "execution_count": 695,
     "metadata": {},
     "output_type": "execute_result"
    }
   ],
   "source": [
    "df_raw3['점검정비'].sum()"
   ]
  },
  {
   "cell_type": "markdown",
   "metadata": {},
   "source": [
    "### 0. 유찰된 데이터 제거 및 확인 & 0919 이상치 제거"
   ]
  },
  {
   "cell_type": "code",
   "execution_count": 696,
   "metadata": {},
   "outputs": [
    {
     "data": {
      "text/plain": [
       "(230, 8)"
      ]
     },
     "execution_count": 696,
     "metadata": {},
     "output_type": "execute_result"
    }
   ],
   "source": [
    "df_temp1 = df_raw3.loc[(df_raw3['1순위투찰금액'] != 0) & (df_raw3['낙찰율(예대)'].isna() != True), ['낙찰율(예대)','연도', '기초금액', '업체수', '담합', '점검정비','공고번호','공고명']]\n",
    "df_temp1.head(3)\n",
    "df_temp1.shape"
   ]
  },
  {
   "cell_type": "code",
   "execution_count": 697,
   "metadata": {},
   "outputs": [
    {
     "data": {
      "text/plain": [
       "202"
      ]
     },
     "execution_count": 697,
     "metadata": {},
     "output_type": "execute_result"
    }
   ],
   "source": [
    "(df_temp1['담합'] == df_temp1['점검정비']).sum()"
   ]
  },
  {
   "cell_type": "code",
   "execution_count": 698,
   "metadata": {},
   "outputs": [
    {
     "data": {
      "text/html": [
       "<div>\n",
       "<style scoped>\n",
       "    .dataframe tbody tr th:only-of-type {\n",
       "        vertical-align: middle;\n",
       "    }\n",
       "\n",
       "    .dataframe tbody tr th {\n",
       "        vertical-align: top;\n",
       "    }\n",
       "\n",
       "    .dataframe thead th {\n",
       "        text-align: right;\n",
       "    }\n",
       "</style>\n",
       "<table border=\"1\" class=\"dataframe\">\n",
       "  <thead>\n",
       "    <tr style=\"text-align: right;\">\n",
       "      <th></th>\n",
       "      <th>낙찰율(예대)</th>\n",
       "      <th>연도</th>\n",
       "      <th>기초금액</th>\n",
       "      <th>업체수</th>\n",
       "      <th>담합</th>\n",
       "      <th>점검정비</th>\n",
       "      <th>공고번호</th>\n",
       "      <th>공고명</th>\n",
       "    </tr>\n",
       "  </thead>\n",
       "  <tbody>\n",
       "    <tr>\n",
       "      <th>56</th>\n",
       "      <td>0.90325</td>\n",
       "      <td>2012</td>\n",
       "      <td>4123000000</td>\n",
       "      <td>2</td>\n",
       "      <td>1</td>\n",
       "      <td>1</td>\n",
       "      <td>2012-1404</td>\n",
       "      <td>(재공고)지하수 관측망 점검정비 용역(12~13) [공가][PQ]</td>\n",
       "    </tr>\n",
       "    <tr>\n",
       "      <th>131</th>\n",
       "      <td>0.90351</td>\n",
       "      <td>2014</td>\n",
       "      <td>4181900000</td>\n",
       "      <td>2</td>\n",
       "      <td>1</td>\n",
       "      <td>1</td>\n",
       "      <td>2014-1479</td>\n",
       "      <td>지하수 관측망 점검정비(14~15)용역 [PQ]</td>\n",
       "    </tr>\n",
       "  </tbody>\n",
       "</table>\n",
       "</div>"
      ],
      "text/plain": [
       "     낙찰율(예대)    연도        기초금액  업체수  담합  점검정비       공고번호  \\\n",
       "56   0.90325  2012  4123000000    2   1     1  2012-1404   \n",
       "131  0.90351  2014  4181900000    2   1     1  2014-1479   \n",
       "\n",
       "                                      공고명  \n",
       "56   (재공고)지하수 관측망 점검정비 용역(12~13) [공가][PQ]  \n",
       "131            지하수 관측망 점검정비(14~15)용역 [PQ]  "
      ]
     },
     "execution_count": 698,
     "metadata": {},
     "output_type": "execute_result"
    }
   ],
   "source": [
    "df_temp1.loc[((df_temp1['담합'] == 1) & (df_temp1['낙찰율(예대)'] > 0.9))]"
   ]
  },
  {
   "cell_type": "code",
   "execution_count": 699,
   "metadata": {},
   "outputs": [
    {
     "data": {
      "text/plain": [
       "(228, 8)"
      ]
     },
     "execution_count": 699,
     "metadata": {},
     "output_type": "execute_result"
    }
   ],
   "source": [
    "\"\"\" 담합 데이터 2개 제거 \"\"\"\n",
    "\n",
    "df_temp1 = df_temp1.loc[~((df_temp1['담합'] == 1) & (df_temp1['낙찰율(예대)'] > 0.9))]\n",
    "df_temp1.shape\n"
   ]
  },
  {
   "cell_type": "code",
   "execution_count": 700,
   "metadata": {},
   "outputs": [
    {
     "data": {
      "text/html": [
       "<div>\n",
       "<style scoped>\n",
       "    .dataframe tbody tr th:only-of-type {\n",
       "        vertical-align: middle;\n",
       "    }\n",
       "\n",
       "    .dataframe tbody tr th {\n",
       "        vertical-align: top;\n",
       "    }\n",
       "\n",
       "    .dataframe thead th {\n",
       "        text-align: right;\n",
       "    }\n",
       "</style>\n",
       "<table border=\"1\" class=\"dataframe\">\n",
       "  <thead>\n",
       "    <tr style=\"text-align: right;\">\n",
       "      <th></th>\n",
       "      <th>낙찰율(예대)</th>\n",
       "      <th>연도</th>\n",
       "      <th>기초금액</th>\n",
       "      <th>업체수</th>\n",
       "      <th>담합</th>\n",
       "      <th>점검정비</th>\n",
       "      <th>공고번호</th>\n",
       "      <th>공고명</th>\n",
       "    </tr>\n",
       "  </thead>\n",
       "  <tbody>\n",
       "  </tbody>\n",
       "</table>\n",
       "</div>"
      ],
      "text/plain": [
       "Empty DataFrame\n",
       "Columns: [낙찰율(예대), 연도, 기초금액, 업체수, 담합, 점검정비, 공고번호, 공고명]\n",
       "Index: []"
      ]
     },
     "execution_count": 700,
     "metadata": {},
     "output_type": "execute_result"
    }
   ],
   "source": [
    "df_temp1.loc[df_temp1['기초금액'] < 1000000000] # 10억보다 작은 금액 존재 X"
   ]
  },
  {
   "cell_type": "code",
   "execution_count": 701,
   "metadata": {},
   "outputs": [
    {
     "data": {
      "text/plain": [
       "array([2011, 2012, 2013, 2014, 2015, 2016, 2017, 2018, 2019, 2020, 2021],\n",
       "      dtype=int64)"
      ]
     },
     "execution_count": 701,
     "metadata": {},
     "output_type": "execute_result"
    }
   ],
   "source": [
    "df_temp1['연도'].unique()"
   ]
  },
  {
   "cell_type": "markdown",
   "metadata": {},
   "source": [
    "### 1. 연도별 더미 생성"
   ]
  },
  {
   "cell_type": "code",
   "execution_count": 702,
   "metadata": {},
   "outputs": [],
   "source": [
    "df_temp2 = df_temp1.copy()\n",
    "df_temp2[['d2011','d2012','d2013','d2014','d2015','d2016','d2017','d2018','d2019','d2020']] = 0\n",
    "df_temp2.loc[df_temp2['연도'] == 2011, 'd2011'] = 1 \n",
    "df_temp2.loc[df_temp2['연도'] == 2012, 'd2012'] = 1 \n",
    "df_temp2.loc[df_temp2['연도'] == 2013, 'd2013'] = 1 \n",
    "df_temp2.loc[df_temp2['연도'] == 2014, 'd2014'] = 1 \n",
    "df_temp2.loc[df_temp2['연도'] == 2015, 'd2015'] = 1 \n",
    "df_temp2.loc[df_temp2['연도'] == 2016, 'd2016'] = 1 \n",
    "df_temp2.loc[df_temp2['연도'] == 2017, 'd2017'] = 1 \n",
    "df_temp2.loc[df_temp2['연도'] == 2018, 'd2018'] = 1 \n",
    "df_temp2.loc[df_temp2['연도'] == 2019, 'd2019'] = 1 \n",
    "df_temp2.loc[df_temp2['연도'] == 2020, 'd2020'] = 1 "
   ]
  },
  {
   "cell_type": "code",
   "execution_count": 703,
   "metadata": {},
   "outputs": [
    {
     "data": {
      "text/html": [
       "<div>\n",
       "<style scoped>\n",
       "    .dataframe tbody tr th:only-of-type {\n",
       "        vertical-align: middle;\n",
       "    }\n",
       "\n",
       "    .dataframe tbody tr th {\n",
       "        vertical-align: top;\n",
       "    }\n",
       "\n",
       "    .dataframe thead th {\n",
       "        text-align: right;\n",
       "    }\n",
       "</style>\n",
       "<table border=\"1\" class=\"dataframe\">\n",
       "  <thead>\n",
       "    <tr style=\"text-align: right;\">\n",
       "      <th></th>\n",
       "      <th>낙찰율(예대)</th>\n",
       "      <th>연도</th>\n",
       "      <th>기초금액</th>\n",
       "      <th>업체수</th>\n",
       "      <th>담합</th>\n",
       "      <th>점검정비</th>\n",
       "      <th>공고번호</th>\n",
       "      <th>공고명</th>\n",
       "      <th>d2011</th>\n",
       "      <th>d2012</th>\n",
       "      <th>d2013</th>\n",
       "      <th>d2014</th>\n",
       "      <th>d2015</th>\n",
       "      <th>d2016</th>\n",
       "      <th>d2017</th>\n",
       "      <th>d2018</th>\n",
       "      <th>d2019</th>\n",
       "      <th>d2020</th>\n",
       "    </tr>\n",
       "  </thead>\n",
       "  <tbody>\n",
       "    <tr>\n",
       "      <th>2</th>\n",
       "      <td>0.77106</td>\n",
       "      <td>2011</td>\n",
       "      <td>1514040000</td>\n",
       "      <td>3</td>\n",
       "      <td>0</td>\n",
       "      <td>0</td>\n",
       "      <td>2010-1774</td>\n",
       "      <td>서울시 양재대로 수도권 2,3단계 관로이설공사 책임감리용역</td>\n",
       "      <td>1</td>\n",
       "      <td>0</td>\n",
       "      <td>0</td>\n",
       "      <td>0</td>\n",
       "      <td>0</td>\n",
       "      <td>0</td>\n",
       "      <td>0</td>\n",
       "      <td>0</td>\n",
       "      <td>0</td>\n",
       "      <td>0</td>\n",
       "    </tr>\n",
       "    <tr>\n",
       "      <th>8</th>\n",
       "      <td>0.76853</td>\n",
       "      <td>2011</td>\n",
       "      <td>1429000000</td>\n",
       "      <td>2</td>\n",
       "      <td>0</td>\n",
       "      <td>0</td>\n",
       "      <td>2011-0647</td>\n",
       "      <td>충남충북지역(2단계) 지하수시설 전수조사</td>\n",
       "      <td>1</td>\n",
       "      <td>0</td>\n",
       "      <td>0</td>\n",
       "      <td>0</td>\n",
       "      <td>0</td>\n",
       "      <td>0</td>\n",
       "      <td>0</td>\n",
       "      <td>0</td>\n",
       "      <td>0</td>\n",
       "      <td>0</td>\n",
       "    </tr>\n",
       "    <tr>\n",
       "      <th>9</th>\n",
       "      <td>0.74321</td>\n",
       "      <td>2011</td>\n",
       "      <td>1346000000</td>\n",
       "      <td>2</td>\n",
       "      <td>0</td>\n",
       "      <td>0</td>\n",
       "      <td>2011-0648</td>\n",
       "      <td>전남전북지역(2단계) 지하수시설 전수조사</td>\n",
       "      <td>1</td>\n",
       "      <td>0</td>\n",
       "      <td>0</td>\n",
       "      <td>0</td>\n",
       "      <td>0</td>\n",
       "      <td>0</td>\n",
       "      <td>0</td>\n",
       "      <td>0</td>\n",
       "      <td>0</td>\n",
       "      <td>0</td>\n",
       "    </tr>\n",
       "  </tbody>\n",
       "</table>\n",
       "</div>"
      ],
      "text/plain": [
       "   낙찰율(예대)    연도        기초금액  업체수  담합  점검정비       공고번호  \\\n",
       "2  0.77106  2011  1514040000    3   0     0  2010-1774   \n",
       "8  0.76853  2011  1429000000    2   0     0  2011-0647   \n",
       "9  0.74321  2011  1346000000    2   0     0  2011-0648   \n",
       "\n",
       "                                공고명  d2011  d2012  d2013  d2014  d2015  d2016  \\\n",
       "2  서울시 양재대로 수도권 2,3단계 관로이설공사 책임감리용역      1      0      0      0      0      0   \n",
       "8            충남충북지역(2단계) 지하수시설 전수조사      1      0      0      0      0      0   \n",
       "9            전남전북지역(2단계) 지하수시설 전수조사      1      0      0      0      0      0   \n",
       "\n",
       "   d2017  d2018  d2019  d2020  \n",
       "2      0      0      0      0  \n",
       "8      0      0      0      0  \n",
       "9      0      0      0      0  "
      ]
     },
     "execution_count": 703,
     "metadata": {},
     "output_type": "execute_result"
    }
   ],
   "source": [
    "df_temp2.head(3)"
   ]
  },
  {
   "cell_type": "markdown",
   "metadata": {},
   "source": [
    "### 2. 규모 더미 생성 (33% & 66% Quantile)"
   ]
  },
  {
   "cell_type": "code",
   "execution_count": 704,
   "metadata": {},
   "outputs": [
    {
     "data": {
      "text/plain": [
       "0.33000   1432276000.00000\n",
       "0.66000   2901996240.00000\n",
       "Name: 기초금액, dtype: float64"
      ]
     },
     "execution_count": 704,
     "metadata": {},
     "output_type": "execute_result"
    }
   ],
   "source": [
    "df_temp2['기초금액'].sort_values().quantile([.33, .66])"
   ]
  },
  {
   "cell_type": "code",
   "execution_count": 705,
   "metadata": {},
   "outputs": [
    {
     "data": {
      "text/html": [
       "<div>\n",
       "<style scoped>\n",
       "    .dataframe tbody tr th:only-of-type {\n",
       "        vertical-align: middle;\n",
       "    }\n",
       "\n",
       "    .dataframe tbody tr th {\n",
       "        vertical-align: top;\n",
       "    }\n",
       "\n",
       "    .dataframe thead th {\n",
       "        text-align: right;\n",
       "    }\n",
       "</style>\n",
       "<table border=\"1\" class=\"dataframe\">\n",
       "  <thead>\n",
       "    <tr style=\"text-align: right;\">\n",
       "      <th></th>\n",
       "      <th>낙찰율(예대)</th>\n",
       "      <th>연도</th>\n",
       "      <th>기초금액</th>\n",
       "      <th>업체수</th>\n",
       "      <th>담합</th>\n",
       "      <th>점검정비</th>\n",
       "      <th>공고번호</th>\n",
       "      <th>공고명</th>\n",
       "      <th>d2011</th>\n",
       "      <th>d2012</th>\n",
       "      <th>d2013</th>\n",
       "      <th>d2014</th>\n",
       "      <th>d2015</th>\n",
       "      <th>d2016</th>\n",
       "      <th>d2017</th>\n",
       "      <th>d2018</th>\n",
       "      <th>d2019</th>\n",
       "      <th>d2020</th>\n",
       "      <th>d33</th>\n",
       "      <th>d66</th>\n",
       "    </tr>\n",
       "  </thead>\n",
       "  <tbody>\n",
       "    <tr>\n",
       "      <th>2</th>\n",
       "      <td>0.77106</td>\n",
       "      <td>2011</td>\n",
       "      <td>1514040000</td>\n",
       "      <td>3</td>\n",
       "      <td>0</td>\n",
       "      <td>0</td>\n",
       "      <td>2010-1774</td>\n",
       "      <td>서울시 양재대로 수도권 2,3단계 관로이설공사 책임감리용역</td>\n",
       "      <td>1</td>\n",
       "      <td>0</td>\n",
       "      <td>0</td>\n",
       "      <td>0</td>\n",
       "      <td>0</td>\n",
       "      <td>0</td>\n",
       "      <td>0</td>\n",
       "      <td>0</td>\n",
       "      <td>0</td>\n",
       "      <td>0</td>\n",
       "      <td>0</td>\n",
       "      <td>1</td>\n",
       "    </tr>\n",
       "    <tr>\n",
       "      <th>8</th>\n",
       "      <td>0.76853</td>\n",
       "      <td>2011</td>\n",
       "      <td>1429000000</td>\n",
       "      <td>2</td>\n",
       "      <td>0</td>\n",
       "      <td>0</td>\n",
       "      <td>2011-0647</td>\n",
       "      <td>충남충북지역(2단계) 지하수시설 전수조사</td>\n",
       "      <td>1</td>\n",
       "      <td>0</td>\n",
       "      <td>0</td>\n",
       "      <td>0</td>\n",
       "      <td>0</td>\n",
       "      <td>0</td>\n",
       "      <td>0</td>\n",
       "      <td>0</td>\n",
       "      <td>0</td>\n",
       "      <td>0</td>\n",
       "      <td>1</td>\n",
       "      <td>0</td>\n",
       "    </tr>\n",
       "    <tr>\n",
       "      <th>9</th>\n",
       "      <td>0.74321</td>\n",
       "      <td>2011</td>\n",
       "      <td>1346000000</td>\n",
       "      <td>2</td>\n",
       "      <td>0</td>\n",
       "      <td>0</td>\n",
       "      <td>2011-0648</td>\n",
       "      <td>전남전북지역(2단계) 지하수시설 전수조사</td>\n",
       "      <td>1</td>\n",
       "      <td>0</td>\n",
       "      <td>0</td>\n",
       "      <td>0</td>\n",
       "      <td>0</td>\n",
       "      <td>0</td>\n",
       "      <td>0</td>\n",
       "      <td>0</td>\n",
       "      <td>0</td>\n",
       "      <td>0</td>\n",
       "      <td>1</td>\n",
       "      <td>0</td>\n",
       "    </tr>\n",
       "    <tr>\n",
       "      <th>10</th>\n",
       "      <td>0.81523</td>\n",
       "      <td>2011</td>\n",
       "      <td>1119800000</td>\n",
       "      <td>2</td>\n",
       "      <td>0</td>\n",
       "      <td>0</td>\n",
       "      <td>2011-0892</td>\n",
       "      <td>댐 비상대처계획 수립 용역 [공가][PQ]</td>\n",
       "      <td>1</td>\n",
       "      <td>0</td>\n",
       "      <td>0</td>\n",
       "      <td>0</td>\n",
       "      <td>0</td>\n",
       "      <td>0</td>\n",
       "      <td>0</td>\n",
       "      <td>0</td>\n",
       "      <td>0</td>\n",
       "      <td>0</td>\n",
       "      <td>1</td>\n",
       "      <td>0</td>\n",
       "    </tr>\n",
       "    <tr>\n",
       "      <th>13</th>\n",
       "      <td>0.81166</td>\n",
       "      <td>2011</td>\n",
       "      <td>1140700000</td>\n",
       "      <td>2</td>\n",
       "      <td>0</td>\n",
       "      <td>0</td>\n",
       "      <td>2011-1191</td>\n",
       "      <td>여천공업용수도 제3회 정밀안전진단용역</td>\n",
       "      <td>1</td>\n",
       "      <td>0</td>\n",
       "      <td>0</td>\n",
       "      <td>0</td>\n",
       "      <td>0</td>\n",
       "      <td>0</td>\n",
       "      <td>0</td>\n",
       "      <td>0</td>\n",
       "      <td>0</td>\n",
       "      <td>0</td>\n",
       "      <td>1</td>\n",
       "      <td>0</td>\n",
       "    </tr>\n",
       "    <tr>\n",
       "      <th>...</th>\n",
       "      <td>...</td>\n",
       "      <td>...</td>\n",
       "      <td>...</td>\n",
       "      <td>...</td>\n",
       "      <td>...</td>\n",
       "      <td>...</td>\n",
       "      <td>...</td>\n",
       "      <td>...</td>\n",
       "      <td>...</td>\n",
       "      <td>...</td>\n",
       "      <td>...</td>\n",
       "      <td>...</td>\n",
       "      <td>...</td>\n",
       "      <td>...</td>\n",
       "      <td>...</td>\n",
       "      <td>...</td>\n",
       "      <td>...</td>\n",
       "      <td>...</td>\n",
       "      <td>...</td>\n",
       "      <td>...</td>\n",
       "    </tr>\n",
       "    <tr>\n",
       "      <th>76</th>\n",
       "      <td>0.74876</td>\n",
       "      <td>2013</td>\n",
       "      <td>1380170000</td>\n",
       "      <td>6</td>\n",
       "      <td>0</td>\n",
       "      <td>0</td>\n",
       "      <td>2013-0036</td>\n",
       "      <td>부산 에코 델타시티 교통재해에너지분야 영향평가 용역 [공가][PQ]</td>\n",
       "      <td>0</td>\n",
       "      <td>0</td>\n",
       "      <td>1</td>\n",
       "      <td>0</td>\n",
       "      <td>0</td>\n",
       "      <td>0</td>\n",
       "      <td>0</td>\n",
       "      <td>0</td>\n",
       "      <td>0</td>\n",
       "      <td>0</td>\n",
       "      <td>1</td>\n",
       "      <td>0</td>\n",
       "    </tr>\n",
       "    <tr>\n",
       "      <th>346</th>\n",
       "      <td>0.73002</td>\n",
       "      <td>2019</td>\n",
       "      <td>1144800000</td>\n",
       "      <td>7</td>\n",
       "      <td>0</td>\n",
       "      <td>0</td>\n",
       "      <td>B5201900988</td>\n",
       "      <td>양구지역 지하수 수량·수질 통합조사 [제한][공가][PQ]</td>\n",
       "      <td>0</td>\n",
       "      <td>0</td>\n",
       "      <td>0</td>\n",
       "      <td>0</td>\n",
       "      <td>0</td>\n",
       "      <td>0</td>\n",
       "      <td>0</td>\n",
       "      <td>0</td>\n",
       "      <td>1</td>\n",
       "      <td>0</td>\n",
       "      <td>1</td>\n",
       "      <td>0</td>\n",
       "    </tr>\n",
       "    <tr>\n",
       "      <th>351</th>\n",
       "      <td>0.75408</td>\n",
       "      <td>2019</td>\n",
       "      <td>1564000000</td>\n",
       "      <td>2</td>\n",
       "      <td>0</td>\n",
       "      <td>0</td>\n",
       "      <td>B5201901079</td>\n",
       "      <td>물 인프라 진단고도화 용역 [제한][공가][PQ]</td>\n",
       "      <td>0</td>\n",
       "      <td>0</td>\n",
       "      <td>0</td>\n",
       "      <td>0</td>\n",
       "      <td>0</td>\n",
       "      <td>0</td>\n",
       "      <td>0</td>\n",
       "      <td>0</td>\n",
       "      <td>1</td>\n",
       "      <td>0</td>\n",
       "      <td>0</td>\n",
       "      <td>1</td>\n",
       "    </tr>\n",
       "    <tr>\n",
       "      <th>359</th>\n",
       "      <td>0.73644</td>\n",
       "      <td>2019</td>\n",
       "      <td>1900000000</td>\n",
       "      <td>3</td>\n",
       "      <td>0</td>\n",
       "      <td>0</td>\n",
       "      <td>B5201901922</td>\n",
       "      <td>조력발전소 운영에 따른 해양물리변화 장기조사용역(2단계) [제한][공가]</td>\n",
       "      <td>0</td>\n",
       "      <td>0</td>\n",
       "      <td>0</td>\n",
       "      <td>0</td>\n",
       "      <td>0</td>\n",
       "      <td>0</td>\n",
       "      <td>0</td>\n",
       "      <td>0</td>\n",
       "      <td>1</td>\n",
       "      <td>0</td>\n",
       "      <td>0</td>\n",
       "      <td>1</td>\n",
       "    </tr>\n",
       "    <tr>\n",
       "      <th>448</th>\n",
       "      <td>0.73039</td>\n",
       "      <td>2020</td>\n",
       "      <td>2446653000</td>\n",
       "      <td>4</td>\n",
       "      <td>0</td>\n",
       "      <td>0</td>\n",
       "      <td>B5202002509</td>\n",
       "      <td>부산 에코델타시티 사업계획 관리용역 [공가][PQ]</td>\n",
       "      <td>0</td>\n",
       "      <td>0</td>\n",
       "      <td>0</td>\n",
       "      <td>0</td>\n",
       "      <td>0</td>\n",
       "      <td>0</td>\n",
       "      <td>0</td>\n",
       "      <td>0</td>\n",
       "      <td>0</td>\n",
       "      <td>1</td>\n",
       "      <td>0</td>\n",
       "      <td>1</td>\n",
       "    </tr>\n",
       "  </tbody>\n",
       "</table>\n",
       "<p>228 rows × 20 columns</p>\n",
       "</div>"
      ],
      "text/plain": [
       "     낙찰율(예대)    연도        기초금액  업체수  담합  점검정비         공고번호  \\\n",
       "2    0.77106  2011  1514040000    3   0     0    2010-1774   \n",
       "8    0.76853  2011  1429000000    2   0     0    2011-0647   \n",
       "9    0.74321  2011  1346000000    2   0     0    2011-0648   \n",
       "10   0.81523  2011  1119800000    2   0     0    2011-0892   \n",
       "13   0.81166  2011  1140700000    2   0     0    2011-1191   \n",
       "..       ...   ...         ...  ...  ..   ...          ...   \n",
       "76   0.74876  2013  1380170000    6   0     0    2013-0036   \n",
       "346  0.73002  2019  1144800000    7   0     0  B5201900988   \n",
       "351  0.75408  2019  1564000000    2   0     0  B5201901079   \n",
       "359  0.73644  2019  1900000000    3   0     0  B5201901922   \n",
       "448  0.73039  2020  2446653000    4   0     0  B5202002509   \n",
       "\n",
       "                                          공고명  d2011  d2012  d2013  d2014  \\\n",
       "2            서울시 양재대로 수도권 2,3단계 관로이설공사 책임감리용역      1      0      0      0   \n",
       "8                      충남충북지역(2단계) 지하수시설 전수조사      1      0      0      0   \n",
       "9                      전남전북지역(2단계) 지하수시설 전수조사      1      0      0      0   \n",
       "10                    댐 비상대처계획 수립 용역 [공가][PQ]      1      0      0      0   \n",
       "13                       여천공업용수도 제3회 정밀안전진단용역      1      0      0      0   \n",
       "..                                        ...    ...    ...    ...    ...   \n",
       "76      부산 에코 델타시티 교통재해에너지분야 영향평가 용역 [공가][PQ]      0      0      1      0   \n",
       "346          양구지역 지하수 수량·수질 통합조사 [제한][공가][PQ]      0      0      0      0   \n",
       "351               물 인프라 진단고도화 용역 [제한][공가][PQ]      0      0      0      0   \n",
       "359  조력발전소 운영에 따른 해양물리변화 장기조사용역(2단계) [제한][공가]      0      0      0      0   \n",
       "448              부산 에코델타시티 사업계획 관리용역 [공가][PQ]      0      0      0      0   \n",
       "\n",
       "     d2015  d2016  d2017  d2018  d2019  d2020  d33  d66  \n",
       "2        0      0      0      0      0      0    0    1  \n",
       "8        0      0      0      0      0      0    1    0  \n",
       "9        0      0      0      0      0      0    1    0  \n",
       "10       0      0      0      0      0      0    1    0  \n",
       "13       0      0      0      0      0      0    1    0  \n",
       "..     ...    ...    ...    ...    ...    ...  ...  ...  \n",
       "76       0      0      0      0      0      0    1    0  \n",
       "346      0      0      0      0      1      0    1    0  \n",
       "351      0      0      0      0      1      0    0    1  \n",
       "359      0      0      0      0      1      0    0    1  \n",
       "448      0      0      0      0      0      1    0    1  \n",
       "\n",
       "[228 rows x 20 columns]"
      ]
     },
     "execution_count": 705,
     "metadata": {},
     "output_type": "execute_result"
    }
   ],
   "source": [
    "df_temp3 = df_temp2.copy()\n",
    "df_temp3['d33'] = 0\n",
    "df_temp3['d66'] = 0\n",
    "\n",
    "df_temp3.loc[df_temp3['기초금액'] < df_temp2['기초금액'].sort_values().quantile(.33), 'd33'] = 1\n",
    "df_temp3.loc[(df_temp3['기초금액'] > df_temp2['기초금액'].sort_values().quantile(.33)) & (df_temp3['기초금액'] < df_temp2['기초금액'].sort_values().quantile(.66)), 'd66'] = 1\n",
    "df_temp3"
   ]
  },
  {
   "cell_type": "markdown",
   "metadata": {},
   "source": [
    "### 3. 업체수 규제 (완전 제거 & 20으로 고정)"
   ]
  },
  {
   "cell_type": "code",
   "execution_count": 706,
   "metadata": {},
   "outputs": [],
   "source": [
    "df_temp4 = df_temp3.copy()"
   ]
  },
  {
   "cell_type": "code",
   "execution_count": 707,
   "metadata": {},
   "outputs": [
    {
     "data": {
      "text/plain": [
       "(213, 21)"
      ]
     },
     "execution_count": 707,
     "metadata": {},
     "output_type": "execute_result"
    }
   ],
   "source": [
    "# 3-2. dnumfirm2 : 업체수 20 이상은 NAN 으로 값 줘서 추후 삭제\n",
    "df_temp4['dnumfirm2'] = np.nan\n",
    "df_temp4.loc[df_temp4['업체수'] <= 20, 'dnumfirm2'] = df_temp4.loc[df_temp4['업체수'] <= 20, '업체수']\n",
    "df_temp4 = df_temp4.dropna()\n",
    "df_temp4.shape"
   ]
  },
  {
   "cell_type": "markdown",
   "metadata": {},
   "source": [
    "### 4. Linear Regression 준비 위한 dataframe 재정비"
   ]
  },
  {
   "cell_type": "code",
   "execution_count": 708,
   "metadata": {},
   "outputs": [
    {
     "data": {
      "text/html": [
       "<div>\n",
       "<style scoped>\n",
       "    .dataframe tbody tr th:only-of-type {\n",
       "        vertical-align: middle;\n",
       "    }\n",
       "\n",
       "    .dataframe tbody tr th {\n",
       "        vertical-align: top;\n",
       "    }\n",
       "\n",
       "    .dataframe thead th {\n",
       "        text-align: right;\n",
       "    }\n",
       "</style>\n",
       "<table border=\"1\" class=\"dataframe\">\n",
       "  <thead>\n",
       "    <tr style=\"text-align: right;\">\n",
       "      <th></th>\n",
       "      <th>낙찰율(예대)</th>\n",
       "      <th>Collusion</th>\n",
       "      <th>기초금액</th>\n",
       "      <th>dnumfirm2</th>\n",
       "      <th>d2011</th>\n",
       "      <th>d2012</th>\n",
       "      <th>d2013</th>\n",
       "      <th>d2014</th>\n",
       "      <th>d2015</th>\n",
       "      <th>d2016</th>\n",
       "      <th>d2017</th>\n",
       "      <th>d2018</th>\n",
       "      <th>d2019</th>\n",
       "      <th>d2020</th>\n",
       "      <th>d33</th>\n",
       "      <th>d66</th>\n",
       "      <th>dmaintain</th>\n",
       "      <th>공고번호</th>\n",
       "      <th>공고명</th>\n",
       "      <th>tenderRatio</th>\n",
       "      <th>LnCash</th>\n",
       "    </tr>\n",
       "  </thead>\n",
       "  <tbody>\n",
       "    <tr>\n",
       "      <th>2</th>\n",
       "      <td>0.77106</td>\n",
       "      <td>0</td>\n",
       "      <td>1514040000</td>\n",
       "      <td>3.00000</td>\n",
       "      <td>1</td>\n",
       "      <td>0</td>\n",
       "      <td>0</td>\n",
       "      <td>0</td>\n",
       "      <td>0</td>\n",
       "      <td>0</td>\n",
       "      <td>0</td>\n",
       "      <td>0</td>\n",
       "      <td>0</td>\n",
       "      <td>0</td>\n",
       "      <td>0</td>\n",
       "      <td>1</td>\n",
       "      <td>0</td>\n",
       "      <td>2010-1774</td>\n",
       "      <td>서울시 양재대로 수도권 2,3단계 관로이설공사 책임감리용역</td>\n",
       "      <td>77.10555</td>\n",
       "      <td>21.13805</td>\n",
       "    </tr>\n",
       "    <tr>\n",
       "      <th>8</th>\n",
       "      <td>0.76853</td>\n",
       "      <td>0</td>\n",
       "      <td>1429000000</td>\n",
       "      <td>2.00000</td>\n",
       "      <td>1</td>\n",
       "      <td>0</td>\n",
       "      <td>0</td>\n",
       "      <td>0</td>\n",
       "      <td>0</td>\n",
       "      <td>0</td>\n",
       "      <td>0</td>\n",
       "      <td>0</td>\n",
       "      <td>0</td>\n",
       "      <td>0</td>\n",
       "      <td>1</td>\n",
       "      <td>0</td>\n",
       "      <td>0</td>\n",
       "      <td>2011-0647</td>\n",
       "      <td>충남충북지역(2단계) 지하수시설 전수조사</td>\n",
       "      <td>76.85339</td>\n",
       "      <td>21.08024</td>\n",
       "    </tr>\n",
       "    <tr>\n",
       "      <th>9</th>\n",
       "      <td>0.74321</td>\n",
       "      <td>0</td>\n",
       "      <td>1346000000</td>\n",
       "      <td>2.00000</td>\n",
       "      <td>1</td>\n",
       "      <td>0</td>\n",
       "      <td>0</td>\n",
       "      <td>0</td>\n",
       "      <td>0</td>\n",
       "      <td>0</td>\n",
       "      <td>0</td>\n",
       "      <td>0</td>\n",
       "      <td>0</td>\n",
       "      <td>0</td>\n",
       "      <td>1</td>\n",
       "      <td>0</td>\n",
       "      <td>0</td>\n",
       "      <td>2011-0648</td>\n",
       "      <td>전남전북지역(2단계) 지하수시설 전수조사</td>\n",
       "      <td>74.32124</td>\n",
       "      <td>21.02040</td>\n",
       "    </tr>\n",
       "    <tr>\n",
       "      <th>10</th>\n",
       "      <td>0.81523</td>\n",
       "      <td>0</td>\n",
       "      <td>1119800000</td>\n",
       "      <td>2.00000</td>\n",
       "      <td>1</td>\n",
       "      <td>0</td>\n",
       "      <td>0</td>\n",
       "      <td>0</td>\n",
       "      <td>0</td>\n",
       "      <td>0</td>\n",
       "      <td>0</td>\n",
       "      <td>0</td>\n",
       "      <td>0</td>\n",
       "      <td>0</td>\n",
       "      <td>1</td>\n",
       "      <td>0</td>\n",
       "      <td>0</td>\n",
       "      <td>2011-0892</td>\n",
       "      <td>댐 비상대처계획 수립 용역 [공가][PQ]</td>\n",
       "      <td>81.52287</td>\n",
       "      <td>20.83642</td>\n",
       "    </tr>\n",
       "    <tr>\n",
       "      <th>13</th>\n",
       "      <td>0.81166</td>\n",
       "      <td>0</td>\n",
       "      <td>1140700000</td>\n",
       "      <td>2.00000</td>\n",
       "      <td>1</td>\n",
       "      <td>0</td>\n",
       "      <td>0</td>\n",
       "      <td>0</td>\n",
       "      <td>0</td>\n",
       "      <td>0</td>\n",
       "      <td>0</td>\n",
       "      <td>0</td>\n",
       "      <td>0</td>\n",
       "      <td>0</td>\n",
       "      <td>1</td>\n",
       "      <td>0</td>\n",
       "      <td>0</td>\n",
       "      <td>2011-1191</td>\n",
       "      <td>여천공업용수도 제3회 정밀안전진단용역</td>\n",
       "      <td>81.16553</td>\n",
       "      <td>20.85491</td>\n",
       "    </tr>\n",
       "  </tbody>\n",
       "</table>\n",
       "</div>"
      ],
      "text/plain": [
       "    낙찰율(예대)  Collusion        기초금액  dnumfirm2  d2011  d2012  d2013  d2014  \\\n",
       "2   0.77106          0  1514040000    3.00000      1      0      0      0   \n",
       "8   0.76853          0  1429000000    2.00000      1      0      0      0   \n",
       "9   0.74321          0  1346000000    2.00000      1      0      0      0   \n",
       "10  0.81523          0  1119800000    2.00000      1      0      0      0   \n",
       "13  0.81166          0  1140700000    2.00000      1      0      0      0   \n",
       "\n",
       "    d2015  d2016  d2017  d2018  d2019  d2020  d33  d66  dmaintain       공고번호  \\\n",
       "2       0      0      0      0      0      0    0    1          0  2010-1774   \n",
       "8       0      0      0      0      0      0    1    0          0  2011-0647   \n",
       "9       0      0      0      0      0      0    1    0          0  2011-0648   \n",
       "10      0      0      0      0      0      0    1    0          0  2011-0892   \n",
       "13      0      0      0      0      0      0    1    0          0  2011-1191   \n",
       "\n",
       "                                 공고명  tenderRatio   LnCash  \n",
       "2   서울시 양재대로 수도권 2,3단계 관로이설공사 책임감리용역     77.10555 21.13805  \n",
       "8             충남충북지역(2단계) 지하수시설 전수조사     76.85339 21.08024  \n",
       "9             전남전북지역(2단계) 지하수시설 전수조사     74.32124 21.02040  \n",
       "10           댐 비상대처계획 수립 용역 [공가][PQ]     81.52287 20.83642  \n",
       "13              여천공업용수도 제3회 정밀안전진단용역     81.16553 20.85491  "
      ]
     },
     "execution_count": 708,
     "metadata": {},
     "output_type": "execute_result"
    }
   ],
   "source": [
    "df_temp5 = df_temp4[['낙찰율(예대)','담합', '기초금액','dnumfirm2','d2011','d2012','d2013','d2014','d2015','d2016','d2017','d2018','d2019','d2020','d33', 'd66', '점검정비','공고번호','공고명']]\n",
    "df_temp5 = df_temp5.copy()\n",
    "df_temp5['낙찰율'] = df_temp5['낙찰율(예대)']*100\n",
    "df_temp5['ln기초금액'] = np.log(df_temp5['기초금액'])\n",
    "df_temp5 = df_temp5.rename(columns = {\"낙찰율\" : \"tenderRatio\", \"담합\" : \"Collusion\", \"ln기초금액\" : \"LnCash\", \"점검정비\" : \"dmaintain\"})\n",
    "df_temp5.head()"
   ]
  },
  {
   "cell_type": "code",
   "execution_count": 709,
   "metadata": {},
   "outputs": [
    {
     "data": {
      "text/plain": [
       "(213, 21)"
      ]
     },
     "execution_count": 709,
     "metadata": {},
     "output_type": "execute_result"
    }
   ],
   "source": [
    "df_temp5['dnumfirm2'].isna().sum() #60\n",
    "df_temp5.shape # 640"
   ]
  },
  {
   "cell_type": "code",
   "execution_count": 710,
   "metadata": {},
   "outputs": [
    {
     "data": {
      "text/plain": [
       "0"
      ]
     },
     "execution_count": 710,
     "metadata": {},
     "output_type": "execute_result"
    }
   ],
   "source": [
    "df_temp5.isna().sum().sum()"
   ]
  },
  {
   "cell_type": "code",
   "execution_count": 711,
   "metadata": {},
   "outputs": [
    {
     "data": {
      "text/plain": [
       "28"
      ]
     },
     "execution_count": 711,
     "metadata": {},
     "output_type": "execute_result"
    }
   ],
   "source": [
    "df_temp5['Collusion'].sum()"
   ]
  },
  {
   "cell_type": "markdown",
   "metadata": {},
   "source": [
    "### 4-1. 연도별 더미 추가 생성"
   ]
  },
  {
   "cell_type": "code",
   "execution_count": 712,
   "metadata": {},
   "outputs": [
    {
     "data": {
      "text/html": [
       "<div>\n",
       "<style scoped>\n",
       "    .dataframe tbody tr th:only-of-type {\n",
       "        vertical-align: middle;\n",
       "    }\n",
       "\n",
       "    .dataframe tbody tr th {\n",
       "        vertical-align: top;\n",
       "    }\n",
       "\n",
       "    .dataframe thead th {\n",
       "        text-align: right;\n",
       "    }\n",
       "</style>\n",
       "<table border=\"1\" class=\"dataframe\">\n",
       "  <thead>\n",
       "    <tr style=\"text-align: right;\">\n",
       "      <th></th>\n",
       "      <th>낙찰율(예대)</th>\n",
       "      <th>Collusion</th>\n",
       "      <th>기초금액</th>\n",
       "      <th>dnumfirm2</th>\n",
       "      <th>d2011</th>\n",
       "      <th>d2012</th>\n",
       "      <th>d2013</th>\n",
       "      <th>d2014</th>\n",
       "      <th>d2015</th>\n",
       "      <th>d2016</th>\n",
       "      <th>d2017</th>\n",
       "      <th>d2018</th>\n",
       "      <th>d2019</th>\n",
       "      <th>d2020</th>\n",
       "      <th>d33</th>\n",
       "      <th>d66</th>\n",
       "      <th>dmaintain</th>\n",
       "      <th>공고번호</th>\n",
       "      <th>공고명</th>\n",
       "      <th>tenderRatio</th>\n",
       "      <th>LnCash</th>\n",
       "    </tr>\n",
       "  </thead>\n",
       "  <tbody>\n",
       "    <tr>\n",
       "      <th>2</th>\n",
       "      <td>0.77106</td>\n",
       "      <td>0</td>\n",
       "      <td>1514040000</td>\n",
       "      <td>3.00000</td>\n",
       "      <td>1</td>\n",
       "      <td>0</td>\n",
       "      <td>0</td>\n",
       "      <td>0</td>\n",
       "      <td>0</td>\n",
       "      <td>0</td>\n",
       "      <td>0</td>\n",
       "      <td>0</td>\n",
       "      <td>0</td>\n",
       "      <td>0</td>\n",
       "      <td>0</td>\n",
       "      <td>1</td>\n",
       "      <td>0</td>\n",
       "      <td>2010-1774</td>\n",
       "      <td>서울시 양재대로 수도권 2,3단계 관로이설공사 책임감리용역</td>\n",
       "      <td>77.10555</td>\n",
       "      <td>21.13805</td>\n",
       "    </tr>\n",
       "    <tr>\n",
       "      <th>8</th>\n",
       "      <td>0.76853</td>\n",
       "      <td>0</td>\n",
       "      <td>1429000000</td>\n",
       "      <td>2.00000</td>\n",
       "      <td>1</td>\n",
       "      <td>0</td>\n",
       "      <td>0</td>\n",
       "      <td>0</td>\n",
       "      <td>0</td>\n",
       "      <td>0</td>\n",
       "      <td>0</td>\n",
       "      <td>0</td>\n",
       "      <td>0</td>\n",
       "      <td>0</td>\n",
       "      <td>1</td>\n",
       "      <td>0</td>\n",
       "      <td>0</td>\n",
       "      <td>2011-0647</td>\n",
       "      <td>충남충북지역(2단계) 지하수시설 전수조사</td>\n",
       "      <td>76.85339</td>\n",
       "      <td>21.08024</td>\n",
       "    </tr>\n",
       "    <tr>\n",
       "      <th>9</th>\n",
       "      <td>0.74321</td>\n",
       "      <td>0</td>\n",
       "      <td>1346000000</td>\n",
       "      <td>2.00000</td>\n",
       "      <td>1</td>\n",
       "      <td>0</td>\n",
       "      <td>0</td>\n",
       "      <td>0</td>\n",
       "      <td>0</td>\n",
       "      <td>0</td>\n",
       "      <td>0</td>\n",
       "      <td>0</td>\n",
       "      <td>0</td>\n",
       "      <td>0</td>\n",
       "      <td>1</td>\n",
       "      <td>0</td>\n",
       "      <td>0</td>\n",
       "      <td>2011-0648</td>\n",
       "      <td>전남전북지역(2단계) 지하수시설 전수조사</td>\n",
       "      <td>74.32124</td>\n",
       "      <td>21.02040</td>\n",
       "    </tr>\n",
       "  </tbody>\n",
       "</table>\n",
       "</div>"
      ],
      "text/plain": [
       "   낙찰율(예대)  Collusion        기초금액  dnumfirm2  d2011  d2012  d2013  d2014  \\\n",
       "2  0.77106          0  1514040000    3.00000      1      0      0      0   \n",
       "8  0.76853          0  1429000000    2.00000      1      0      0      0   \n",
       "9  0.74321          0  1346000000    2.00000      1      0      0      0   \n",
       "\n",
       "   d2015  d2016  d2017  d2018  d2019  d2020  d33  d66  dmaintain       공고번호  \\\n",
       "2      0      0      0      0      0      0    0    1          0  2010-1774   \n",
       "8      0      0      0      0      0      0    1    0          0  2011-0647   \n",
       "9      0      0      0      0      0      0    1    0          0  2011-0648   \n",
       "\n",
       "                                공고명  tenderRatio   LnCash  \n",
       "2  서울시 양재대로 수도권 2,3단계 관로이설공사 책임감리용역     77.10555 21.13805  \n",
       "8            충남충북지역(2단계) 지하수시설 전수조사     76.85339 21.08024  \n",
       "9            전남전북지역(2단계) 지하수시설 전수조사     74.32124 21.02040  "
      ]
     },
     "execution_count": 712,
     "metadata": {},
     "output_type": "execute_result"
    }
   ],
   "source": [
    "df_temp5.head(3)"
   ]
  },
  {
   "cell_type": "code",
   "execution_count": 713,
   "metadata": {},
   "outputs": [],
   "source": [
    "df_temp6 = df_temp5.copy() \n",
    "\n",
    "df_temp6[['db2013','db2014','db2017_a', 'db2017_b']] = 0\n",
    "\n",
    "df_temp6.loc[df_temp6['d2011'] == 1, 'db2013'] =1\n",
    "df_temp6.loc[df_temp6['d2012'] == 1, 'db2013'] =1\n",
    "df_temp6.loc[df_temp6['d2013'] == 1, 'db2013'] =1\n",
    "\n",
    "df_temp6.loc[df_temp6['d2011'] == 1, 'db2014'] =1\n",
    "df_temp6.loc[df_temp6['d2012'] == 1, 'db2014'] =1\n",
    "df_temp6.loc[df_temp6['d2013'] == 1, 'db2014'] =1\n",
    "df_temp6.loc[df_temp6['d2014'] == 1, 'db2014'] =1\n",
    "\n",
    "df_temp6.loc[df_temp6['d2014'] == 1, 'db2017_a'] =1\n",
    "df_temp6.loc[df_temp6['d2015'] == 1, 'db2017_a'] =1\n",
    "df_temp6.loc[df_temp6['d2016'] == 1, 'db2017_a'] =1\n",
    "df_temp6.loc[df_temp6['d2017'] == 1, 'db2017_a'] =1\n",
    "\n",
    "df_temp6.loc[df_temp6['d2015'] == 1, 'db2017_b'] =1\n",
    "df_temp6.loc[df_temp6['d2016'] == 1, 'db2017_b'] =1\n",
    "df_temp6.loc[df_temp6['d2017'] == 1, 'db2017_b'] =1"
   ]
  },
  {
   "cell_type": "code",
   "execution_count": 714,
   "metadata": {},
   "outputs": [
    {
     "data": {
      "text/plain": [
       "0"
      ]
     },
     "execution_count": 714,
     "metadata": {},
     "output_type": "execute_result"
    }
   ],
   "source": [
    "df_temp6.isna().sum().sum()"
   ]
  },
  {
   "cell_type": "markdown",
   "metadata": {},
   "source": [
    "### 5. 연도 이전 이후 더미 Regression (528개의 경우 : 담합 제외 X)"
   ]
  },
  {
   "cell_type": "code",
   "execution_count": 715,
   "metadata": {},
   "outputs": [
    {
     "data": {
      "text/plain": [
       "78.92949931422994"
      ]
     },
     "execution_count": 715,
     "metadata": {},
     "output_type": "execute_result"
    }
   ],
   "source": [
    "np.mean(df_temp6['tenderRatio'])"
   ]
  },
  {
   "cell_type": "code",
   "execution_count": 716,
   "metadata": {},
   "outputs": [],
   "source": [
    "original = df_temp6.loc[((df_temp6['Collusion']==0) & (df_temp6['dmaintain']==0))]\n",
    "new = df_temp6.loc[((df_temp6['Collusion']==0) & (df_temp6['dmaintain']==1))]\n",
    "collusion = df_temp6.loc[df_temp6['Collusion'] == 1]"
   ]
  },
  {
   "cell_type": "code",
   "execution_count": 717,
   "metadata": {},
   "outputs": [
    {
     "data": {
      "text/plain": [
       "((157, 25), (28, 25), (28, 25))"
      ]
     },
     "execution_count": 717,
     "metadata": {},
     "output_type": "execute_result"
    }
   ],
   "source": [
    "original.shape, new.shape, collusion.shape"
   ]
  },
  {
   "cell_type": "code",
   "execution_count": 718,
   "metadata": {},
   "outputs": [
    {
     "data": {
      "text/plain": [
       "[<matplotlib.lines.Line2D at 0x1dfddb4a048>]"
      ]
     },
     "execution_count": 718,
     "metadata": {},
     "output_type": "execute_result"
    },
    {
     "data": {
      "image/png": "[encoded data removed]",
      "text/plain": [
       "<Figure size 432x288 with 1 Axes>"
      ]
     },
     "metadata": {
      "needs_background": "light"
     },
     "output_type": "display_data"
    }
   ],
   "source": [
    "import matplotlib.pyplot as plt\n",
    "\n",
    "plt.plot('tenderRatio', 'LnCash', 'o' ,data=original,)\n",
    "plt.plot('tenderRatio', 'LnCash', 'or' ,data=new,)\n",
    "plt.plot('tenderRatio', 'LnCash', 'og', data=collusion)\n"
   ]
  },
  {
   "cell_type": "code",
   "execution_count": 719,
   "metadata": {},
   "outputs": [
    {
     "data": {
      "text/plain": [
       "(212, 25)"
      ]
     },
     "execution_count": 719,
     "metadata": {},
     "output_type": "execute_result"
    }
   ],
   "source": [
    "\n",
    "\"\"\" 이상치 데이터 2개 제거 \"\"\"\n",
    "\n",
    "\n",
    "df_temp6 = df_temp6.loc[~(((df_temp6['LnCash'] > 26) & (df_temp6['tenderRatio'] > 95)) | ((df_temp6['LnCash'] < 23) & (df_temp6['tenderRatio'] < 65)))]\n",
    "df_temp6.shape"
   ]
  },
  {
   "cell_type": "code",
   "execution_count": 720,
   "metadata": {},
   "outputs": [
    {
     "data": {
      "text/plain": [
       "(184, 25)"
      ]
     },
     "execution_count": 720,
     "metadata": {},
     "output_type": "execute_result"
    }
   ],
   "source": [
    "df_156 = df_temp6.loc[df_temp6['Collusion']==0]\n",
    "df_156.shape"
   ]
  },
  {
   "cell_type": "code",
   "execution_count": 721,
   "metadata": {},
   "outputs": [
    {
     "data": {
      "text/plain": [
       "78.06081564621877"
      ]
     },
     "execution_count": 721,
     "metadata": {},
     "output_type": "execute_result"
    }
   ],
   "source": [
    "np.mean(df_156['tenderRatio'])"
   ]
  },
  {
   "cell_type": "code",
   "execution_count": 722,
   "metadata": {},
   "outputs": [
    {
     "data": {
      "text/plain": [
       "(28, 25)"
      ]
     },
     "execution_count": 722,
     "metadata": {},
     "output_type": "execute_result"
    }
   ],
   "source": [
    "df_temp6.loc[(df_temp6['Collusion'] == 0) & (df_temp6['dmaintain'] == 1)].shape"
   ]
  },
  {
   "cell_type": "code",
   "execution_count": 723,
   "metadata": {},
   "outputs": [
    {
     "data": {
      "text/plain": [
       "6025"
      ]
     },
     "execution_count": 723,
     "metadata": {},
     "output_type": "execute_result"
    }
   ],
   "source": [
    "results1 = smf.ols('tenderRatio ~ Collusion + LnCash + dnumfirm2', data=df_temp6).fit()\n",
    "results2 = smf.ols('tenderRatio ~ Collusion + LnCash + dnumfirm2 + d2011 + d2012 + d2013 + d2014 + d2015 + d2016 + d2017 + d2018 + d2019 + d2020', data=df_temp6).fit()\n",
    "results3 = smf.ols('tenderRatio ~ Collusion + LnCash + dnumfirm2 + d2011 + d2012 + d2013 + d2014 + d2015 + d2016 + d2017 + d2018 + d2019 + d2020 + d33 + d66', data=df_temp6).fit()\n",
    "\n",
    "results5 = smf.ols('tenderRatio ~ Collusion + LnCash + dnumfirm2 + db2014 + db2017_b', data=df_temp6).fit()\n",
    "results6 = smf.ols('tenderRatio ~ Collusion + LnCash + dnumfirm2 + d33 + d66 + db2014 + db2017_b', data=df_temp6).fit()\n",
    "\n",
    "\n",
    "stargazer_tab = Stargazer([results1, results2, results3, results5, results6])\n",
    "open('./V Final_1006/regression_212_점검_14년.html', 'w').write(stargazer_tab.render_html())  # for latex"
   ]
  },
  {
   "cell_type": "code",
   "execution_count": 724,
   "metadata": {},
   "outputs": [
    {
     "data": {
      "text/plain": [
       "(28, 25)"
      ]
     },
     "execution_count": 724,
     "metadata": {},
     "output_type": "execute_result"
    }
   ],
   "source": [
    "\"\"\"FFFFFFFFFFFFFFIIIIIIIIIIIIIIIIIITTTTTTTTTTTTT\"\"\"\n",
    "\n",
    "df_xmatrix = df_temp6.loc[(df_temp6['Collusion'] == 1) & (df_temp6['tenderRatio'] < 90)]\n",
    "df_xmatrix.shape"
   ]
  },
  {
   "cell_type": "code",
   "execution_count": 725,
   "metadata": {},
   "outputs": [],
   "source": [
    "fitted = pd.concat([df_xmatrix['tenderRatio'],  results1.predict(df_xmatrix), results2.predict(df_xmatrix), results3.predict(df_xmatrix), \n",
    "                    results5.predict(df_xmatrix), results6.predict(df_xmatrix)], axis = 1)\n",
    "\n",
    "fitted.columns = ['tenderRatio', 'fitted1', 'fitted2', 'fitted3', 'fitted5', 'fitted6']\n",
    "\n",
    "fitted_final = fitted.copy()\n",
    "fitted_final['diff1'] = fitted['tenderRatio'] - fitted['fitted1'] + results1.params['Collusion']\n",
    "fitted_final['diff2'] = fitted['tenderRatio'] - fitted['fitted2'] + results2.params['Collusion']\n",
    "fitted_final['diff3'] = fitted['tenderRatio'] - fitted['fitted3'] + results3.params['Collusion']\n",
    "fitted_final['diff5'] = fitted['tenderRatio'] - fitted['fitted5'] + results5.params['Collusion']\n",
    "fitted_final['diff6'] = fitted['tenderRatio'] - fitted['fitted6'] + results6.params['Collusion']\n",
    "\n",
    "\n",
    "fitted_final.to_csv('./V Final_1006/fitted_212_점검_14년.csv', index = False)"
   ]
  },
  {
   "cell_type": "code",
   "execution_count": 726,
   "metadata": {},
   "outputs": [
    {
     "data": {
      "text/plain": [
       "(184, 25)"
      ]
     },
     "execution_count": 726,
     "metadata": {},
     "output_type": "execute_result"
    }
   ],
   "source": [
    "df_temp7 = df_temp6.loc[df_temp6['Collusion'] == 0]\n",
    "df_temp7.shape"
   ]
  },
  {
   "cell_type": "code",
   "execution_count": 727,
   "metadata": {},
   "outputs": [
    {
     "data": {
      "text/plain": [
       "56"
      ]
     },
     "execution_count": 727,
     "metadata": {},
     "output_type": "execute_result"
    }
   ],
   "source": [
    "df_temp6['dmaintain'].sum()"
   ]
  },
  {
   "cell_type": "markdown",
   "metadata": {},
   "source": [
    "### 7. Exclude collusion"
   ]
  },
  {
   "cell_type": "code",
   "execution_count": 728,
   "metadata": {},
   "outputs": [
    {
     "data": {
      "text/plain": [
       "5706"
      ]
     },
     "execution_count": 728,
     "metadata": {},
     "output_type": "execute_result"
    }
   ],
   "source": [
    "df_temp7 = df_temp6.loc[df_temp6['Collusion'] == 0]\n",
    "\n",
    "results1 = smf.ols('tenderRatio ~ LnCash + dnumfirm2', data=df_temp7).fit()\n",
    "results2 = smf.ols('tenderRatio ~ LnCash + dnumfirm2 + d2011 + d2012 + d2013 + d2014 + d2015 + d2016 + d2017 + d2018 + d2019 + d2020', data=df_temp7).fit()\n",
    "results3 = smf.ols('tenderRatio ~ LnCash + dnumfirm2 + d2011 + d2012 + d2013 + d2014 + d2015 + d2016 + d2017 + d2018 + d2019 + d2020 + d33 + d66', data=df_temp7).fit()\n",
    "results5 = smf.ols('tenderRatio ~ LnCash + dnumfirm2 + db2014 + db2017_b', data=df_temp7).fit()\n",
    "results6 = smf.ols('tenderRatio ~ LnCash + dnumfirm2 + d33 + d66 + db2014 + db2017_b', data=df_temp7).fit()\n",
    "\n",
    "\n",
    "\n",
    "stargazer_tab = Stargazer([results1, results2, results3, results5, results6])\n",
    "open('./V Final_1006/regression_184_점검_14년.html', 'w').write(stargazer_tab.render_html())  # for latex"
   ]
  },
  {
   "cell_type": "code",
   "execution_count": 729,
   "metadata": {},
   "outputs": [
    {
     "data": {
      "text/plain": [
       "56"
      ]
     },
     "execution_count": 729,
     "metadata": {},
     "output_type": "execute_result"
    }
   ],
   "source": [
    "df_temp6['dmaintain'].sum()"
   ]
  },
  {
   "cell_type": "code",
   "execution_count": 730,
   "metadata": {},
   "outputs": [],
   "source": [
    "fitted = pd.concat([df_xmatrix['tenderRatio'], results1.predict(df_xmatrix), results2.predict(df_xmatrix), results3.predict(df_xmatrix), \n",
    "                    results5.predict(df_xmatrix), results6.predict(df_xmatrix)], axis = 1)\n",
    "\n",
    "fitted.columns = ['tenderRatio','fitted1', 'fitted2', 'fitted3', 'fitted5', 'fitted6']\n",
    "\n",
    "fitted_final = fitted.copy()\n",
    "fitted_final['diff1'] = fitted['tenderRatio'] - fitted['fitted1'] \n",
    "fitted_final['diff2'] = fitted['tenderRatio'] - fitted['fitted2']\n",
    "fitted_final['diff3'] = fitted['tenderRatio'] - fitted['fitted3']\n",
    "fitted_final['diff5'] = fitted['tenderRatio'] - fitted['fitted5']\n",
    "fitted_final['diff6'] = fitted['tenderRatio'] - fitted['fitted6']\n",
    "\n",
    "\n",
    "fitted_final.to_csv('./V Final_1006/fitted_184_점검_14년.csv', index = False)"
   ]
  },
  {
   "cell_type": "code",
   "execution_count": null,
   "metadata": {},
   "outputs": [
    {
     "data": {
      "text/plain": [
       "Index(['낙찰율(예대)', 'Collusion', '기초금액', 'dnumfirm2', 'd2011', 'd2012', 'd2013',\n",
       "       'd2014', 'd2015', 'd2016', 'd2017', 'd2018', 'd2019', 'd2020', 'd33',\n",
       "       'd66', 'dmaintain', '공고번호', '공고명', 'tenderRatio', 'LnCash', 'db2013',\n",
       "       'db2014', 'db2017_a', 'db2017_b'],\n",
       "      dtype='object')"
      ]
     },
     "metadata": {},
     "output_type": "display_data"
    }
   ],
   "source": [
    "df_temp6.columns"
   ]
  },
  {
   "cell_type": "markdown",
   "metadata": {},
   "source": [
    "### ★ 공고명 각각 이름 몇 개 존재하는지 확인"
   ]
  },
  {
   "cell_type": "markdown",
   "metadata": {},
   "source": [
    "df_raw87 = df_temp6.loc[df_raw['공고명'].str.contains(\"지하수 기초조사\") | \n",
    "           df_temp6['공고명'].str.contains(\"시설 전수조사\") | \n",
    "           df_temp6['공고명'].str.contains(\"관측망\") | \n",
    "           df_temp6['공고명'].str.contains(\"정밀안전\") | \n",
    "           df_temp6['공고명'].str.contains(\"GIS\") |\n",
    "           df_temp6['공고명'].str.contains(\"내진\") |\n",
    "           df_temp6['공고명'].str.contains(\"사후환경\") |\n",
    "           df_temp6['공고명'].str.contains(\"기술진단\") | \n",
    "           df_temp6['공고명'].str.contains(\"시설안정화\") |\n",
    "           df_temp6['공고명'].str.contains(\"건설사업관리\") |\n",
    "           df_temp6['공고명'].str.contains(\"댐비상대처\") |\n",
    "           df_temp6['공고명'].str.contains(\"물 진단고도화\") |\n",
    "           df_temp6['공고명'].str.contains(\"환경영향평가\") |\n",
    "           df_temp6['공고명'].str.contains(\"관망정비 현장조사\") |\n",
    "           df_temp6['공고명'].str.contains(\"관로이설공사\") |\n",
    "           df_temp6['공고명'].str.contains(\"해양환경영향조사\") |\n",
    "           ((df_temp6['공고명'].str.contains(\"송산그린시티\")) & (~(df_temp6['공고명'].str.contains(\"설계\")))) |\n",
    "           df_temp6['공고명'].str.contains(\"시공감리\") |\n",
    "           df_temp6['점검정비'] == 1]\n",
    "\n",
    "df_raw2.to_csv(\"df_raw2.csv\", index = False, encoding='EUC-KR')"
   ]
  },
  {
   "cell_type": "code",
   "execution_count": null,
   "metadata": {},
   "outputs": [
    {
     "data": {
      "text/plain": [
       "(29, 9)"
      ]
     },
     "metadata": {},
     "output_type": "display_data"
    }
   ],
   "source": [
    "df_raw.loc[df_raw['공고명'].str.contains(\"송산그린시티\")].shape"
   ]
  },
  {
   "cell_type": "code",
   "execution_count": null,
   "metadata": {},
   "outputs": [
    {
     "data": {
      "text/plain": [
       "(13, 25)"
      ]
     },
     "metadata": {},
     "output_type": "display_data"
    }
   ],
   "source": [
    "df_temp6.loc[df_temp6['공고명'].str.contains(\"송산그린시티\")].shape"
   ]
  },
  {
   "cell_type": "code",
   "execution_count": null,
   "metadata": {},
   "outputs": [],
   "source": [
    "df_temp6.to_excel(\"df_temp6.xlsx\", index=False, encoding='EUC-KR')"
   ]
  },
  {
   "cell_type": "code",
   "execution_count": null,
   "metadata": {},
   "outputs": [],
   "source": [
    "# df_raw.loc[df_raw['공고명'].str.contains(\"지하수 기초조사\")| (df_raw['공고명'].str.contains(\"시설 전수조사\")) | (df_raw['공고명'].str.contains(\"관측망\"))].to_csv(\"키워드1.csv\", index=False, encoding='EUC-KR')\n",
    "# df_raw.loc[df_raw['공고명'].str.contains(\"기술진단\")].to_csv(\"키워드2.csv\", index=False, encoding='EUC-KR')\n",
    "# df_raw.loc[df_raw['공고명'].str.contains(\"관측망\")].to_csv(\"키워드3.csv\", index=False, encoding='EUC-KR')\n",
    "# df_raw.loc[df_raw['공고명'].str.contains(\"정밀안전\")].to_csv(\"키워드4.csv\", index=False, encoding='EUC-KR')\n",
    "# df_raw.loc[df_raw['공고명'].str.contains(\"GIS\")].to_csv(\"키워드5.csv\", index=False, encoding='EUC-KR')\n",
    "# df_raw.loc[df_raw['공고명'].str.contains(\"내진\")].to_csv(\"키워드5.csv\", index=False, encoding='EUC-KR')\n",
    "# df_raw.loc[df_raw['공고명'].str.contains(\"기술진단\")].to_csv(\"키워드7.csv\", index=False, encoding='EUC-KR')\n",
    "\n"
   ]
  },
  {
   "cell_type": "code",
   "execution_count": null,
   "metadata": {},
   "outputs": [],
   "source": []
  },
  {
   "cell_type": "code",
   "execution_count": null,
   "metadata": {},
   "outputs": [],
   "source": []
  },
  {
   "cell_type": "code",
   "execution_count": null,
   "metadata": {},
   "outputs": [],
   "source": []
  },
  {
   "cell_type": "code",
   "execution_count": null,
   "metadata": {},
   "outputs": [],
   "source": []
  },
  {
   "cell_type": "code",
   "execution_count": null,
   "metadata": {},
   "outputs": [],
   "source": []
  },
  {
   "cell_type": "code",
   "execution_count": null,
   "metadata": {},
   "outputs": [],
   "source": []
  },
  {
   "cell_type": "code",
   "execution_count": null,
   "metadata": {},
   "outputs": [],
   "source": []
  },
  {
   "cell_type": "code",
   "execution_count": null,
   "metadata": {},
   "outputs": [
    {
     "data": {
      "text/plain": [
       "(212, 25)"
      ]
     },
     "metadata": {},
     "output_type": "display_data"
    }
   ],
   "source": [
    "df_temp6.shape"
   ]
  },
  {
   "cell_type": "code",
   "execution_count": null,
   "metadata": {},
   "outputs": [
    {
     "data": {
      "text/html": [
       "<div>\n",
       "<style scoped>\n",
       "    .dataframe tbody tr th:only-of-type {\n",
       "        vertical-align: middle;\n",
       "    }\n",
       "\n",
       "    .dataframe tbody tr th {\n",
       "        vertical-align: top;\n",
       "    }\n",
       "\n",
       "    .dataframe thead th {\n",
       "        text-align: right;\n",
       "    }\n",
       "</style>\n",
       "<table border=\"1\" class=\"dataframe\">\n",
       "  <thead>\n",
       "    <tr style=\"text-align: right;\">\n",
       "      <th></th>\n",
       "      <th>낙찰율(예대)</th>\n",
       "      <th>Collusion</th>\n",
       "      <th>기초금액</th>\n",
       "      <th>dnumfirm2</th>\n",
       "      <th>d2011</th>\n",
       "      <th>d2012</th>\n",
       "      <th>d2013</th>\n",
       "      <th>d2014</th>\n",
       "      <th>d2015</th>\n",
       "      <th>d2016</th>\n",
       "      <th>d2017</th>\n",
       "      <th>d2018</th>\n",
       "      <th>d2019</th>\n",
       "      <th>d2020</th>\n",
       "      <th>d33</th>\n",
       "      <th>d66</th>\n",
       "      <th>dmaintain</th>\n",
       "      <th>공고번호</th>\n",
       "      <th>공고명</th>\n",
       "      <th>tenderRatio</th>\n",
       "      <th>LnCash</th>\n",
       "      <th>db2013</th>\n",
       "      <th>db2014</th>\n",
       "      <th>db2017_a</th>\n",
       "      <th>db2017_b</th>\n",
       "    </tr>\n",
       "  </thead>\n",
       "  <tbody>\n",
       "    <tr>\n",
       "      <th>2</th>\n",
       "      <td>0.77106</td>\n",
       "      <td>0</td>\n",
       "      <td>1514040000</td>\n",
       "      <td>3.00000</td>\n",
       "      <td>1</td>\n",
       "      <td>0</td>\n",
       "      <td>0</td>\n",
       "      <td>0</td>\n",
       "      <td>0</td>\n",
       "      <td>0</td>\n",
       "      <td>0</td>\n",
       "      <td>0</td>\n",
       "      <td>0</td>\n",
       "      <td>0</td>\n",
       "      <td>0</td>\n",
       "      <td>1</td>\n",
       "      <td>0</td>\n",
       "      <td>2010-1774</td>\n",
       "      <td>서울시 양재대로 수도권 2,3단계 관로이설공사 책임감리용역</td>\n",
       "      <td>77.10555</td>\n",
       "      <td>21.13805</td>\n",
       "      <td>1</td>\n",
       "      <td>1</td>\n",
       "      <td>0</td>\n",
       "      <td>0</td>\n",
       "    </tr>\n",
       "    <tr>\n",
       "      <th>8</th>\n",
       "      <td>0.76853</td>\n",
       "      <td>0</td>\n",
       "      <td>1429000000</td>\n",
       "      <td>2.00000</td>\n",
       "      <td>1</td>\n",
       "      <td>0</td>\n",
       "      <td>0</td>\n",
       "      <td>0</td>\n",
       "      <td>0</td>\n",
       "      <td>0</td>\n",
       "      <td>0</td>\n",
       "      <td>0</td>\n",
       "      <td>0</td>\n",
       "      <td>0</td>\n",
       "      <td>1</td>\n",
       "      <td>0</td>\n",
       "      <td>0</td>\n",
       "      <td>2011-0647</td>\n",
       "      <td>충남충북지역(2단계) 지하수시설 전수조사</td>\n",
       "      <td>76.85339</td>\n",
       "      <td>21.08024</td>\n",
       "      <td>1</td>\n",
       "      <td>1</td>\n",
       "      <td>0</td>\n",
       "      <td>0</td>\n",
       "    </tr>\n",
       "    <tr>\n",
       "      <th>9</th>\n",
       "      <td>0.74321</td>\n",
       "      <td>0</td>\n",
       "      <td>1346000000</td>\n",
       "      <td>2.00000</td>\n",
       "      <td>1</td>\n",
       "      <td>0</td>\n",
       "      <td>0</td>\n",
       "      <td>0</td>\n",
       "      <td>0</td>\n",
       "      <td>0</td>\n",
       "      <td>0</td>\n",
       "      <td>0</td>\n",
       "      <td>0</td>\n",
       "      <td>0</td>\n",
       "      <td>1</td>\n",
       "      <td>0</td>\n",
       "      <td>0</td>\n",
       "      <td>2011-0648</td>\n",
       "      <td>전남전북지역(2단계) 지하수시설 전수조사</td>\n",
       "      <td>74.32124</td>\n",
       "      <td>21.02040</td>\n",
       "      <td>1</td>\n",
       "      <td>1</td>\n",
       "      <td>0</td>\n",
       "      <td>0</td>\n",
       "    </tr>\n",
       "    <tr>\n",
       "      <th>13</th>\n",
       "      <td>0.81166</td>\n",
       "      <td>0</td>\n",
       "      <td>1140700000</td>\n",
       "      <td>2.00000</td>\n",
       "      <td>1</td>\n",
       "      <td>0</td>\n",
       "      <td>0</td>\n",
       "      <td>0</td>\n",
       "      <td>0</td>\n",
       "      <td>0</td>\n",
       "      <td>0</td>\n",
       "      <td>0</td>\n",
       "      <td>0</td>\n",
       "      <td>0</td>\n",
       "      <td>1</td>\n",
       "      <td>0</td>\n",
       "      <td>0</td>\n",
       "      <td>2011-1191</td>\n",
       "      <td>여천공업용수도 제3회 정밀안전진단용역</td>\n",
       "      <td>81.16553</td>\n",
       "      <td>20.85491</td>\n",
       "      <td>1</td>\n",
       "      <td>1</td>\n",
       "      <td>0</td>\n",
       "      <td>0</td>\n",
       "    </tr>\n",
       "    <tr>\n",
       "      <th>27</th>\n",
       "      <td>0.87130</td>\n",
       "      <td>1</td>\n",
       "      <td>13465052000</td>\n",
       "      <td>2.00000</td>\n",
       "      <td>1</td>\n",
       "      <td>0</td>\n",
       "      <td>0</td>\n",
       "      <td>0</td>\n",
       "      <td>0</td>\n",
       "      <td>0</td>\n",
       "      <td>0</td>\n",
       "      <td>0</td>\n",
       "      <td>0</td>\n",
       "      <td>0</td>\n",
       "      <td>0</td>\n",
       "      <td>0</td>\n",
       "      <td>1</td>\n",
       "      <td>2011-0000</td>\n",
       "      <td>XXX</td>\n",
       "      <td>87.13000</td>\n",
       "      <td>23.32336</td>\n",
       "      <td>1</td>\n",
       "      <td>1</td>\n",
       "      <td>0</td>\n",
       "      <td>0</td>\n",
       "    </tr>\n",
       "    <tr>\n",
       "      <th>...</th>\n",
       "      <td>...</td>\n",
       "      <td>...</td>\n",
       "      <td>...</td>\n",
       "      <td>...</td>\n",
       "      <td>...</td>\n",
       "      <td>...</td>\n",
       "      <td>...</td>\n",
       "      <td>...</td>\n",
       "      <td>...</td>\n",
       "      <td>...</td>\n",
       "      <td>...</td>\n",
       "      <td>...</td>\n",
       "      <td>...</td>\n",
       "      <td>...</td>\n",
       "      <td>...</td>\n",
       "      <td>...</td>\n",
       "      <td>...</td>\n",
       "      <td>...</td>\n",
       "      <td>...</td>\n",
       "      <td>...</td>\n",
       "      <td>...</td>\n",
       "      <td>...</td>\n",
       "      <td>...</td>\n",
       "      <td>...</td>\n",
       "      <td>...</td>\n",
       "    </tr>\n",
       "    <tr>\n",
       "      <th>284</th>\n",
       "      <td>0.77919</td>\n",
       "      <td>0</td>\n",
       "      <td>1248500000</td>\n",
       "      <td>2.00000</td>\n",
       "      <td>0</td>\n",
       "      <td>0</td>\n",
       "      <td>0</td>\n",
       "      <td>0</td>\n",
       "      <td>0</td>\n",
       "      <td>0</td>\n",
       "      <td>0</td>\n",
       "      <td>1</td>\n",
       "      <td>0</td>\n",
       "      <td>0</td>\n",
       "      <td>1</td>\n",
       "      <td>0</td>\n",
       "      <td>0</td>\n",
       "      <td>B5201800526</td>\n",
       "      <td>(재공고)댐 비상대처계획 재수립 용역 [제한][공가][PQ]</td>\n",
       "      <td>77.91850</td>\n",
       "      <td>20.94521</td>\n",
       "      <td>0</td>\n",
       "      <td>0</td>\n",
       "      <td>0</td>\n",
       "      <td>0</td>\n",
       "    </tr>\n",
       "    <tr>\n",
       "      <th>346</th>\n",
       "      <td>0.73002</td>\n",
       "      <td>0</td>\n",
       "      <td>1144800000</td>\n",
       "      <td>7.00000</td>\n",
       "      <td>0</td>\n",
       "      <td>0</td>\n",
       "      <td>0</td>\n",
       "      <td>0</td>\n",
       "      <td>0</td>\n",
       "      <td>0</td>\n",
       "      <td>0</td>\n",
       "      <td>0</td>\n",
       "      <td>1</td>\n",
       "      <td>0</td>\n",
       "      <td>1</td>\n",
       "      <td>0</td>\n",
       "      <td>0</td>\n",
       "      <td>B5201900988</td>\n",
       "      <td>양구지역 지하수 수량·수질 통합조사 [제한][공가][PQ]</td>\n",
       "      <td>73.00227</td>\n",
       "      <td>20.85850</td>\n",
       "      <td>0</td>\n",
       "      <td>0</td>\n",
       "      <td>0</td>\n",
       "      <td>0</td>\n",
       "    </tr>\n",
       "    <tr>\n",
       "      <th>351</th>\n",
       "      <td>0.75408</td>\n",
       "      <td>0</td>\n",
       "      <td>1564000000</td>\n",
       "      <td>2.00000</td>\n",
       "      <td>0</td>\n",
       "      <td>0</td>\n",
       "      <td>0</td>\n",
       "      <td>0</td>\n",
       "      <td>0</td>\n",
       "      <td>0</td>\n",
       "      <td>0</td>\n",
       "      <td>0</td>\n",
       "      <td>1</td>\n",
       "      <td>0</td>\n",
       "      <td>0</td>\n",
       "      <td>1</td>\n",
       "      <td>0</td>\n",
       "      <td>B5201901079</td>\n",
       "      <td>물 인프라 진단고도화 용역 [제한][공가][PQ]</td>\n",
       "      <td>75.40839</td>\n",
       "      <td>21.17051</td>\n",
       "      <td>0</td>\n",
       "      <td>0</td>\n",
       "      <td>0</td>\n",
       "      <td>0</td>\n",
       "    </tr>\n",
       "    <tr>\n",
       "      <th>359</th>\n",
       "      <td>0.73644</td>\n",
       "      <td>0</td>\n",
       "      <td>1900000000</td>\n",
       "      <td>3.00000</td>\n",
       "      <td>0</td>\n",
       "      <td>0</td>\n",
       "      <td>0</td>\n",
       "      <td>0</td>\n",
       "      <td>0</td>\n",
       "      <td>0</td>\n",
       "      <td>0</td>\n",
       "      <td>0</td>\n",
       "      <td>1</td>\n",
       "      <td>0</td>\n",
       "      <td>0</td>\n",
       "      <td>1</td>\n",
       "      <td>0</td>\n",
       "      <td>B5201901922</td>\n",
       "      <td>조력발전소 운영에 따른 해양물리변화 장기조사용역(2단계) [제한][공가]</td>\n",
       "      <td>73.64387</td>\n",
       "      <td>21.36512</td>\n",
       "      <td>0</td>\n",
       "      <td>0</td>\n",
       "      <td>0</td>\n",
       "      <td>0</td>\n",
       "    </tr>\n",
       "    <tr>\n",
       "      <th>448</th>\n",
       "      <td>0.73039</td>\n",
       "      <td>0</td>\n",
       "      <td>2446653000</td>\n",
       "      <td>4.00000</td>\n",
       "      <td>0</td>\n",
       "      <td>0</td>\n",
       "      <td>0</td>\n",
       "      <td>0</td>\n",
       "      <td>0</td>\n",
       "      <td>0</td>\n",
       "      <td>0</td>\n",
       "      <td>0</td>\n",
       "      <td>0</td>\n",
       "      <td>1</td>\n",
       "      <td>0</td>\n",
       "      <td>1</td>\n",
       "      <td>0</td>\n",
       "      <td>B5202002509</td>\n",
       "      <td>부산 에코델타시티 사업계획 관리용역 [공가][PQ]</td>\n",
       "      <td>73.03915</td>\n",
       "      <td>21.61799</td>\n",
       "      <td>0</td>\n",
       "      <td>0</td>\n",
       "      <td>0</td>\n",
       "      <td>0</td>\n",
       "    </tr>\n",
       "  </tbody>\n",
       "</table>\n",
       "<p>212 rows × 25 columns</p>\n",
       "</div>"
      ],
      "text/plain": [
       "     낙찰율(예대)  Collusion         기초금액  dnumfirm2  d2011  d2012  d2013  d2014  \\\n",
       "2    0.77106          0   1514040000    3.00000      1      0      0      0   \n",
       "8    0.76853          0   1429000000    2.00000      1      0      0      0   \n",
       "9    0.74321          0   1346000000    2.00000      1      0      0      0   \n",
       "13   0.81166          0   1140700000    2.00000      1      0      0      0   \n",
       "27   0.87130          1  13465052000    2.00000      1      0      0      0   \n",
       "..       ...        ...          ...        ...    ...    ...    ...    ...   \n",
       "284  0.77919          0   1248500000    2.00000      0      0      0      0   \n",
       "346  0.73002          0   1144800000    7.00000      0      0      0      0   \n",
       "351  0.75408          0   1564000000    2.00000      0      0      0      0   \n",
       "359  0.73644          0   1900000000    3.00000      0      0      0      0   \n",
       "448  0.73039          0   2446653000    4.00000      0      0      0      0   \n",
       "\n",
       "     d2015  d2016  d2017  d2018  d2019  d2020  d33  d66  dmaintain  \\\n",
       "2        0      0      0      0      0      0    0    1          0   \n",
       "8        0      0      0      0      0      0    1    0          0   \n",
       "9        0      0      0      0      0      0    1    0          0   \n",
       "13       0      0      0      0      0      0    1    0          0   \n",
       "27       0      0      0      0      0      0    0    0          1   \n",
       "..     ...    ...    ...    ...    ...    ...  ...  ...        ...   \n",
       "284      0      0      0      1      0      0    1    0          0   \n",
       "346      0      0      0      0      1      0    1    0          0   \n",
       "351      0      0      0      0      1      0    0    1          0   \n",
       "359      0      0      0      0      1      0    0    1          0   \n",
       "448      0      0      0      0      0      1    0    1          0   \n",
       "\n",
       "            공고번호                                       공고명  tenderRatio  \\\n",
       "2      2010-1774          서울시 양재대로 수도권 2,3단계 관로이설공사 책임감리용역     77.10555   \n",
       "8      2011-0647                    충남충북지역(2단계) 지하수시설 전수조사     76.85339   \n",
       "9      2011-0648                    전남전북지역(2단계) 지하수시설 전수조사     74.32124   \n",
       "13     2011-1191                      여천공업용수도 제3회 정밀안전진단용역     81.16553   \n",
       "27     2011-0000                                       XXX     87.13000   \n",
       "..           ...                                       ...          ...   \n",
       "284  B5201800526         (재공고)댐 비상대처계획 재수립 용역 [제한][공가][PQ]     77.91850   \n",
       "346  B5201900988          양구지역 지하수 수량·수질 통합조사 [제한][공가][PQ]     73.00227   \n",
       "351  B5201901079               물 인프라 진단고도화 용역 [제한][공가][PQ]     75.40839   \n",
       "359  B5201901922  조력발전소 운영에 따른 해양물리변화 장기조사용역(2단계) [제한][공가]     73.64387   \n",
       "448  B5202002509              부산 에코델타시티 사업계획 관리용역 [공가][PQ]     73.03915   \n",
       "\n",
       "      LnCash  db2013  db2014  db2017_a  db2017_b  \n",
       "2   21.13805       1       1         0         0  \n",
       "8   21.08024       1       1         0         0  \n",
       "9   21.02040       1       1         0         0  \n",
       "13  20.85491       1       1         0         0  \n",
       "27  23.32336       1       1         0         0  \n",
       "..       ...     ...     ...       ...       ...  \n",
       "284 20.94521       0       0         0         0  \n",
       "346 20.85850       0       0         0         0  \n",
       "351 21.17051       0       0         0         0  \n",
       "359 21.36512       0       0         0         0  \n",
       "448 21.61799       0       0         0         0  \n",
       "\n",
       "[212 rows x 25 columns]"
      ]
     },
     "metadata": {},
     "output_type": "display_data"
    }
   ],
   "source": [
    "asd = df_temp6.rename({'공고번호' : '입찰공고번호'})\n",
    "asd"
   ]
  },
  {
   "cell_type": "code",
   "execution_count": null,
   "metadata": {},
   "outputs": [
    {
     "data": {
      "text/html": [
       "<div>\n",
       "<style scoped>\n",
       "    .dataframe tbody tr th:only-of-type {\n",
       "        vertical-align: middle;\n",
       "    }\n",
       "\n",
       "    .dataframe tbody tr th {\n",
       "        vertical-align: top;\n",
       "    }\n",
       "\n",
       "    .dataframe thead th {\n",
       "        text-align: right;\n",
       "    }\n",
       "</style>\n",
       "<table border=\"1\" class=\"dataframe\">\n",
       "  <thead>\n",
       "    <tr style=\"text-align: right;\">\n",
       "      <th></th>\n",
       "      <th>tenderRatio</th>\n",
       "      <th>techScore</th>\n",
       "      <th>techGap</th>\n",
       "      <th>낙찰여부</th>\n",
       "      <th>largeBusiness</th>\n",
       "      <th>입찰공고번호</th>\n",
       "      <th>계약명</th>\n",
       "    </tr>\n",
       "  </thead>\n",
       "  <tbody>\n",
       "    <tr>\n",
       "      <th>0</th>\n",
       "      <td>77.10555</td>\n",
       "      <td>65.87700</td>\n",
       "      <td>0.00000</td>\n",
       "      <td>NaN</td>\n",
       "      <td>1</td>\n",
       "      <td>2010-1774</td>\n",
       "      <td>서울시 양재대로 수도권23단계 관로이설공사 책임감리용역</td>\n",
       "    </tr>\n",
       "    <tr>\n",
       "      <th>1</th>\n",
       "      <td>79.01877</td>\n",
       "      <td>65.14200</td>\n",
       "      <td>0.73500</td>\n",
       "      <td>낙찰</td>\n",
       "      <td>0</td>\n",
       "      <td>2010-1774</td>\n",
       "      <td>서울시 양재대로 수도권23단계 관로이설공사 책임감리용역</td>\n",
       "    </tr>\n",
       "    <tr>\n",
       "      <th>2</th>\n",
       "      <td>94.21973</td>\n",
       "      <td>63.68600</td>\n",
       "      <td>2.19100</td>\n",
       "      <td>NaN</td>\n",
       "      <td>1</td>\n",
       "      <td>2010-1774</td>\n",
       "      <td>서울시 양재대로 수도권23단계 관로이설공사 책임감리용역</td>\n",
       "    </tr>\n",
       "    <tr>\n",
       "      <th>3</th>\n",
       "      <td>75.03988</td>\n",
       "      <td>69.17100</td>\n",
       "      <td>0.00000</td>\n",
       "      <td>낙찰</td>\n",
       "      <td>0</td>\n",
       "      <td>2011-0107</td>\n",
       "      <td>시화MTV광역교통개선대책 서해안로 확장 및 교차로 입체화공사 책임감리 용역</td>\n",
       "    </tr>\n",
       "    <tr>\n",
       "      <th>4</th>\n",
       "      <td>75.19798</td>\n",
       "      <td>67.80600</td>\n",
       "      <td>1.36500</td>\n",
       "      <td>NaN</td>\n",
       "      <td>1</td>\n",
       "      <td>2011-0107</td>\n",
       "      <td>시화MTV광역교통개선대책 서해안로 확장 및 교차로 입체화공사 책임감리 용역</td>\n",
       "    </tr>\n",
       "  </tbody>\n",
       "</table>\n",
       "</div>"
      ],
      "text/plain": [
       "   tenderRatio  techScore  techGap 낙찰여부  largeBusiness     입찰공고번호  \\\n",
       "0     77.10555   65.87700  0.00000  NaN              1  2010-1774   \n",
       "1     79.01877   65.14200  0.73500   낙찰              0  2010-1774   \n",
       "2     94.21973   63.68600  2.19100  NaN              1  2010-1774   \n",
       "3     75.03988   69.17100  0.00000   낙찰              0  2011-0107   \n",
       "4     75.19798   67.80600  1.36500  NaN              1  2011-0107   \n",
       "\n",
       "                                         계약명  \n",
       "0             서울시 양재대로 수도권23단계 관로이설공사 책임감리용역  \n",
       "1             서울시 양재대로 수도권23단계 관로이설공사 책임감리용역  \n",
       "2             서울시 양재대로 수도권23단계 관로이설공사 책임감리용역  \n",
       "3  시화MTV광역교통개선대책 서해안로 확장 및 교차로 입체화공사 책임감리 용역  \n",
       "4  시화MTV광역교통개선대책 서해안로 확장 및 교차로 입체화공사 책임감리 용역  "
      ]
     },
     "metadata": {},
     "output_type": "display_data"
    }
   ],
   "source": [
    "dfReg = pd.read_excel(\"./교수님 전달 파일/회귀분석원자료.xlsx\")\n",
    "\n",
    "# temp1 : 연도별 더미 생성\n",
    "df_temp1 = dfReg[['tenderRatio','techScore','techGap','낙찰여부','largeBusiness','입찰공고번호','계약명']]\n",
    "df_temp1.head()\n"
   ]
  },
  {
   "cell_type": "code",
   "execution_count": null,
   "metadata": {},
   "outputs": [],
   "source": [
    "df_temp1 = df_temp1.loc[df_temp1['낙찰여부'] == '낙찰', ['tenderRatio', '입찰공고번호','계약명']]"
   ]
  },
  {
   "cell_type": "code",
   "execution_count": null,
   "metadata": {},
   "outputs": [
    {
     "data": {
      "text/plain": [
       "(45, 25)"
      ]
     },
     "metadata": {},
     "output_type": "display_data"
    }
   ],
   "source": [
    "df_temp6.loc[df_temp6['공고명'].str.contains('건설사업관리')].shape"
   ]
  },
  {
   "cell_type": "code",
   "execution_count": null,
   "metadata": {},
   "outputs": [
    {
     "data": {
      "text/html": [
       "<div>\n",
       "<style scoped>\n",
       "    .dataframe tbody tr th:only-of-type {\n",
       "        vertical-align: middle;\n",
       "    }\n",
       "\n",
       "    .dataframe tbody tr th {\n",
       "        vertical-align: top;\n",
       "    }\n",
       "\n",
       "    .dataframe thead th {\n",
       "        text-align: right;\n",
       "    }\n",
       "</style>\n",
       "<table border=\"1\" class=\"dataframe\">\n",
       "  <thead>\n",
       "    <tr style=\"text-align: right;\">\n",
       "      <th></th>\n",
       "      <th>tenderRatio</th>\n",
       "      <th>입찰공고번호</th>\n",
       "      <th>계약명</th>\n",
       "    </tr>\n",
       "  </thead>\n",
       "  <tbody>\n",
       "    <tr>\n",
       "      <th>31</th>\n",
       "      <td>75.54585</td>\n",
       "      <td>2012-0977</td>\n",
       "      <td>시화2단계(송산그린시티) 동서진입도로 건설공사 시공감리 용역</td>\n",
       "    </tr>\n",
       "    <tr>\n",
       "      <th>37</th>\n",
       "      <td>75.14430</td>\n",
       "      <td>2012-0978</td>\n",
       "      <td>시화2단계(송산그린시티) 국도77호선 건설공사 시공감리 용역</td>\n",
       "    </tr>\n",
       "    <tr>\n",
       "      <th>49</th>\n",
       "      <td>76.11295</td>\n",
       "      <td>2012-1551</td>\n",
       "      <td>포천복합화력 용수공급사업 송수시설공사 시공감리용역</td>\n",
       "    </tr>\n",
       "    <tr>\n",
       "      <th>52</th>\n",
       "      <td>75.46143</td>\n",
       "      <td>2012-1970</td>\n",
       "      <td>위례신도시 광역상수도56단계 관로이설공사 시공감리용역</td>\n",
       "    </tr>\n",
       "    <tr>\n",
       "      <th>108</th>\n",
       "      <td>77.01445</td>\n",
       "      <td>2013-2386</td>\n",
       "      <td>금강광역상수도 노후관 갱생공사 시공감리 용역</td>\n",
       "    </tr>\n",
       "  </tbody>\n",
       "</table>\n",
       "</div>"
      ],
      "text/plain": [
       "     tenderRatio     입찰공고번호                                계약명\n",
       "31      75.54585  2012-0977  시화2단계(송산그린시티) 동서진입도로 건설공사 시공감리 용역\n",
       "37      75.14430  2012-0978  시화2단계(송산그린시티) 국도77호선 건설공사 시공감리 용역\n",
       "49      76.11295  2012-1551        포천복합화력 용수공급사업 송수시설공사 시공감리용역\n",
       "52      75.46143  2012-1970      위례신도시 광역상수도56단계 관로이설공사 시공감리용역\n",
       "108     77.01445  2013-2386           금강광역상수도 노후관 갱생공사 시공감리 용역"
      ]
     },
     "metadata": {},
     "output_type": "display_data"
    }
   ],
   "source": [
    "df_temp1.loc[df_temp1['계약명'].str.contains(\"시공감리\")]"
   ]
  },
  {
   "cell_type": "code",
   "execution_count": null,
   "metadata": {},
   "outputs": [
    {
     "data": {
      "text/html": [
       "<div>\n",
       "<style scoped>\n",
       "    .dataframe tbody tr th:only-of-type {\n",
       "        vertical-align: middle;\n",
       "    }\n",
       "\n",
       "    .dataframe tbody tr th {\n",
       "        vertical-align: top;\n",
       "    }\n",
       "\n",
       "    .dataframe thead th {\n",
       "        text-align: right;\n",
       "    }\n",
       "</style>\n",
       "<table border=\"1\" class=\"dataframe\">\n",
       "  <thead>\n",
       "    <tr style=\"text-align: right;\">\n",
       "      <th></th>\n",
       "      <th>tenderRatio</th>\n",
       "      <th>입찰공고번호</th>\n",
       "      <th>계약명</th>\n",
       "    </tr>\n",
       "  </thead>\n",
       "  <tbody>\n",
       "    <tr>\n",
       "      <th>31</th>\n",
       "      <td>75.54585</td>\n",
       "      <td>2012-0977</td>\n",
       "      <td>시화2단계(송산그린시티) 동서진입도로 건설공사 시공감리 용역</td>\n",
       "    </tr>\n",
       "    <tr>\n",
       "      <th>37</th>\n",
       "      <td>75.14430</td>\n",
       "      <td>2012-0978</td>\n",
       "      <td>시화2단계(송산그린시티) 국도77호선 건설공사 시공감리 용역</td>\n",
       "    </tr>\n",
       "    <tr>\n",
       "      <th>65</th>\n",
       "      <td>78.66110</td>\n",
       "      <td>2013-0185</td>\n",
       "      <td>송산그린시티 개발계획 및 지구단위계획 변경용역</td>\n",
       "    </tr>\n",
       "    <tr>\n",
       "      <th>130</th>\n",
       "      <td>73.45081</td>\n",
       "      <td>2016-3304</td>\n",
       "      <td>송산그린시티 동측지구 도로 및 지하매설물 GIS DB 구축용역</td>\n",
       "    </tr>\n",
       "    <tr>\n",
       "      <th>160</th>\n",
       "      <td>73.01883</td>\n",
       "      <td>2016-4883</td>\n",
       "      <td>송산그린시티 반입토사 건설사업관리용역</td>\n",
       "    </tr>\n",
       "  </tbody>\n",
       "</table>\n",
       "</div>"
      ],
      "text/plain": [
       "     tenderRatio     입찰공고번호                                 계약명\n",
       "31      75.54585  2012-0977   시화2단계(송산그린시티) 동서진입도로 건설공사 시공감리 용역\n",
       "37      75.14430  2012-0978   시화2단계(송산그린시티) 국도77호선 건설공사 시공감리 용역\n",
       "65      78.66110  2013-0185           송산그린시티 개발계획 및 지구단위계획 변경용역\n",
       "130     73.45081  2016-3304  송산그린시티 동측지구 도로 및 지하매설물 GIS DB 구축용역\n",
       "160     73.01883  2016-4883                송산그린시티 반입토사 건설사업관리용역"
      ]
     },
     "metadata": {},
     "output_type": "display_data"
    }
   ],
   "source": [
    "df_temp1.loc[((df_temp1['계약명'].str.contains(\"송산그린시티\")) & (~(df_temp1['계약명'].str.contains(\"설계\"))))]"
   ]
  },
  {
   "cell_type": "code",
   "execution_count": null,
   "metadata": {},
   "outputs": [
    {
     "data": {
      "text/html": [
       "<div>\n",
       "<style scoped>\n",
       "    .dataframe tbody tr th:only-of-type {\n",
       "        vertical-align: middle;\n",
       "    }\n",
       "\n",
       "    .dataframe tbody tr th {\n",
       "        vertical-align: top;\n",
       "    }\n",
       "\n",
       "    .dataframe thead th {\n",
       "        text-align: right;\n",
       "    }\n",
       "</style>\n",
       "<table border=\"1\" class=\"dataframe\">\n",
       "  <thead>\n",
       "    <tr style=\"text-align: right;\">\n",
       "      <th></th>\n",
       "      <th>tenderRatio</th>\n",
       "      <th>입찰공고번호</th>\n",
       "      <th>계약명</th>\n",
       "    </tr>\n",
       "  </thead>\n",
       "  <tbody>\n",
       "    <tr>\n",
       "      <th>31</th>\n",
       "      <td>75.54585</td>\n",
       "      <td>2012-0977</td>\n",
       "      <td>시화2단계(송산그린시티) 동서진입도로 건설공사 시공감리 용역</td>\n",
       "    </tr>\n",
       "    <tr>\n",
       "      <th>37</th>\n",
       "      <td>75.14430</td>\n",
       "      <td>2012-0978</td>\n",
       "      <td>시화2단계(송산그린시티) 국도77호선 건설공사 시공감리 용역</td>\n",
       "    </tr>\n",
       "    <tr>\n",
       "      <th>65</th>\n",
       "      <td>78.66110</td>\n",
       "      <td>2013-0185</td>\n",
       "      <td>송산그린시티 개발계획 및 지구단위계획 변경용역</td>\n",
       "    </tr>\n",
       "    <tr>\n",
       "      <th>130</th>\n",
       "      <td>73.45081</td>\n",
       "      <td>2016-3304</td>\n",
       "      <td>송산그린시티 동측지구 도로 및 지하매설물 GIS DB 구축용역</td>\n",
       "    </tr>\n",
       "    <tr>\n",
       "      <th>160</th>\n",
       "      <td>73.01883</td>\n",
       "      <td>2016-4883</td>\n",
       "      <td>송산그린시티 반입토사 건설사업관리용역</td>\n",
       "    </tr>\n",
       "  </tbody>\n",
       "</table>\n",
       "</div>"
      ],
      "text/plain": [
       "     tenderRatio     입찰공고번호                                 계약명\n",
       "31      75.54585  2012-0977   시화2단계(송산그린시티) 동서진입도로 건설공사 시공감리 용역\n",
       "37      75.14430  2012-0978   시화2단계(송산그린시티) 국도77호선 건설공사 시공감리 용역\n",
       "65      78.66110  2013-0185           송산그린시티 개발계획 및 지구단위계획 변경용역\n",
       "130     73.45081  2016-3304  송산그린시티 동측지구 도로 및 지하매설물 GIS DB 구축용역\n",
       "160     73.01883  2016-4883                송산그린시티 반입토사 건설사업관리용역"
      ]
     },
     "metadata": {},
     "output_type": "display_data"
    }
   ],
   "source": [
    "df_temp1.loc[(df_temp1['계약명'].str.contains(\"송산그린시티\"))]"
   ]
  },
  {
   "cell_type": "code",
   "execution_count": null,
   "metadata": {},
   "outputs": [],
   "source": [
    "# df_temp1.to_csv(\"df_temp1.csv\", index = False, encoding='EUC-KR')"
   ]
  },
  {
   "cell_type": "code",
   "execution_count": null,
   "metadata": {},
   "outputs": [
    {
     "data": {
      "text/plain": [
       "Index(['낙찰율(예대)', 'Collusion', '기초금액', 'dnumfirm2', 'd2011', 'd2012', 'd2013',\n",
       "       'd2014', 'd2015', 'd2016', 'd2017', 'd2018', 'd2019', 'd2020', 'd33',\n",
       "       'd66', 'dmaintain', '공고번호', '공고명', 'tenderRatio', 'LnCash', 'db2013',\n",
       "       'db2014', 'db2017_a', 'db2017_b'],\n",
       "      dtype='object')"
      ]
     },
     "metadata": {},
     "output_type": "display_data"
    }
   ],
   "source": [
    "df_temp6.columns"
   ]
  },
  {
   "cell_type": "code",
   "execution_count": null,
   "metadata": {},
   "outputs": [
    {
     "data": {
      "text/plain": [
       "(80, 26)"
      ]
     },
     "metadata": {},
     "output_type": "display_data"
    }
   ],
   "source": [
    "df_tempplot  = df_temp6.copy()\n",
    "df_tempplot['감정인사용'] = 0\n",
    "df_tempplot.loc[(df_temp6['dmaintain'] == 0 ) & (df_temp6['Collusion'] == 0) & (df_tempplot['공고번호'].isin(df_temp1['입찰공고번호'])), '감정인사용'] = 1\n",
    "df_tempplot.loc[(df_temp6['dmaintain'] == 0 ) & (df_temp6['Collusion'] == 0) & (~df_tempplot['공고번호'].isin(df_temp1['입찰공고번호'])), '감정인사용'] = 2\n",
    "df_tempplot.loc[df_tempplot['감정인사용'] == 2].shape"
   ]
  },
  {
   "cell_type": "code",
   "execution_count": null,
   "metadata": {},
   "outputs": [
    {
     "data": {
      "text/plain": [
       "(28, 26)"
      ]
     },
     "metadata": {},
     "output_type": "display_data"
    }
   ],
   "source": [
    "df_tempplot.loc[(df_tempplot['감정인사용'] == 0) & (df_tempplot['Collusion'] == 1)]"
   ]
  },
  {
   "cell_type": "code",
   "execution_count": null,
   "metadata": {},
   "outputs": [
    {
     "data": {
      "text/plain": [
       "((76, 26), (80, 26), (28, 26), (28, 26))"
      ]
     },
     "metadata": {},
     "output_type": "display_data"
    }
   ],
   "source": [
    "in76 = df_tempplot.loc[((df_tempplot['Collusion']==0) & (df_tempplot['dmaintain']==0) & (df_tempplot['감정인사용']==1))]\n",
    "in80 = df_tempplot.loc[((df_tempplot['Collusion']==0) & (df_tempplot['dmaintain']==0) & (df_tempplot['감정인사용']==2))]\n",
    "main = df_tempplot.loc[(df_tempplot['Collusion']==0) & (df_tempplot['dmaintain']==1)]\n",
    "coll = df_tempplot.loc[df_tempplot['Collusion'] == 1]\n",
    "\n",
    "in76.shape, in80.shape, main.shape, coll.shape"
   ]
  },
  {
   "cell_type": "code",
   "execution_count": null,
   "metadata": {},
   "outputs": [
    {
     "data": {
      "text/plain": [
       "78.36902247424841"
      ]
     },
     "metadata": {},
     "output_type": "display_data"
    }
   ],
   "source": [
    "np.mean(in80['tenderRatio'])"
   ]
  },
  {
   "cell_type": "code",
   "execution_count": null,
   "metadata": {},
   "outputs": [
    {
     "data": {
      "text/plain": [
       "75.87517400799688"
      ]
     },
     "metadata": {},
     "output_type": "display_data"
    }
   ],
   "source": [
    "np.mean(in76['tenderRatio'])"
   ]
  },
  {
   "cell_type": "code",
   "execution_count": null,
   "metadata": {},
   "outputs": [
    {
     "data": {
      "text/plain": [
       "(56,)"
      ]
     },
     "metadata": {},
     "output_type": "display_data"
    }
   ],
   "source": [
    "df_tempplot.loc[~((df_tempplot['Collusion']==0) & (df_tempplot['dmaintain']==0)), 'tenderRatio'].shape"
   ]
  },
  {
   "cell_type": "code",
   "execution_count": null,
   "metadata": {},
   "outputs": [
    {
     "data": {
      "text/plain": [
       "78.84663023481616"
      ]
     },
     "metadata": {},
     "output_type": "display_data"
    }
   ],
   "source": [
    "np.mean(df_tempplot['tenderRatio'])"
   ]
  },
  {
   "cell_type": "code",
   "execution_count": null,
   "metadata": {},
   "outputs": [
    {
     "data": {
      "text/plain": [
       "78.06081564621877"
      ]
     },
     "metadata": {},
     "output_type": "display_data"
    }
   ],
   "source": [
    "np.mean(df_tempplot.loc[((df_tempplot['Collusion']==0) & (df_tempplot['dmaintain']==0)) | ((df_tempplot['Collusion']==0) & (df_tempplot['dmaintain']==1)), 'tenderRatio'])"
   ]
  },
  {
   "cell_type": "code",
   "execution_count": null,
   "metadata": {},
   "outputs": [
    {
     "data": {
      "text/plain": [
       "78.19744865991527"
      ]
     },
     "metadata": {},
     "output_type": "display_data"
    }
   ],
   "source": [
    "np.mean(df_tempplot.loc[((df_tempplot['Collusion']==0) & (df_tempplot['dmaintain']==0)) | ((df_tempplot['Collusion']==1) & (df_tempplot['dmaintain']==1)), 'tenderRatio'])"
   ]
  },
  {
   "cell_type": "code",
   "execution_count": null,
   "metadata": {},
   "outputs": [
    {
     "data": {
      "text/plain": [
       "(184,)"
      ]
     },
     "metadata": {},
     "output_type": "display_data"
    }
   ],
   "source": [
    "df_tempplot.loc[((df_tempplot['Collusion']==0) & (df_tempplot['dmaintain']==0)) | ((df_tempplot['Collusion']==1) & (df_tempplot['dmaintain']==1)), 'tenderRatio'].shape"
   ]
  },
  {
   "cell_type": "code",
   "execution_count": null,
   "metadata": {},
   "outputs": [
    {
     "data": {
      "text/plain": [
       "(28, 26)"
      ]
     },
     "metadata": {},
     "output_type": "display_data"
    }
   ],
   "source": [
    "df_tempplot.loc[(df_tempplot['Collusion'] == 0) & (df_tempplot['dmaintain']==1)].shape"
   ]
  },
  {
   "cell_type": "code",
   "execution_count": null,
   "metadata": {},
   "outputs": [
    {
     "data": {
      "text/plain": [
       "77.15407065735664"
      ]
     },
     "metadata": {},
     "output_type": "display_data"
    }
   ],
   "source": [
    "np.mean(df_tempplot.loc[((df_tempplot['Collusion']==0) & (df_tempplot['dmaintain']==0)), 'tenderRatio'])"
   ]
  },
  {
   "cell_type": "code",
   "execution_count": null,
   "metadata": {},
   "outputs": [
    {
     "data": {
      "text/plain": [
       "Index(['낙찰율(예대)', 'Collusion', '기초금액', 'dnumfirm2', 'd2011', 'd2012', 'd2013',\n",
       "       'd2014', 'd2015', 'd2016', 'd2017', 'd2018', 'd2019', 'd2020', 'd33',\n",
       "       'd66', 'dmaintain', '공고번호', '공고명', 'tenderRatio', 'LnCash', 'db2013',\n",
       "       'db2014', 'db2017_a', 'db2017_b', '감정인사용'],\n",
       "      dtype='object')"
      ]
     },
     "metadata": {},
     "output_type": "display_data"
    }
   ],
   "source": [
    "\"\"\" tech score 의 경우 156개 중 67개 만 존재하고 나머지 존재하지 X 도출 불가 \"\"\"\n",
    "df_tempplot.columns"
   ]
  },
  {
   "cell_type": "code",
   "execution_count": null,
   "metadata": {},
   "outputs": [
    {
     "data": {
      "text/plain": [
       "Text(0, 0.5, '로그기초금액')"
      ]
     },
     "metadata": {},
     "output_type": "display_data"
    },
    {
     "data": {
      "image/png": "[encoded data removed]",
      "text/plain": [
       "<Figure size 432x288 with 1 Axes>"
      ]
     },
     "metadata": {},
     "output_type": "display_data"
    }
   ],
   "source": [
    "import matplotlib.pyplot as plt\n",
    "\n",
    "plt.plot('tenderRatio', 'LnCash', 'o' ,data=in76, label = 'In 76')\n",
    "plt.plot('tenderRatio', 'LnCash', 'o' ,data=in80, label = 'In 80')\n",
    "plt.plot('tenderRatio', 'LnCash', 'or' ,data=main, label = '점검정비(담합X)')\n",
    "plt.plot('tenderRatio', 'LnCash', 'og', data=coll, label = '담합')\n",
    "plt.legend(loc = 'upper right', bbox_to_anchor=(1.374, 1))\n",
    "plt.xlabel('투찰율')\n",
    "plt.ylabel(\"로그기초금액\")"
   ]
  },
  {
   "cell_type": "code",
   "execution_count": null,
   "metadata": {},
   "outputs": [],
   "source": []
  },
  {
   "cell_type": "code",
   "execution_count": null,
   "metadata": {},
   "outputs": [
    {
     "data": {
      "text/plain": [
       "(76, 3)"
      ]
     },
     "metadata": {},
     "output_type": "display_data"
    }
   ],
   "source": [
    "df_156 = df_temp6.loc[(df_temp6['dmaintain'] == 0 ) & (df_temp6['Collusion'] == 0)]\n",
    "df_156.shape # 156\n",
    "df_temp1.shape # 76"
   ]
  },
  {
   "cell_type": "code",
   "execution_count": null,
   "metadata": {},
   "outputs": [],
   "source": []
  },
  {
   "cell_type": "code",
   "execution_count": null,
   "metadata": {},
   "outputs": [],
   "source": []
  },
  {
   "cell_type": "code",
   "execution_count": null,
   "metadata": {},
   "outputs": [],
   "source": []
  },
  {
   "cell_type": "code",
   "execution_count": null,
   "metadata": {},
   "outputs": [],
   "source": []
  },
  {
   "cell_type": "code",
   "execution_count": null,
   "metadata": {},
   "outputs": [],
   "source": []
  },
  {
   "cell_type": "code",
   "execution_count": null,
   "metadata": {},
   "outputs": [
    {
     "data": {
      "text/plain": [
       "(80, 25)"
      ]
     },
     "metadata": {},
     "output_type": "display_data"
    }
   ],
   "source": [
    "df_80 = df_156.loc[~df_156['공고번호'].isin(df_temp1['입찰공고번호'])]\n",
    "df_80.shape"
   ]
  },
  {
   "cell_type": "code",
   "execution_count": null,
   "metadata": {},
   "outputs": [],
   "source": [
    "qq= asd.loc[~asd['공고번호'].isin(df_temp1['입찰공고번호'])]"
   ]
  },
  {
   "cell_type": "code",
   "execution_count": null,
   "metadata": {},
   "outputs": [
    {
     "data": {
      "text/plain": [
       "80.50714989097985"
      ]
     },
     "metadata": {},
     "output_type": "display_data"
    }
   ],
   "source": [
    "np.mean(qq['tenderRatio'])"
   ]
  },
  {
   "cell_type": "code",
   "execution_count": null,
   "metadata": {},
   "outputs": [
    {
     "data": {
      "text/plain": [
       "0"
      ]
     },
     "metadata": {},
     "output_type": "display_data"
    }
   ],
   "source": [
    "(~df_temp1['입찰공고번호'].isin(asd['공고번호'])).sum()"
   ]
  },
  {
   "cell_type": "code",
   "execution_count": null,
   "metadata": {},
   "outputs": [
    {
     "data": {
      "text/html": [
       "<div>\n",
       "<style scoped>\n",
       "    .dataframe tbody tr th:only-of-type {\n",
       "        vertical-align: middle;\n",
       "    }\n",
       "\n",
       "    .dataframe tbody tr th {\n",
       "        vertical-align: top;\n",
       "    }\n",
       "\n",
       "    .dataframe thead th {\n",
       "        text-align: right;\n",
       "    }\n",
       "</style>\n",
       "<table border=\"1\" class=\"dataframe\">\n",
       "  <thead>\n",
       "    <tr style=\"text-align: right;\">\n",
       "      <th></th>\n",
       "      <th>tenderRatio</th>\n",
       "      <th>입찰공고번호</th>\n",
       "    </tr>\n",
       "  </thead>\n",
       "  <tbody>\n",
       "  </tbody>\n",
       "</table>\n",
       "</div>"
      ],
      "text/plain": [
       "Empty DataFrame\n",
       "Columns: [tenderRatio, 입찰공고번호]\n",
       "Index: []"
      ]
     },
     "metadata": {},
     "output_type": "display_data"
    }
   ],
   "source": [
    "df_temp1.loc[~df_temp1['입찰공고번호'].isin(asd['공고번호'])]"
   ]
  },
  {
   "cell_type": "code",
   "execution_count": null,
   "metadata": {},
   "outputs": [
    {
     "data": {
      "text/html": [
       "<div>\n",
       "<style scoped>\n",
       "    .dataframe tbody tr th:only-of-type {\n",
       "        vertical-align: middle;\n",
       "    }\n",
       "\n",
       "    .dataframe tbody tr th {\n",
       "        vertical-align: top;\n",
       "    }\n",
       "\n",
       "    .dataframe thead th {\n",
       "        text-align: right;\n",
       "    }\n",
       "</style>\n",
       "<table border=\"1\" class=\"dataframe\">\n",
       "  <thead>\n",
       "    <tr style=\"text-align: right;\">\n",
       "      <th></th>\n",
       "      <th>낙찰율(예대)</th>\n",
       "      <th>Collusion</th>\n",
       "      <th>기초금액</th>\n",
       "      <th>dnumfirm2</th>\n",
       "      <th>d2011</th>\n",
       "      <th>d2012</th>\n",
       "      <th>d2013</th>\n",
       "      <th>d2014</th>\n",
       "      <th>d2015</th>\n",
       "      <th>d2016</th>\n",
       "      <th>d2017</th>\n",
       "      <th>d2018</th>\n",
       "      <th>d2019</th>\n",
       "      <th>d2020</th>\n",
       "      <th>d33</th>\n",
       "      <th>d66</th>\n",
       "      <th>dmaintain</th>\n",
       "      <th>공고번호</th>\n",
       "      <th>tenderRatio</th>\n",
       "      <th>LnCash</th>\n",
       "      <th>db2013</th>\n",
       "      <th>db2014</th>\n",
       "      <th>db2017_a</th>\n",
       "      <th>db2017_b</th>\n",
       "    </tr>\n",
       "  </thead>\n",
       "  <tbody>\n",
       "    <tr>\n",
       "      <th>88</th>\n",
       "      <td>0.74407</td>\n",
       "      <td>0</td>\n",
       "      <td>1364000000</td>\n",
       "      <td>5.00000</td>\n",
       "      <td>0</td>\n",
       "      <td>0</td>\n",
       "      <td>1</td>\n",
       "      <td>0</td>\n",
       "      <td>0</td>\n",
       "      <td>0</td>\n",
       "      <td>0</td>\n",
       "      <td>0</td>\n",
       "      <td>0</td>\n",
       "      <td>0</td>\n",
       "      <td>1</td>\n",
       "      <td>0</td>\n",
       "      <td>0</td>\n",
       "      <td>2013-0559</td>\n",
       "      <td>74.40734</td>\n",
       "      <td>21.03369</td>\n",
       "      <td>1</td>\n",
       "      <td>1</td>\n",
       "      <td>0</td>\n",
       "      <td>0</td>\n",
       "    </tr>\n",
       "  </tbody>\n",
       "</table>\n",
       "</div>"
      ],
      "text/plain": [
       "    낙찰율(예대)  Collusion        기초금액  dnumfirm2  d2011  d2012  d2013  d2014  \\\n",
       "88  0.74407          0  1364000000    5.00000      0      0      1      0   \n",
       "\n",
       "    d2015  d2016  d2017  d2018  d2019  d2020  d33  d66  dmaintain       공고번호  \\\n",
       "88      0      0      0      0      0      0    1    0          0  2013-0559   \n",
       "\n",
       "    tenderRatio   LnCash  db2013  db2014  db2017_a  db2017_b  \n",
       "88     74.40734 21.03369       1       1         0         0  "
      ]
     },
     "metadata": {},
     "output_type": "display_data"
    }
   ],
   "source": [
    "asd.loc[asd['공고번호'].str.contains('2013-0559')]"
   ]
  },
  {
   "cell_type": "code",
   "execution_count": null,
   "metadata": {},
   "outputs": [
    {
     "data": {
      "text/html": [
       "<div>\n",
       "<style scoped>\n",
       "    .dataframe tbody tr th:only-of-type {\n",
       "        vertical-align: middle;\n",
       "    }\n",
       "\n",
       "    .dataframe tbody tr th {\n",
       "        vertical-align: top;\n",
       "    }\n",
       "\n",
       "    .dataframe thead th {\n",
       "        text-align: right;\n",
       "    }\n",
       "</style>\n",
       "<table border=\"1\" class=\"dataframe\">\n",
       "  <thead>\n",
       "    <tr style=\"text-align: right;\">\n",
       "      <th></th>\n",
       "      <th>tenderRatio</th>\n",
       "      <th>입찰공고번호</th>\n",
       "    </tr>\n",
       "  </thead>\n",
       "  <tbody>\n",
       "  </tbody>\n",
       "</table>\n",
       "</div>"
      ],
      "text/plain": [
       "Empty DataFrame\n",
       "Columns: [tenderRatio, 입찰공고번호]\n",
       "Index: []"
      ]
     },
     "metadata": {},
     "output_type": "display_data"
    }
   ],
   "source": [
    "df_temp1.loc[df_temp1['입찰공고번호'] == '2013-0559']"
   ]
  },
  {
   "cell_type": "code",
   "execution_count": null,
   "metadata": {},
   "outputs": [
    {
     "data": {
      "text/html": [
       "<div>\n",
       "<style scoped>\n",
       "    .dataframe tbody tr th:only-of-type {\n",
       "        vertical-align: middle;\n",
       "    }\n",
       "\n",
       "    .dataframe tbody tr th {\n",
       "        vertical-align: top;\n",
       "    }\n",
       "\n",
       "    .dataframe thead th {\n",
       "        text-align: right;\n",
       "    }\n",
       "</style>\n",
       "<table border=\"1\" class=\"dataframe\">\n",
       "  <thead>\n",
       "    <tr style=\"text-align: right;\">\n",
       "      <th></th>\n",
       "      <th>낙찰율(예대)</th>\n",
       "      <th>Collusion</th>\n",
       "      <th>기초금액</th>\n",
       "      <th>dnumfirm2</th>\n",
       "      <th>d2011</th>\n",
       "      <th>d2012</th>\n",
       "      <th>d2013</th>\n",
       "      <th>d2014</th>\n",
       "      <th>d2015</th>\n",
       "      <th>d2016</th>\n",
       "      <th>d2017</th>\n",
       "      <th>d2018</th>\n",
       "      <th>d2019</th>\n",
       "      <th>d2020</th>\n",
       "      <th>d33</th>\n",
       "      <th>d66</th>\n",
       "      <th>dmaintain</th>\n",
       "      <th>공고번호</th>\n",
       "      <th>tenderRatio</th>\n",
       "      <th>LnCash</th>\n",
       "      <th>db2013</th>\n",
       "      <th>db2014</th>\n",
       "      <th>db2017_a</th>\n",
       "      <th>db2017_b</th>\n",
       "    </tr>\n",
       "  </thead>\n",
       "  <tbody>\n",
       "  </tbody>\n",
       "</table>\n",
       "</div>"
      ],
      "text/plain": [
       "Empty DataFrame\n",
       "Columns: [낙찰율(예대), Collusion, 기초금액, dnumfirm2, d2011, d2012, d2013, d2014, d2015, d2016, d2017, d2018, d2019, d2020, d33, d66, dmaintain, 공고번호, tenderRatio, LnCash, db2013, db2014, db2017_a, db2017_b]\n",
       "Index: []"
      ]
     },
     "metadata": {},
     "output_type": "display_data"
    }
   ],
   "source": [
    "asd.loc[asd['공고번호'] == '2011-0107']"
   ]
  },
  {
   "cell_type": "code",
   "execution_count": null,
   "metadata": {},
   "outputs": [
    {
     "data": {
      "text/html": [
       "<div>\n",
       "<style scoped>\n",
       "    .dataframe tbody tr th:only-of-type {\n",
       "        vertical-align: middle;\n",
       "    }\n",
       "\n",
       "    .dataframe tbody tr th {\n",
       "        vertical-align: top;\n",
       "    }\n",
       "\n",
       "    .dataframe thead th {\n",
       "        text-align: right;\n",
       "    }\n",
       "</style>\n",
       "<table border=\"1\" class=\"dataframe\">\n",
       "  <thead>\n",
       "    <tr style=\"text-align: right;\">\n",
       "      <th></th>\n",
       "      <th>낙찰율(예대)</th>\n",
       "      <th>Collusion</th>\n",
       "      <th>기초금액</th>\n",
       "      <th>dnumfirm2</th>\n",
       "      <th>d2011</th>\n",
       "      <th>d2012</th>\n",
       "      <th>d2013</th>\n",
       "      <th>d2014</th>\n",
       "      <th>d2015</th>\n",
       "      <th>d2016</th>\n",
       "      <th>d2017</th>\n",
       "      <th>d2018</th>\n",
       "      <th>d2019</th>\n",
       "      <th>d2020</th>\n",
       "      <th>d33</th>\n",
       "      <th>d66</th>\n",
       "      <th>dmaintain</th>\n",
       "      <th>공고번호</th>\n",
       "      <th>tenderRatio</th>\n",
       "      <th>LnCash</th>\n",
       "      <th>db2013</th>\n",
       "      <th>db2014</th>\n",
       "      <th>db2017_a</th>\n",
       "      <th>db2017_b</th>\n",
       "    </tr>\n",
       "  </thead>\n",
       "  <tbody>\n",
       "    <tr>\n",
       "      <th>2</th>\n",
       "      <td>0.77106</td>\n",
       "      <td>0</td>\n",
       "      <td>1514040000</td>\n",
       "      <td>3.00000</td>\n",
       "      <td>1</td>\n",
       "      <td>0</td>\n",
       "      <td>0</td>\n",
       "      <td>0</td>\n",
       "      <td>0</td>\n",
       "      <td>0</td>\n",
       "      <td>0</td>\n",
       "      <td>0</td>\n",
       "      <td>0</td>\n",
       "      <td>0</td>\n",
       "      <td>0</td>\n",
       "      <td>1</td>\n",
       "      <td>0</td>\n",
       "      <td>2010-1774</td>\n",
       "      <td>77.10555</td>\n",
       "      <td>21.13805</td>\n",
       "      <td>1</td>\n",
       "      <td>1</td>\n",
       "      <td>0</td>\n",
       "      <td>0</td>\n",
       "    </tr>\n",
       "    <tr>\n",
       "      <th>8</th>\n",
       "      <td>0.76853</td>\n",
       "      <td>0</td>\n",
       "      <td>1429000000</td>\n",
       "      <td>2.00000</td>\n",
       "      <td>1</td>\n",
       "      <td>0</td>\n",
       "      <td>0</td>\n",
       "      <td>0</td>\n",
       "      <td>0</td>\n",
       "      <td>0</td>\n",
       "      <td>0</td>\n",
       "      <td>0</td>\n",
       "      <td>0</td>\n",
       "      <td>0</td>\n",
       "      <td>0</td>\n",
       "      <td>1</td>\n",
       "      <td>0</td>\n",
       "      <td>2011-0647</td>\n",
       "      <td>76.85339</td>\n",
       "      <td>21.08024</td>\n",
       "      <td>1</td>\n",
       "      <td>1</td>\n",
       "      <td>0</td>\n",
       "      <td>0</td>\n",
       "    </tr>\n",
       "    <tr>\n",
       "      <th>9</th>\n",
       "      <td>0.74321</td>\n",
       "      <td>0</td>\n",
       "      <td>1346000000</td>\n",
       "      <td>2.00000</td>\n",
       "      <td>1</td>\n",
       "      <td>0</td>\n",
       "      <td>0</td>\n",
       "      <td>0</td>\n",
       "      <td>0</td>\n",
       "      <td>0</td>\n",
       "      <td>0</td>\n",
       "      <td>0</td>\n",
       "      <td>0</td>\n",
       "      <td>0</td>\n",
       "      <td>1</td>\n",
       "      <td>0</td>\n",
       "      <td>0</td>\n",
       "      <td>2011-0648</td>\n",
       "      <td>74.32124</td>\n",
       "      <td>21.02040</td>\n",
       "      <td>1</td>\n",
       "      <td>1</td>\n",
       "      <td>0</td>\n",
       "      <td>0</td>\n",
       "    </tr>\n",
       "    <tr>\n",
       "      <th>13</th>\n",
       "      <td>0.81166</td>\n",
       "      <td>0</td>\n",
       "      <td>1140700000</td>\n",
       "      <td>2.00000</td>\n",
       "      <td>1</td>\n",
       "      <td>0</td>\n",
       "      <td>0</td>\n",
       "      <td>0</td>\n",
       "      <td>0</td>\n",
       "      <td>0</td>\n",
       "      <td>0</td>\n",
       "      <td>0</td>\n",
       "      <td>0</td>\n",
       "      <td>0</td>\n",
       "      <td>1</td>\n",
       "      <td>0</td>\n",
       "      <td>0</td>\n",
       "      <td>2011-1191</td>\n",
       "      <td>81.16553</td>\n",
       "      <td>20.85491</td>\n",
       "      <td>1</td>\n",
       "      <td>1</td>\n",
       "      <td>0</td>\n",
       "      <td>0</td>\n",
       "    </tr>\n",
       "    <tr>\n",
       "      <th>35</th>\n",
       "      <td>0.81964</td>\n",
       "      <td>0</td>\n",
       "      <td>1103520000</td>\n",
       "      <td>2.00000</td>\n",
       "      <td>0</td>\n",
       "      <td>1</td>\n",
       "      <td>0</td>\n",
       "      <td>0</td>\n",
       "      <td>0</td>\n",
       "      <td>0</td>\n",
       "      <td>0</td>\n",
       "      <td>0</td>\n",
       "      <td>0</td>\n",
       "      <td>0</td>\n",
       "      <td>1</td>\n",
       "      <td>0</td>\n",
       "      <td>0</td>\n",
       "      <td>2011-2204</td>\n",
       "      <td>81.96406</td>\n",
       "      <td>20.82177</td>\n",
       "      <td>1</td>\n",
       "      <td>1</td>\n",
       "      <td>0</td>\n",
       "      <td>0</td>\n",
       "    </tr>\n",
       "    <tr>\n",
       "      <th>...</th>\n",
       "      <td>...</td>\n",
       "      <td>...</td>\n",
       "      <td>...</td>\n",
       "      <td>...</td>\n",
       "      <td>...</td>\n",
       "      <td>...</td>\n",
       "      <td>...</td>\n",
       "      <td>...</td>\n",
       "      <td>...</td>\n",
       "      <td>...</td>\n",
       "      <td>...</td>\n",
       "      <td>...</td>\n",
       "      <td>...</td>\n",
       "      <td>...</td>\n",
       "      <td>...</td>\n",
       "      <td>...</td>\n",
       "      <td>...</td>\n",
       "      <td>...</td>\n",
       "      <td>...</td>\n",
       "      <td>...</td>\n",
       "      <td>...</td>\n",
       "      <td>...</td>\n",
       "      <td>...</td>\n",
       "      <td>...</td>\n",
       "    </tr>\n",
       "    <tr>\n",
       "      <th>591</th>\n",
       "      <td>0.79326</td>\n",
       "      <td>0</td>\n",
       "      <td>2213000000</td>\n",
       "      <td>3.00000</td>\n",
       "      <td>0</td>\n",
       "      <td>0</td>\n",
       "      <td>0</td>\n",
       "      <td>0</td>\n",
       "      <td>0</td>\n",
       "      <td>0</td>\n",
       "      <td>0</td>\n",
       "      <td>0</td>\n",
       "      <td>0</td>\n",
       "      <td>0</td>\n",
       "      <td>0</td>\n",
       "      <td>1</td>\n",
       "      <td>0</td>\n",
       "      <td>B5202104046</td>\n",
       "      <td>79.32577</td>\n",
       "      <td>21.51761</td>\n",
       "      <td>0</td>\n",
       "      <td>0</td>\n",
       "      <td>0</td>\n",
       "      <td>0</td>\n",
       "    </tr>\n",
       "    <tr>\n",
       "      <th>592</th>\n",
       "      <td>0.81056</td>\n",
       "      <td>0</td>\n",
       "      <td>4138800000</td>\n",
       "      <td>2.00000</td>\n",
       "      <td>0</td>\n",
       "      <td>0</td>\n",
       "      <td>0</td>\n",
       "      <td>0</td>\n",
       "      <td>0</td>\n",
       "      <td>0</td>\n",
       "      <td>0</td>\n",
       "      <td>0</td>\n",
       "      <td>0</td>\n",
       "      <td>0</td>\n",
       "      <td>0</td>\n",
       "      <td>0</td>\n",
       "      <td>0</td>\n",
       "      <td>B5202104171</td>\n",
       "      <td>81.05565</td>\n",
       "      <td>22.14367</td>\n",
       "      <td>0</td>\n",
       "      <td>0</td>\n",
       "      <td>0</td>\n",
       "      <td>0</td>\n",
       "    </tr>\n",
       "    <tr>\n",
       "      <th>593</th>\n",
       "      <td>0.81866</td>\n",
       "      <td>0</td>\n",
       "      <td>4442000000</td>\n",
       "      <td>2.00000</td>\n",
       "      <td>0</td>\n",
       "      <td>0</td>\n",
       "      <td>0</td>\n",
       "      <td>0</td>\n",
       "      <td>0</td>\n",
       "      <td>0</td>\n",
       "      <td>0</td>\n",
       "      <td>0</td>\n",
       "      <td>0</td>\n",
       "      <td>0</td>\n",
       "      <td>0</td>\n",
       "      <td>0</td>\n",
       "      <td>0</td>\n",
       "      <td>B5202104172</td>\n",
       "      <td>81.86577</td>\n",
       "      <td>22.21437</td>\n",
       "      <td>0</td>\n",
       "      <td>0</td>\n",
       "      <td>0</td>\n",
       "      <td>0</td>\n",
       "    </tr>\n",
       "    <tr>\n",
       "      <th>594</th>\n",
       "      <td>0.82457</td>\n",
       "      <td>0</td>\n",
       "      <td>3507000000</td>\n",
       "      <td>2.00000</td>\n",
       "      <td>0</td>\n",
       "      <td>0</td>\n",
       "      <td>0</td>\n",
       "      <td>0</td>\n",
       "      <td>0</td>\n",
       "      <td>0</td>\n",
       "      <td>0</td>\n",
       "      <td>0</td>\n",
       "      <td>0</td>\n",
       "      <td>0</td>\n",
       "      <td>0</td>\n",
       "      <td>0</td>\n",
       "      <td>0</td>\n",
       "      <td>B5202104173</td>\n",
       "      <td>82.45703</td>\n",
       "      <td>21.97803</td>\n",
       "      <td>0</td>\n",
       "      <td>0</td>\n",
       "      <td>0</td>\n",
       "      <td>0</td>\n",
       "    </tr>\n",
       "    <tr>\n",
       "      <th>597</th>\n",
       "      <td>0.81188</td>\n",
       "      <td>0</td>\n",
       "      <td>4409530000</td>\n",
       "      <td>6.00000</td>\n",
       "      <td>0</td>\n",
       "      <td>0</td>\n",
       "      <td>0</td>\n",
       "      <td>0</td>\n",
       "      <td>0</td>\n",
       "      <td>0</td>\n",
       "      <td>0</td>\n",
       "      <td>0</td>\n",
       "      <td>0</td>\n",
       "      <td>0</td>\n",
       "      <td>0</td>\n",
       "      <td>0</td>\n",
       "      <td>0</td>\n",
       "      <td>B5202104292</td>\n",
       "      <td>81.18791</td>\n",
       "      <td>22.20703</td>\n",
       "      <td>0</td>\n",
       "      <td>0</td>\n",
       "      <td>0</td>\n",
       "      <td>0</td>\n",
       "    </tr>\n",
       "  </tbody>\n",
       "</table>\n",
       "<p>153 rows × 24 columns</p>\n",
       "</div>"
      ],
      "text/plain": [
       "     낙찰율(예대)  Collusion        기초금액  dnumfirm2  d2011  d2012  d2013  d2014  \\\n",
       "2    0.77106          0  1514040000    3.00000      1      0      0      0   \n",
       "8    0.76853          0  1429000000    2.00000      1      0      0      0   \n",
       "9    0.74321          0  1346000000    2.00000      1      0      0      0   \n",
       "13   0.81166          0  1140700000    2.00000      1      0      0      0   \n",
       "35   0.81964          0  1103520000    2.00000      0      1      0      0   \n",
       "..       ...        ...         ...        ...    ...    ...    ...    ...   \n",
       "591  0.79326          0  2213000000    3.00000      0      0      0      0   \n",
       "592  0.81056          0  4138800000    2.00000      0      0      0      0   \n",
       "593  0.81866          0  4442000000    2.00000      0      0      0      0   \n",
       "594  0.82457          0  3507000000    2.00000      0      0      0      0   \n",
       "597  0.81188          0  4409530000    6.00000      0      0      0      0   \n",
       "\n",
       "     d2015  d2016  d2017  d2018  d2019  d2020  d33  d66  dmaintain  \\\n",
       "2        0      0      0      0      0      0    0    1          0   \n",
       "8        0      0      0      0      0      0    0    1          0   \n",
       "9        0      0      0      0      0      0    1    0          0   \n",
       "13       0      0      0      0      0      0    1    0          0   \n",
       "35       0      0      0      0      0      0    1    0          0   \n",
       "..     ...    ...    ...    ...    ...    ...  ...  ...        ...   \n",
       "591      0      0      0      0      0      0    0    1          0   \n",
       "592      0      0      0      0      0      0    0    0          0   \n",
       "593      0      0      0      0      0      0    0    0          0   \n",
       "594      0      0      0      0      0      0    0    0          0   \n",
       "597      0      0      0      0      0      0    0    0          0   \n",
       "\n",
       "            공고번호  tenderRatio   LnCash  db2013  db2014  db2017_a  db2017_b  \n",
       "2      2010-1774     77.10555 21.13805       1       1         0         0  \n",
       "8      2011-0647     76.85339 21.08024       1       1         0         0  \n",
       "9      2011-0648     74.32124 21.02040       1       1         0         0  \n",
       "13     2011-1191     81.16553 20.85491       1       1         0         0  \n",
       "35     2011-2204     81.96406 20.82177       1       1         0         0  \n",
       "..           ...          ...      ...     ...     ...       ...       ...  \n",
       "591  B5202104046     79.32577 21.51761       0       0         0         0  \n",
       "592  B5202104171     81.05565 22.14367       0       0         0         0  \n",
       "593  B5202104172     81.86577 22.21437       0       0         0         0  \n",
       "594  B5202104173     82.45703 21.97803       0       0         0         0  \n",
       "597  B5202104292     81.18791 22.20703       0       0         0         0  \n",
       "\n",
       "[153 rows x 24 columns]"
      ]
     },
     "metadata": {},
     "output_type": "display_data"
    }
   ],
   "source": [
    "asd"
   ]
  }
 ],
 "metadata": {
  "kernelspec": {
   "display_name": "Python 3.7.11 ('energy')",
   "language": "python",
   "name": "python3"
  },
  "language_info": {
   "codemirror_mode": {
    "name": "ipython",
    "version": 3
   },
   "file_extension": ".py",
   "mimetype": "text/x-python",
   "name": "python",
   "nbconvert_exporter": "python",
   "pygments_lexer": "ipython3",
   "version": "3.7.11"
  },
  "orig_nbformat": 4,
  "vscode": {
   "interpreter": {
    "hash": "4bfb10b5d9ce7566c5a8d7bf9a9a0f913b2bed9b3c98c584ca64da14a413cda6"
   }
  }
 },
 "nbformat": 4,
 "nbformat_minor": 2
}
